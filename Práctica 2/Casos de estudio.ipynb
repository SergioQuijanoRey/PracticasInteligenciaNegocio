{
 "cells": [
  {
   "cell_type": "markdown",
   "id": "a95e3d89-7740-4f1f-97c8-b2e35232619b",
   "metadata": {},
   "source": [
    "# Importando los paquetes que vamos a usar"
   ]
  },
  {
   "cell_type": "code",
   "execution_count": 1,
   "id": "dbed4aee-0431-4cbd-a176-4a0e558784e4",
   "metadata": {},
   "outputs": [],
   "source": [
    "import matplotlib.pyplot as plt\n",
    "import numpy as np\n",
    "import pandas as pd\n",
    "import seaborn as sns\n",
    "\n",
    "# Algoritmos de clusterizacion\n",
    "from sklearn.cluster import KMeans"
   ]
  },
  {
   "cell_type": "markdown",
   "id": "7bfc3d1f-df97-40b8-9724-c9af7ed7546a",
   "metadata": {},
   "source": [
    "# Carga de los datos"
   ]
  },
  {
   "cell_type": "code",
   "execution_count": 2,
   "id": "42da44ec-e6dd-440b-862c-bc8ef2cb4f78",
   "metadata": {},
   "outputs": [],
   "source": [
    "base_path = \"dataset/datos_hogar_2020.csv\"\n",
    "df_global = pd.read_csv(base_path)"
   ]
  },
  {
   "cell_type": "markdown",
   "id": "95387038-17b3-457d-9cbc-9a18b75d46f7",
   "metadata": {},
   "source": [
    "# Funciones comunes a todos los casos de estudio"
   ]
  },
  {
   "cell_type": "markdown",
   "id": "18a67181-ce89-4423-8d7f-253d7ed71596",
   "metadata": {},
   "source": [
    "Definimos en esta sección las funciones que vamos a usar a lo largo de todos los casos de estudio:"
   ]
  },
  {
   "cell_type": "code",
   "execution_count": 3,
   "id": "36fa95f9-42de-4564-95b3-6251c6c0bf76",
   "metadata": {},
   "outputs": [],
   "source": [
    "def compute_kmeans(df: pd.DataFrame, number_clusters: int = 3) -> np.array:\n",
    "    \"\"\"\n",
    "    Dado un dataframe con los datos a clusterizar, calcula el vector con las\n",
    "    etiquetas de la clusterizacion kmeans\n",
    "    \"\"\"\n",
    "    \n",
    "    kmeans = KMeans(n_clusters = number_clusters, random_state=0).fit(df)\n",
    "    return kmeans.labels_\n",
    "\n",
    "def add_kmeans_labels(df: pd.DataFrame, number_clusters: int = 3) -> pd.DataFrame:\n",
    "    \"\"\"\n",
    "    Dado un dataframe, devuelve el dataframe con una columna adicional con las \n",
    "    etiquetas de kmeans\n",
    "    \"\"\"\n",
    "    \n",
    "    labels = compute_kmeans(df, number_clusters)\n",
    "    new_df = df.copy()\n",
    "    new_df[\"label_kmeans\"] = labels\n",
    "    return new_df"
   ]
  },
  {
   "cell_type": "markdown",
   "id": "aba84385-a7a9-4d90-97c2-bfb283599c76",
   "metadata": {},
   "source": [
    "# Filtrado previo del dataset global"
   ]
  },
  {
   "cell_type": "markdown",
   "id": "eee3c924-0337-4dba-b464-ab4c3ae0ddf3",
   "metadata": {},
   "source": [
    "Definimos en variables todas las columnas que, al leer el documento explicando el *dataset*, nos han resultado de interés. Una vez hecho esto, filtramos el *dataset* global para quedarnos solo con esas columnas, pues el resto no las vamos a usar en ningún caso de estudio. Es más, muchas de estas columnas no las usaremos en ninguno de los tres casos de estudio."
   ]
  },
  {
   "cell_type": "code",
   "execution_count": 4,
   "id": "b1b6d05a-daff-423b-96a3-2d52e2a0c1a0",
   "metadata": {},
   "outputs": [],
   "source": [
    "# Definimos las columnas con las que nos vamos a quedar\n",
    "renta_disponible_total_hogar = \"HY020\"\n",
    "renta_ganada_alquilando = \"HY040N\"\n",
    "ayuda_para_vivienda = \"HY070N\"\n",
    "inversiones_de_capital = \"HY090N\"\n",
    "retraso_pago_hipoteca_o_alquiler = \"HS011\"\n",
    "retraso_pago_luz_agua_gas = \"HS021\"\n",
    "retraso_pago_prestamos = \"HS031\"\n",
    "capacidad_hogar_llegar_fin_mes = \"HS120\"\n",
    "ingresos_minimos_para_llegar_fin_mes = \"HS130\"\n",
    "vandalismo_en_la_zona = \"HS190\"\n",
    "comunidad_autonoma = \"DB040\"\n",
    "\n",
    "tipo_de_vivienda = \"HH010\"\n",
    "regimen_de_tenencia_vivienda = \"HH021\"\n",
    "habitaciones_vivienda = \"HH030\"\n",
    "\n",
    "pidio_ayuda_economica_familiares = \"H39A_U\"\n",
    "pidio_ayuda_economica_entidad = \"H39B_U\"\n",
    "corte_energia = \"H38A_U\"\n",
    "\n",
    "numero_miembros_hogar = \"HX040\"\n",
    "tipo_de_hogar = \"HX060\" # Variable numerica categorica con muchos valores posibles\n",
    "hogar_en_riesgo_pobreza = \"vhPobreza\"\n",
    "hogar_carencia_material_severa = \"vhMATDEP\"\n",
    "\n",
    "proposito_prestamos = lambda i: f\"HI100_{i}\"\n",
    "\n",
    "cuota_hipoteca = \"cuotahip\"\n",
    "\n",
    "# TODO -- estas variables no las tenemos disponibles en el dataset\n",
    "#gasto_en_comida = \"HC010\"\n",
    "#gasto_en_comida_bebida_fuera_casa = \"HC020\"\n",
    "#gasto_transporte_publico = \"HC030\"\n",
    "#gasto_transporte_privado = \"HC040\"\n",
    "#viviendas_adicionales = \"HV020\"\n",
    "#año_nacimiento = \"PB140\"\n",
    "#sexo = \"PB150\"\n",
    "\n",
    "# Filtramos todo el dataframe global para usar solo variables que en una primera\n",
    "# lectura de las variables hemos considerado interesantes\n",
    "df_global = df_global[[\n",
    "    renta_disponible_total_hogar,\n",
    "    renta_ganada_alquilando,\n",
    "    ayuda_para_vivienda,\n",
    "    inversiones_de_capital,\n",
    "    retraso_pago_hipoteca_o_alquiler,\n",
    "    retraso_pago_luz_agua_gas,\n",
    "    retraso_pago_prestamos,\n",
    "    capacidad_hogar_llegar_fin_mes,\n",
    "    ingresos_minimos_para_llegar_fin_mes,\n",
    "    vandalismo_en_la_zona,\n",
    "    tipo_de_vivienda,\n",
    "    regimen_de_tenencia_vivienda,\n",
    "    habitaciones_vivienda,   \n",
    "    pidio_ayuda_economica_familiares,\n",
    "    pidio_ayuda_economica_entidad,\n",
    "    corte_energia,\n",
    "    numero_miembros_hogar,\n",
    "    tipo_de_hogar,\n",
    "    hogar_en_riesgo_pobreza,\n",
    "    hogar_carencia_material_severa,\n",
    "    comunidad_autonoma,\n",
    "\n",
    "\n",
    "    \n",
    "    # TODO -- borrar los propositos porque no parecen muy relevantes\n",
    "    proposito_prestamos(1),\n",
    "    proposito_prestamos(2),\n",
    "    proposito_prestamos(3),\n",
    "    proposito_prestamos(4),\n",
    "    proposito_prestamos(5),\n",
    "    proposito_prestamos(6),\n",
    "    proposito_prestamos(7),\n",
    "    proposito_prestamos(8),\n",
    "    proposito_prestamos(9),  \n",
    "    \n",
    "    cuota_hipoteca,\n",
    "]]"
   ]
  },
  {
   "cell_type": "markdown",
   "id": "07c3a8ee-b15b-4d78-b5a5-1f39efa6f698",
   "metadata": {},
   "source": [
    "Veamos con qué tipo de datos nos hemos quedado:"
   ]
  },
  {
   "cell_type": "code",
   "execution_count": 5,
   "id": "6fc5adfa-469e-4a51-bcad-e71578236f26",
   "metadata": {},
   "outputs": [
    {
     "data": {
      "text/html": [
       "<div>\n",
       "<style scoped>\n",
       "    .dataframe tbody tr th:only-of-type {\n",
       "        vertical-align: middle;\n",
       "    }\n",
       "\n",
       "    .dataframe tbody tr th {\n",
       "        vertical-align: top;\n",
       "    }\n",
       "\n",
       "    .dataframe thead th {\n",
       "        text-align: right;\n",
       "    }\n",
       "</style>\n",
       "<table border=\"1\" class=\"dataframe\">\n",
       "  <thead>\n",
       "    <tr style=\"text-align: right;\">\n",
       "      <th></th>\n",
       "      <th>HY020</th>\n",
       "      <th>HY040N</th>\n",
       "      <th>HY070N</th>\n",
       "      <th>HY090N</th>\n",
       "      <th>HS011</th>\n",
       "      <th>HS021</th>\n",
       "      <th>HS031</th>\n",
       "      <th>HS120</th>\n",
       "      <th>HS130</th>\n",
       "      <th>HS190</th>\n",
       "      <th>...</th>\n",
       "      <th>HI100_1</th>\n",
       "      <th>HI100_2</th>\n",
       "      <th>HI100_3</th>\n",
       "      <th>HI100_4</th>\n",
       "      <th>HI100_5</th>\n",
       "      <th>HI100_6</th>\n",
       "      <th>HI100_7</th>\n",
       "      <th>HI100_8</th>\n",
       "      <th>HI100_9</th>\n",
       "      <th>cuotahip</th>\n",
       "    </tr>\n",
       "  </thead>\n",
       "  <tbody>\n",
       "    <tr>\n",
       "      <th>count</th>\n",
       "      <td>15043.000000</td>\n",
       "      <td>15043.000000</td>\n",
       "      <td>15043.000000</td>\n",
       "      <td>15043.000000</td>\n",
       "      <td>6538.000000</td>\n",
       "      <td>14972.000000</td>\n",
       "      <td>3874.000000</td>\n",
       "      <td>15029.000000</td>\n",
       "      <td>14577.000000</td>\n",
       "      <td>15036.000000</td>\n",
       "      <td>...</td>\n",
       "      <td>3907.000000</td>\n",
       "      <td>3906.000000</td>\n",
       "      <td>3906.000000</td>\n",
       "      <td>3906.000000</td>\n",
       "      <td>3906.000000</td>\n",
       "      <td>3906.000000</td>\n",
       "      <td>3906.000000</td>\n",
       "      <td>3905.000000</td>\n",
       "      <td>3905.000000</td>\n",
       "      <td>3949.000000</td>\n",
       "    </tr>\n",
       "    <tr>\n",
       "      <th>mean</th>\n",
       "      <td>31923.953455</td>\n",
       "      <td>597.200527</td>\n",
       "      <td>44.600766</td>\n",
       "      <td>439.817903</td>\n",
       "      <td>2.858978</td>\n",
       "      <td>2.911969</td>\n",
       "      <td>2.864481</td>\n",
       "      <td>3.600905</td>\n",
       "      <td>1863.563628</td>\n",
       "      <td>1.861599</td>\n",
       "      <td>...</td>\n",
       "      <td>1.741234</td>\n",
       "      <td>1.536354</td>\n",
       "      <td>1.988223</td>\n",
       "      <td>1.934460</td>\n",
       "      <td>1.975678</td>\n",
       "      <td>1.903226</td>\n",
       "      <td>1.937532</td>\n",
       "      <td>1.978745</td>\n",
       "      <td>1.820743</td>\n",
       "      <td>472.389466</td>\n",
       "    </tr>\n",
       "    <tr>\n",
       "      <th>std</th>\n",
       "      <td>22626.484550</td>\n",
       "      <td>2487.349778</td>\n",
       "      <td>489.955873</td>\n",
       "      <td>3229.657848</td>\n",
       "      <td>0.420883</td>\n",
       "      <td>0.336180</td>\n",
       "      <td>0.411509</td>\n",
       "      <td>1.277720</td>\n",
       "      <td>1052.184371</td>\n",
       "      <td>0.345332</td>\n",
       "      <td>...</td>\n",
       "      <td>0.438013</td>\n",
       "      <td>0.498740</td>\n",
       "      <td>0.107894</td>\n",
       "      <td>0.247508</td>\n",
       "      <td>0.154065</td>\n",
       "      <td>0.295688</td>\n",
       "      <td>0.242035</td>\n",
       "      <td>0.144251</td>\n",
       "      <td>0.383617</td>\n",
       "      <td>278.946452</td>\n",
       "    </tr>\n",
       "    <tr>\n",
       "      <th>min</th>\n",
       "      <td>-36233.200000</td>\n",
       "      <td>0.000000</td>\n",
       "      <td>0.000000</td>\n",
       "      <td>0.000000</td>\n",
       "      <td>1.000000</td>\n",
       "      <td>1.000000</td>\n",
       "      <td>1.000000</td>\n",
       "      <td>1.000000</td>\n",
       "      <td>1.000000</td>\n",
       "      <td>1.000000</td>\n",
       "      <td>...</td>\n",
       "      <td>1.000000</td>\n",
       "      <td>1.000000</td>\n",
       "      <td>1.000000</td>\n",
       "      <td>1.000000</td>\n",
       "      <td>1.000000</td>\n",
       "      <td>1.000000</td>\n",
       "      <td>1.000000</td>\n",
       "      <td>1.000000</td>\n",
       "      <td>1.000000</td>\n",
       "      <td>1.000000</td>\n",
       "    </tr>\n",
       "    <tr>\n",
       "      <th>25%</th>\n",
       "      <td>16505.950000</td>\n",
       "      <td>0.000000</td>\n",
       "      <td>0.000000</td>\n",
       "      <td>0.000000</td>\n",
       "      <td>3.000000</td>\n",
       "      <td>3.000000</td>\n",
       "      <td>3.000000</td>\n",
       "      <td>3.000000</td>\n",
       "      <td>1200.000000</td>\n",
       "      <td>2.000000</td>\n",
       "      <td>...</td>\n",
       "      <td>1.000000</td>\n",
       "      <td>1.000000</td>\n",
       "      <td>2.000000</td>\n",
       "      <td>2.000000</td>\n",
       "      <td>2.000000</td>\n",
       "      <td>2.000000</td>\n",
       "      <td>2.000000</td>\n",
       "      <td>2.000000</td>\n",
       "      <td>2.000000</td>\n",
       "      <td>300.000000</td>\n",
       "    </tr>\n",
       "    <tr>\n",
       "      <th>50%</th>\n",
       "      <td>27535.710000</td>\n",
       "      <td>0.000000</td>\n",
       "      <td>0.000000</td>\n",
       "      <td>0.000000</td>\n",
       "      <td>3.000000</td>\n",
       "      <td>3.000000</td>\n",
       "      <td>3.000000</td>\n",
       "      <td>4.000000</td>\n",
       "      <td>1600.000000</td>\n",
       "      <td>2.000000</td>\n",
       "      <td>...</td>\n",
       "      <td>2.000000</td>\n",
       "      <td>2.000000</td>\n",
       "      <td>2.000000</td>\n",
       "      <td>2.000000</td>\n",
       "      <td>2.000000</td>\n",
       "      <td>2.000000</td>\n",
       "      <td>2.000000</td>\n",
       "      <td>2.000000</td>\n",
       "      <td>2.000000</td>\n",
       "      <td>412.000000</td>\n",
       "    </tr>\n",
       "    <tr>\n",
       "      <th>75%</th>\n",
       "      <td>41390.350000</td>\n",
       "      <td>0.000000</td>\n",
       "      <td>0.000000</td>\n",
       "      <td>31.800000</td>\n",
       "      <td>3.000000</td>\n",
       "      <td>3.000000</td>\n",
       "      <td>3.000000</td>\n",
       "      <td>5.000000</td>\n",
       "      <td>2200.000000</td>\n",
       "      <td>2.000000</td>\n",
       "      <td>...</td>\n",
       "      <td>2.000000</td>\n",
       "      <td>2.000000</td>\n",
       "      <td>2.000000</td>\n",
       "      <td>2.000000</td>\n",
       "      <td>2.000000</td>\n",
       "      <td>2.000000</td>\n",
       "      <td>2.000000</td>\n",
       "      <td>2.000000</td>\n",
       "      <td>2.000000</td>\n",
       "      <td>580.000000</td>\n",
       "    </tr>\n",
       "    <tr>\n",
       "      <th>max</th>\n",
       "      <td>349862.130000</td>\n",
       "      <td>70271.000000</td>\n",
       "      <td>21600.000000</td>\n",
       "      <td>95460.200000</td>\n",
       "      <td>3.000000</td>\n",
       "      <td>3.000000</td>\n",
       "      <td>3.000000</td>\n",
       "      <td>6.000000</td>\n",
       "      <td>60000.000000</td>\n",
       "      <td>2.000000</td>\n",
       "      <td>...</td>\n",
       "      <td>2.000000</td>\n",
       "      <td>2.000000</td>\n",
       "      <td>2.000000</td>\n",
       "      <td>2.000000</td>\n",
       "      <td>2.000000</td>\n",
       "      <td>2.000000</td>\n",
       "      <td>2.000000</td>\n",
       "      <td>2.000000</td>\n",
       "      <td>2.000000</td>\n",
       "      <td>6800.000000</td>\n",
       "    </tr>\n",
       "  </tbody>\n",
       "</table>\n",
       "<p>8 rows × 30 columns</p>\n",
       "</div>"
      ],
      "text/plain": [
       "               HY020        HY040N        HY070N        HY090N        HS011  \\\n",
       "count   15043.000000  15043.000000  15043.000000  15043.000000  6538.000000   \n",
       "mean    31923.953455    597.200527     44.600766    439.817903     2.858978   \n",
       "std     22626.484550   2487.349778    489.955873   3229.657848     0.420883   \n",
       "min    -36233.200000      0.000000      0.000000      0.000000     1.000000   \n",
       "25%     16505.950000      0.000000      0.000000      0.000000     3.000000   \n",
       "50%     27535.710000      0.000000      0.000000      0.000000     3.000000   \n",
       "75%     41390.350000      0.000000      0.000000     31.800000     3.000000   \n",
       "max    349862.130000  70271.000000  21600.000000  95460.200000     3.000000   \n",
       "\n",
       "              HS021        HS031         HS120         HS130         HS190  \\\n",
       "count  14972.000000  3874.000000  15029.000000  14577.000000  15036.000000   \n",
       "mean       2.911969     2.864481      3.600905   1863.563628      1.861599   \n",
       "std        0.336180     0.411509      1.277720   1052.184371      0.345332   \n",
       "min        1.000000     1.000000      1.000000      1.000000      1.000000   \n",
       "25%        3.000000     3.000000      3.000000   1200.000000      2.000000   \n",
       "50%        3.000000     3.000000      4.000000   1600.000000      2.000000   \n",
       "75%        3.000000     3.000000      5.000000   2200.000000      2.000000   \n",
       "max        3.000000     3.000000      6.000000  60000.000000      2.000000   \n",
       "\n",
       "       ...      HI100_1      HI100_2      HI100_3      HI100_4      HI100_5  \\\n",
       "count  ...  3907.000000  3906.000000  3906.000000  3906.000000  3906.000000   \n",
       "mean   ...     1.741234     1.536354     1.988223     1.934460     1.975678   \n",
       "std    ...     0.438013     0.498740     0.107894     0.247508     0.154065   \n",
       "min    ...     1.000000     1.000000     1.000000     1.000000     1.000000   \n",
       "25%    ...     1.000000     1.000000     2.000000     2.000000     2.000000   \n",
       "50%    ...     2.000000     2.000000     2.000000     2.000000     2.000000   \n",
       "75%    ...     2.000000     2.000000     2.000000     2.000000     2.000000   \n",
       "max    ...     2.000000     2.000000     2.000000     2.000000     2.000000   \n",
       "\n",
       "           HI100_6      HI100_7      HI100_8      HI100_9     cuotahip  \n",
       "count  3906.000000  3906.000000  3905.000000  3905.000000  3949.000000  \n",
       "mean      1.903226     1.937532     1.978745     1.820743   472.389466  \n",
       "std       0.295688     0.242035     0.144251     0.383617   278.946452  \n",
       "min       1.000000     1.000000     1.000000     1.000000     1.000000  \n",
       "25%       2.000000     2.000000     2.000000     2.000000   300.000000  \n",
       "50%       2.000000     2.000000     2.000000     2.000000   412.000000  \n",
       "75%       2.000000     2.000000     2.000000     2.000000   580.000000  \n",
       "max       2.000000     2.000000     2.000000     2.000000  6800.000000  \n",
       "\n",
       "[8 rows x 30 columns]"
      ]
     },
     "execution_count": 5,
     "metadata": {},
     "output_type": "execute_result"
    }
   ],
   "source": [
    "df_global.describe()"
   ]
  },
  {
   "cell_type": "markdown",
   "id": "9330a603-a320-484d-a079-74f8f4a22746",
   "metadata": {},
   "source": [
    "# Variables añadidas\n",
    "\n",
    "También queremos usar variables agregadas usando las variables en bruto que ya tenemos en el dataset. "
   ]
  },
  {
   "cell_type": "markdown",
   "id": "9eeafc14-27bf-4e81-9f37-fbe862fb7335",
   "metadata": {},
   "source": [
    "Tenemos tres tipos de variable que nos indican si pidieron ayuda a algún ente, divididas en tres tipos de ente. Nos interesa solo si pidieron ayuda, no a quién"
   ]
  },
  {
   "cell_type": "code",
   "execution_count": 6,
   "id": "20f42a49-f8b9-4978-be4a-c4150fb2f567",
   "metadata": {},
   "outputs": [],
   "source": [
    "def pidio_ayuda_condicion(ayuda_familiar, ayuda_entidad):\n",
    "    \"\"\"Comprueba si, dadas las columnas de ayuda familiar y ayuda de entidad,\n",
    "    se pidio ayuda o no se pidio\"\"\"\n",
    "    \n",
    "    if ayuda_familiar == 1 or ayuda_entidad == 1:\n",
    "        return True\n",
    "    else:\n",
    "        return False\n",
    "\n",
    "\n",
    "\n",
    "# Añadimos la nueva columna usando la condicion que hemos definido previamente\n",
    "pidio_ayuda = \"pidio_ayuda\"\n",
    "df_global[pidio_ayuda] = df_global.apply(lambda row: pidio_ayuda_condicion(row[pidio_ayuda_economica_familiares], row[pidio_ayuda_economica_entidad]), axis = 1)"
   ]
  },
  {
   "cell_type": "markdown",
   "id": "489cb14b-aa7a-4e7f-aa61-0314380ed64d",
   "metadata": {},
   "source": [
    "Queremos tener una variable en la que dispongamos del dinero que le queda a una familia, de la forma $total\\_ingresos - total\\_gastos$ "
   ]
  },
  {
   "cell_type": "code",
   "execution_count": 7,
   "id": "b4902d4f-0340-4d99-bffd-28f704c9439a",
   "metadata": {},
   "outputs": [],
   "source": [
    "# TODO -- implementar esto"
   ]
  },
  {
   "cell_type": "markdown",
   "id": "428a3094-c7d2-4da9-a16c-b5a8e9a3bca7",
   "metadata": {},
   "source": [
    "Añadimos una variable que recoja si ha habido retraso en cualquier tipo de pago:"
   ]
  },
  {
   "cell_type": "code",
   "execution_count": 8,
   "id": "af2211a1-39cc-4f46-a859-7e8abd285e60",
   "metadata": {},
   "outputs": [],
   "source": [
    "def retraso_pagando(retraso_hipoteca, retraso_luz_agua, retraso_prestamos):\n",
    "    \"\"\"Comprueba si hubo algun retraso en cualquier tipo de pago\"\"\"\n",
    "    \n",
    "    # Hubo retraso en la hipoteca\n",
    "    if retraso_hipoteca is not None and retraso_hipoteca != 3:\n",
    "        return 1\n",
    "    \n",
    "    # Hubo retraso en la luz o el agua\n",
    "    if retraso_luz_agua is not None and retraso_luz_agua != 3:\n",
    "        return 1\n",
    "    \n",
    "    # Hubo retraso en algun prestamo\n",
    "    if retraso_prestamos is not None and retraso_prestamos != 3:\n",
    "        return 1\n",
    "\n",
    "    # No hubo retraso en ningun apartado\n",
    "    return 0\n",
    "\n",
    "\n",
    "# Añadimos la nueva columna usando la condicion que hemos definido previamente\n",
    "retraso_pago = \"retraso_pago\"\n",
    "df_global[retraso_pago] = df_global.apply(lambda row: retraso_pagando(row[retraso_pago_hipoteca_o_alquiler], row[retraso_pago_luz_agua_gas], row[retraso_pago_prestamos]), axis = 1)"
   ]
  },
  {
   "cell_type": "markdown",
   "id": "8a6ac45c-7f60-44e6-b846-a31305ee9672",
   "metadata": {},
   "source": [
    "Añadimos el nombre real de las comunidades autonomas:"
   ]
  },
  {
   "cell_type": "code",
   "execution_count": 9,
   "id": "d3cd1a8b-7f28-4d79-8f06-41ef67a7c490",
   "metadata": {},
   "outputs": [],
   "source": [
    "def map_nombre_comunidad(code_name):\n",
    "    \"\"\"Transformamos el codigo de la comunidad autonoma a su nombre real\"\"\"\n",
    "    map_code_to_name = {\n",
    "        \"ES11\": \"Galicia\", \n",
    "        \"ES12\": \"Principado de Asturias\" , \n",
    "        \"ES13\": \"Cantabria\" , \n",
    "        \"ES21\": \"País Vasco\" , \n",
    "        \"ES22\": \"Comunidad Foral de Navarra\" , \n",
    "        \"ES23\": \"La Rioja\" , \n",
    "        \"ES24\": \"Aragón\" , \n",
    "        \"ES30\": \"Madrid\" , \n",
    "        \"ES41\": \"Castilla y Leon\" , \n",
    "        \"ES42\": \"Castilla-La Mancha\" , \n",
    "        \"ES43\": \"Extremadura\", \n",
    "        \"ES51\": \"Cataluña\" , \n",
    "        \"ES52\": \"Comunidad Valenciana\" , \n",
    "        \"ES53\": \"Illes Balears\" , \n",
    "        \"ES61\": \"Andalucía\" , \n",
    "        \"ES62\": \"Región de Murcia\" , \n",
    "        \"ES63\": \"Ceuta\" , \n",
    "        \"ES64\": \"Melilla\" , \n",
    "        \"ES70\": \"Canarias\" , \n",
    "        \"ESZZ\": \"Externo\" , \n",
    "    }\n",
    "    \n",
    "    return map_code_to_name[code_name]\n",
    "\n",
    "df_global[comunidad_autonoma] = df_global.apply(lambda row: map_nombre_comunidad(row[comunidad_autonoma]), axis = 1)"
   ]
  },
  {
   "cell_type": "markdown",
   "id": "37fedc4d-f774-4fce-a571-95b512f4df6c",
   "metadata": {},
   "source": [
    "# Caso de estudio 01"
   ]
  },
  {
   "cell_type": "markdown",
   "id": "fb701297-a55a-4bf8-a8f1-35701ebef77d",
   "metadata": {},
   "source": [
    "## Definición del caso de estudio\n",
    "\n",
    "En este caso de estudio queremos poner nuestra atención en aquellas personas que tuvieron algún retraso en cualquier tipo de pago. Usamos la variable que hemos definido previamente como agregado de los dos tipos de *retraso en el pago*."
   ]
  },
  {
   "cell_type": "code",
   "execution_count": 10,
   "id": "0bf198ee-1af6-4db0-a101-58c8d7204b75",
   "metadata": {},
   "outputs": [],
   "source": [
    "# Tomamos los datos de aquellos hogares que pidieron ayuda economica\n",
    "df_first = df_global[df_global[retraso_pago] == 1]\n",
    "\n",
    "# Nos quedamos con las columnas que nos interesan para este caso de estudio\n",
    "columnas_interesantes = [\n",
    "    renta_disponible_total_hogar,\n",
    "    #ayuda_para_vivienda,\n",
    "    #vandalismo_en_la_zona,\n",
    "    #comunidad_autonoma,\n",
    "    ingresos_minimos_para_llegar_fin_mes,\n",
    "]\n",
    "df_first = df_first[columnas_interesantes]\n",
    "\n",
    "# Renombramos algunas columnas\n",
    "df_first = df_first.rename(columns = {\n",
    "    renta_disponible_total_hogar: \"renta_disponible_hogar\",\n",
    "    #ayuda_para_vivienda: \"ayuda_para_vivienda\",\n",
    "    #vandalismo_en_la_zona: \"vandalismo_en_la_zona\",\n",
    "    #comunidad_autonoma: \"comunidad_autonoma\",\n",
    "    ingresos_minimos_para_llegar_fin_mes: \"ingresos_minimos_para_llegar_fin_mes\"\n",
    "})"
   ]
  },
  {
   "cell_type": "markdown",
   "id": "24d9f232-3f2e-440f-8393-11d90eba44aa",
   "metadata": {},
   "source": [
    "## Preprocesado de los datos"
   ]
  },
  {
   "cell_type": "markdown",
   "id": "902e4aa2-60ce-4075-8b78-3852b1834a84",
   "metadata": {},
   "source": [
    "Ahora que hemos seleccionado las variables, borramos aquellas filas en las que tengamos algún valor NaN:"
   ]
  },
  {
   "cell_type": "code",
   "execution_count": 11,
   "id": "4f5721ed-74c6-432b-a16b-e130ddf91f86",
   "metadata": {},
   "outputs": [],
   "source": [
    "df_first = df_first.dropna()"
   ]
  },
  {
   "cell_type": "markdown",
   "id": "f57b7b04-6a2b-41e7-a66e-d3e429a92462",
   "metadata": {},
   "source": [
    "## Análisis exploratorio de datos"
   ]
  },
  {
   "cell_type": "markdown",
   "id": "be3976ee-c536-414e-8e92-2e45f2faa632",
   "metadata": {},
   "source": [
    "Antes de comenzar con el cálculo de *clusters*, realizamos un análisis exploratorio de datos previo. Empezamos mostrando las gráficas entre las variables con las que trabajamos, dos a dos. "
   ]
  },
  {
   "cell_type": "code",
   "execution_count": 12,
   "id": "186b6a97-d5a2-47a4-a416-20fe97819724",
   "metadata": {},
   "outputs": [
    {
     "data": {
      "text/plain": [
       "<seaborn.axisgrid.PairGrid at 0x7f8ae8fb40a0>"
      ]
     },
     "execution_count": 12,
     "metadata": {},
     "output_type": "execute_result"
    },
    {
     "data": {
      "image/png": "[encoded data removed]",
      "text/plain": [
       "<Figure size 360x360 with 6 Axes>"
      ]
     },
     "metadata": {
      "needs_background": "light"
     },
     "output_type": "display_data"
    }
   ],
   "source": [
    "sns.pairplot(df_first)"
   ]
  },
  {
   "cell_type": "markdown",
   "id": "5eb456ce-ba30-402b-aed3-d52774e13361",
   "metadata": {},
   "source": [
    "## Aplicamos algoritmos de clustering"
   ]
  },
  {
   "cell_type": "markdown",
   "id": "fc8f7972-d85f-4360-a6d2-0a78bd8d1a70",
   "metadata": {},
   "source": [
    "Empezamos aplicando el algoritmo `k-means`:"
   ]
  },
  {
   "cell_type": "code",
   "execution_count": 15,
   "id": "c354d4c5-7454-48b4-87c7-a6db5c44b469",
   "metadata": {},
   "outputs": [
    {
     "data": {
      "text/plain": [
       "<seaborn.axisgrid.PairGrid at 0x7f8b2dffa100>"
      ]
     },
     "execution_count": 15,
     "metadata": {},
     "output_type": "execute_result"
    },
    {
     "data": {
      "image/png": "[encoded data removed]",
      "text/plain": [
       "<Figure size 436.5x360 with 6 Axes>"
      ]
     },
     "metadata": {
      "needs_background": "light"
     },
     "output_type": "display_data"
    }
   ],
   "source": [
    "df_first = add_kmeans_labels(df_first, 10)\n",
    "sns.pairplot(df_first, hue = \"label_kmeans\")"
   ]
  },
  {
   "cell_type": "code",
   "execution_count": null,
   "id": "9ed40ca5-056d-4a35-8eda-db33b4783b78",
   "metadata": {},
   "outputs": [],
   "source": []
  }
 ],
 "metadata": {
  "kernelspec": {
   "display_name": "Python 3 (ipykernel)",
   "language": "python",
   "name": "python3"
  },
  "language_info": {
   "codemirror_mode": {
    "name": "ipython",
    "version": 3
   },
   "file_extension": ".py",
   "mimetype": "text/x-python",
   "name": "python",
   "nbconvert_exporter": "python",
   "pygments_lexer": "ipython3",
   "version": "3.9.9"
  }
 },
 "nbformat": 4,
 "nbformat_minor": 5
}

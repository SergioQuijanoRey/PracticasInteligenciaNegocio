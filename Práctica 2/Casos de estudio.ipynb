{
 "cells": [
  {
   "cell_type": "markdown",
   "id": "a95e3d89-7740-4f1f-97c8-b2e35232619b",
   "metadata": {},
   "source": [
    "# Importando los paquetes que vamos a usar"
   ]
  },
  {
   "cell_type": "code",
   "execution_count": 1,
   "id": "dbed4aee-0431-4cbd-a176-4a0e558784e4",
   "metadata": {},
   "outputs": [],
   "source": [
    "import matplotlib.pyplot as plt\n",
    "import numpy as np\n",
    "import pandas as pd\n",
    "import seaborn as sns\n",
    "from pprint import pprint\n",
    "from time import time\n",
    "\n",
    "# Algoritmos de clusterizacion\n",
    "from sklearn.cluster import KMeans\n",
    "from sklearn.cluster import DBSCAN\n",
    "from sklearn.cluster import Birch\n",
    "from sklearn.cluster import MeanShift\n",
    "from sklearn.cluster import AgglomerativeClustering\n",
    "\n",
    "# Para reducir dimensionalidad\n",
    "from sklearn.decomposition import PCA\n",
    "from sklearn.manifold import TSNE\n",
    "\n",
    "# Metricas de los clusters\n",
    "from sklearn import metrics\n",
    "from sklearn.metrics import pairwise_distances\n",
    "\n",
    "# Para la anotacion de tipos\n",
    "from typing import Callable, List, Dict, Tuple"
   ]
  },
  {
   "cell_type": "markdown",
   "id": "7bfc3d1f-df97-40b8-9724-c9af7ed7546a",
   "metadata": {},
   "source": [
    "# Carga de los datos"
   ]
  },
  {
   "cell_type": "code",
   "execution_count": 2,
   "id": "42da44ec-e6dd-440b-862c-bc8ef2cb4f78",
   "metadata": {},
   "outputs": [],
   "source": [
    "base_path = \"dataset/datos_hogar_2020.csv\"\n",
    "df_global = pd.read_csv(base_path)"
   ]
  },
  {
   "cell_type": "markdown",
   "id": "95387038-17b3-457d-9cbc-9a18b75d46f7",
   "metadata": {},
   "source": [
    "# Funciones comunes a todos los casos de estudio"
   ]
  },
  {
   "cell_type": "markdown",
   "id": "18a67181-ce89-4423-8d7f-253d7ed71596",
   "metadata": {},
   "source": [
    "Definimos en esta sección las funciones que vamos a usar a lo largo de todos los casos de estudio:"
   ]
  },
  {
   "cell_type": "code",
   "execution_count": 3,
   "id": "39475b82-1d23-492f-a0a0-35687ab7ad3c",
   "metadata": {},
   "outputs": [],
   "source": [
    "def drop_columns(df: pd.DataFrame, exclude_columns: List[str] = None) -> pd.DataFrame:\n",
    "    \"\"\"\n",
    "    Dada una lista con columnas a excluir, devuelve un nuevo dataframe en el que \n",
    "    hemos quitado estas columnas. Si exclude_columns es None, no se hace nada.\n",
    "    \n",
    "    En ningun caso se modifica df, se hace una copia de este y se opera con \n",
    "    dicha copia\n",
    "    \"\"\"\n",
    "    \n",
    "    # Hacemos una copia del dataframe\n",
    "    df_filtered = df.copy()\n",
    "    \n",
    "    # Excluimos las columnas en caso de que se haya pasado una lista no None\n",
    "    if exclude_columns is not None:\n",
    "        df_filtered = df_filtered.drop(columns = exclude_columns)\n",
    "    \n",
    "    # Devolvemos el dataframe copia filtrado\n",
    "    return df_filtered"
   ]
  },
  {
   "cell_type": "markdown",
   "id": "918d3036-0d2a-42b9-8968-202f72d6c61d",
   "metadata": {},
   "source": [
    "## Decorador para tomar el tiempo de ejecución de una función"
   ]
  },
  {
   "cell_type": "code",
   "execution_count": 4,
   "id": "f6527475-844b-4407-92f0-ca3888625f7a",
   "metadata": {},
   "outputs": [],
   "source": [
    "def time_func(func):\n",
    "    \"\"\"\n",
    "    Decorador que toma una funcion func -> result y devuelve una funcion \n",
    "    func' -> result, ellapsed\n",
    "    \"\"\"\n",
    "    \n",
    "    # Definimos la funcion modificada como hemos especificado en la documentacion\n",
    "    def modified_function(*args, **kwargs):\n",
    "        init = time()\n",
    "        result = func(*args, **kwargs)\n",
    "        end = time()\n",
    "        \n",
    "        # Devolvemos el resultado junto con el tiempo que tardo en ejecutarse\n",
    "        return result, end - init\n",
    "    \n",
    "    return modified_function"
   ]
  },
  {
   "cell_type": "markdown",
   "id": "e715118f-1283-4361-afd9-4abe7087c556",
   "metadata": {},
   "source": [
    "## Funciones para calcular clusters"
   ]
  },
  {
   "cell_type": "code",
   "execution_count": 5,
   "id": "36fa95f9-42de-4564-95b3-6251c6c0bf76",
   "metadata": {},
   "outputs": [],
   "source": [
    "@time_func\n",
    "def compute_kmeans(df: pd.DataFrame, number_clusters: int = 3) -> np.array:\n",
    "    \"\"\"\n",
    "    Dado un dataframe con los datos a clusterizar, calcula el vector con las\n",
    "    etiquetas de la clusterizacion kmeans\n",
    "    \"\"\"\n",
    "    \n",
    "    kmeans = KMeans(n_clusters = number_clusters, random_state=0).fit(df)\n",
    "    return kmeans.labels_\n",
    "\n",
    "@time_func\n",
    "def compute_dbscan(df: pd.DataFrame, eps: float = 0.3, min_samples: int = 10) -> np.array:\n",
    "    \"\"\"\n",
    "    Dado un dataframe con los datos a clusterizar, calcula el vector con las\n",
    "    etiquetas de la clusterizacion dbscan\n",
    "    \"\"\"\n",
    "    db = DBSCAN(eps=eps, min_samples=min_samples).fit(df)\n",
    "    return db.labels_\n",
    "\n",
    "@time_func\n",
    "def compute_birch(df: pd.DataFrame, num_clusters: int = None) -> np.array:\n",
    "    \"\"\"\n",
    "    Dado un dataframe con los datos a clusterizar, calcula el vector con las\n",
    "    etiquetas de la clusterizacion birch\n",
    "    \"\"\"\n",
    "    \n",
    "    brc = Birch(n_clusters=num_clusters)\n",
    "    brc.fit(df)\n",
    "    return brc.labels_\n",
    "\n",
    "@time_func\n",
    "def compute_mean_shift(df: pd.DataFrame, bandwidth: float = 2.0, max_iter: int = 300) -> np.array:\n",
    "    \"\"\"\n",
    "    Dado un dataframe con los datos a clusterizar, calcula el vector con las\n",
    "    etiquetas de la clusterizacion Mean Shift\n",
    "    \"\"\"\n",
    "\n",
    "    clustering = MeanShift(bandwidth=bandwidth, max_iter = max_iter).fit(df)\n",
    "    return clustering.labels_\n",
    "\n",
    "@time_func\n",
    "def compute_agglomerative_clustering(df: pd.DataFrame, n_clusters: int = None, linkage: str = \"ward\") -> np.array:\n",
    "    \"\"\"\n",
    "    Dado un dataframe con los datos a clusterizar, calcula el vector con las\n",
    "    etiquetas de la clusterizacion de forma jerarquica\n",
    "    \"\"\"\n",
    "    \n",
    "    clustering = AgglomerativeClustering(n_clusters = n_clusters, linkage = linkage).fit(df)\n",
    "    return clustering.labels_\n",
    "\n",
    "def add_clustering_labels(df: pd.DataFrame, clustering_function: Callable, parameters: dict(), new_label_name: str, exclude_columns: List[str] = None) -> Tuple[pd.DataFrame, float]:\n",
    "    \"\"\"\n",
    "    Dado un dataframe y un algoritmo de clusterizacion con sus parametros, devuelve el dataframe al que\n",
    "    hemos añadido una columna con las nuevas etiquetas del clustering. Con esto nos evitamos escribir\n",
    "    esta funcion para cada tipo de algorito para clusterizar. Solo tenemos que cambiar ese parametro\n",
    "    \n",
    "    Podemos excluir columnas para que no se usen en la clusterizacion\n",
    "    \n",
    "    Devuelve un dataframe con la nueva columna de etiquetas añadida y con el tiempo que tardo en ejecutarse\n",
    "    \"\"\"\n",
    "    \n",
    "    # Filtramos las columnas del dataframe que se quieren exluir del computo\n",
    "    df_filtered = drop_columns(df, exclude_columns)\n",
    "    \n",
    "    # Realizamos el calculo\n",
    "    # Todas las funciones que calculan clusters llevan el decorador @time_func \n",
    "    # y por tanto devuelven cuanto tiempo an tardado \n",
    "    labels, ellapsed = clustering_function(df_filtered, **parameters)\n",
    "\n",
    "    # Añadimos las etiquetas a la vez que recuperamos las columnas eliminadas\n",
    "    new_df = df.copy()\n",
    "    new_df[new_label_name] = labels\n",
    "    \n",
    "    return new_df, ellapsed"
   ]
  },
  {
   "cell_type": "markdown",
   "id": "68bfec9a-1c88-4e12-a0a6-934574ab47a1",
   "metadata": {},
   "source": [
    "## Funciones para evaluar clusters"
   ]
  },
  {
   "cell_type": "code",
   "execution_count": 6,
   "id": "eb8b8ec7-228f-4881-b211-38a51b31a46d",
   "metadata": {},
   "outputs": [],
   "source": [
    "def metric_silhouette(df: pd.DataFrame, labels: np.array, exclude_columns: List[str] = None) -> float:\n",
    "    \"\"\"Calcula el indice de silhouette de una clusterizacion\"\"\"\n",
    "    \n",
    "    # Excluimos las columnas si se ha especificado asi por parametro\n",
    "    df_filtered = drop_columns(df, exclude_columns)\n",
    "    \n",
    "    # Devolvemos la metrica buscada\n",
    "    return metrics.silhouette_score(df_filtered, labels, metric='euclidean')\n",
    "\n",
    "def metric_calinski(df: pd.DataFrame, labels: np.array, exclude_columns: List[str] = None) -> float:\n",
    "    \"\"\"Calcula el indice de Calinski-Harabasz de una clusterizacion\"\"\"\n",
    "    \n",
    "    # Excluimos las columnas si se ha especificado asi por parametro\n",
    "    df_filtered = drop_columns(df, exclude_columns)\n",
    "    \n",
    "    # Devolvemos la metrica buscada\n",
    "    return metrics.calinski_harabasz_score(df_filtered, labels)\n",
    "\n",
    "def metric_davies_bouldin(df: pd.DataFrame, labels: np.array, exclude_columns: List[str] = None) -> float:\n",
    "    \"\"\"Calcula el indice de Davies-Bouldin de una clusterizacion\"\"\"\n",
    "    \n",
    "    # Excluimos las columnas si se ha especificado asi por parametro\n",
    "    df_filtered = drop_columns(df, exclude_columns)\n",
    "    \n",
    "    # Devolvemos la metrica buscada\n",
    "    return metrics.davies_bouldin_score(df_filtered, labels)\n",
    "\n",
    "def metric_elements_in_each_cluster(labels: np.array) -> Tuple[float, float]:\n",
    "    \"\"\"Calcula el numero medio de elementos por cada cluster, y la desviacion tipica del\n",
    "    numero de elementos por cada cluster\"\"\"\n",
    "    \n",
    "    # Tomamos los valores unicos en el conjunto de etiquetas\n",
    "    # Esto nos da las etiquetas de los clusters que hemos construido\n",
    "    cluster_labels = set(labels)\n",
    "    \n",
    "    # Calculamos el numero de elementos que hay en cada cluster\n",
    "    elements_in_each_cluster = []\n",
    "    \n",
    "    for label in cluster_labels:\n",
    "        curr_labels = [el for el in labels if el == label]\n",
    "        elements_in_each_cluster.append(len(curr_labels))\n",
    "    \n",
    "    \n",
    "    # Calculamos las estadisticas usando numpy\n",
    "    elements_in_each_cluster = np.array(elements_in_each_cluster)\n",
    "    mean = np.mean(elements_in_each_cluster)\n",
    "    std = np.std(elements_in_each_cluster)\n",
    "    \n",
    "    return mean, std\n",
    "\n",
    "def metric_total_clusters(labels: np.array) -> int:\n",
    "    \"\"\"Calcula el numero total de clusters que hemos generado con un algoritmo\"\"\"\n",
    "    \n",
    "    # Tomamos los valores unicos en el conjunto de etiquetas\n",
    "    # Esto nos da las etiquetas de los clusters que hemos construido\n",
    "    cluster_labels = set(labels)\n",
    "    \n",
    "    # Con esto, solo tenemos que devolver el tamaño de dicho conjunto\n",
    "    return len(cluster_labels)\n",
    "    \n",
    "def compute_clustering_metrics(df: pd.DataFrame, labels: np.array) -> Dict[str, float]:\n",
    "    \"\"\"\n",
    "    Computa todas las metricas que tenemos sobre un clustering.\n",
    "    \n",
    "    @param df el dataframe, con solo los datos de entrada (quitar etiquetas y otros metadatos)\n",
    "    @param labels las etiquetas obtenidas en un proceso de clustering\n",
    "    \n",
    "    @return metrics diccionario con pares \"nombre_metrica\": valor_metrica \n",
    "    \"\"\"\n",
    "               \n",
    "    # Aplicamos todos los computos necesarios\n",
    "    silhouette = metric_silhouette(df, labels)\n",
    "    calinski = metric_calinski(df, labels)\n",
    "    davies = metric_davies_bouldin(df, labels)\n",
    "    total_clusters = metric_total_clusters(labels)\n",
    "    elements_mean, elements_std = metric_elements_in_each_cluster(labels)\n",
    "    \n",
    "    # Devolvemos todas las metricas en un diccionario\n",
    "    metrics = dict()\n",
    "    metrics[\"silhouette\"] = silhouette\n",
    "    metrics[\"calinski\"] = calinski\n",
    "    metrics[\"davies\"] = davies\n",
    "    metrics[\"total_clusters\"] = total_clusters\n",
    "    metrics[\"elements_mean\"] = elements_mean\n",
    "    metrics[\"elements_std\"] = elements_std\n",
    "    \n",
    "    return metrics"
   ]
  },
  {
   "cell_type": "markdown",
   "id": "8fba708a-9b9d-4023-8561-50ff77afe2f1",
   "metadata": {},
   "source": [
    "## Funciones para realizar visualizaciones"
   ]
  },
  {
   "cell_type": "code",
   "execution_count": 7,
   "id": "d5ebc47f-bcde-4e5a-adb5-43a3b6d8c727",
   "metadata": {},
   "outputs": [],
   "source": [
    "def custom_pair_plot(df: pd.DataFrame, hue: str = None, exclude_columns: List[str] = None):\n",
    "    \"\"\"\n",
    "    Muestra una grafica pairplot de seaborn. Podemos especificar una lista de\n",
    "    columnas que exluir de esta grafica de forma comoda\n",
    "    \"\"\"\n",
    "    df_filtered = df.copy()\n",
    "    if exclude_columns is not None:\n",
    "        df_filtered = df_filtered.drop(columns = exclude_columns)\n",
    "        \n",
    "    sns.pairplot(df_filtered, hue = hue)"
   ]
  },
  {
   "cell_type": "markdown",
   "id": "58a23258-55ca-41e1-82c4-5649e460a989",
   "metadata": {},
   "source": [
    "## Funciones para normalizar dataframes"
   ]
  },
  {
   "cell_type": "code",
   "execution_count": 8,
   "id": "92684629-992c-4c57-aaed-87af945649d3",
   "metadata": {},
   "outputs": [],
   "source": [
    "def standarize_dataframe(df: pd.DataFrame) -> pd.DataFrame:\n",
    "    \"\"\"Normalizamos las columnas de un dataframe para que tengan media\n",
    "    0 y desviacion tipica 1\"\"\"\n",
    "    \n",
    "    df_norm = df.copy()\n",
    "    df_norm = (df_norm - df_norm.mean()) / df_norm.std()\n",
    "    \n",
    "    return df_norm\n",
    "\n",
    "def normalize_dataframe(df: pd.DataFrame) -> pd.DataFrame:\n",
    "    \"\"\"Normalizamos las columnas de un dataframe al rango [0, 1]\"\"\"\n",
    "    \n",
    "    df_norm = df.copy()\n",
    "    df_norm = (df_norm - df_norm.min()) / (df_norm.max() - df_norm.min())\n",
    "    \n",
    "    return df_norm"
   ]
  },
  {
   "cell_type": "markdown",
   "id": "aba84385-a7a9-4d90-97c2-bfb283599c76",
   "metadata": {},
   "source": [
    "# Filtrado previo del dataset global"
   ]
  },
  {
   "cell_type": "markdown",
   "id": "eee3c924-0337-4dba-b464-ab4c3ae0ddf3",
   "metadata": {},
   "source": [
    "Definimos en variables todas las columnas que, al leer el documento explicando el *dataset*, nos han resultado de interés. Una vez hecho esto, filtramos el *dataset* global para quedarnos solo con esas columnas, pues el resto no las vamos a usar en ningún caso de estudio. Es más, muchas de estas columnas no las usaremos en ninguno de los tres casos de estudio."
   ]
  },
  {
   "cell_type": "code",
   "execution_count": 9,
   "id": "b1b6d05a-daff-423b-96a3-2d52e2a0c1a0",
   "metadata": {},
   "outputs": [],
   "source": [
    "# Definimos las columnas con las que nos vamos a quedar\n",
    "renta_disponible_total_hogar = \"HY020\"\n",
    "renta_ganada_alquilando = \"HY040N\"\n",
    "ayuda_para_vivienda = \"HY070N\"\n",
    "inversiones_de_capital = \"HY090N\"\n",
    "retraso_pago_hipoteca_o_alquiler = \"HS011\"\n",
    "retraso_pago_luz_agua_gas = \"HS021\"\n",
    "retraso_pago_prestamos = \"HS031\"\n",
    "capacidad_hogar_llegar_fin_mes = \"HS120\"\n",
    "ingresos_minimos_para_llegar_fin_mes = \"HS130\"\n",
    "vandalismo_en_la_zona = \"HS190\"\n",
    "comunidad_autonoma = \"DB040\"\n",
    "\n",
    "tipo_de_vivienda = \"HH010\"\n",
    "regimen_de_tenencia_vivienda = \"HH021\"\n",
    "habitaciones_vivienda = \"HH030\"\n",
    "\n",
    "pidio_ayuda_economica_familiares = \"H39A_U\"\n",
    "pidio_ayuda_economica_entidad = \"H39B_U\"\n",
    "corte_energia = \"H38A_U\"\n",
    "\n",
    "numero_miembros_hogar = \"HX040\"\n",
    "tipo_de_hogar = \"HX060\" # Variable numerica categorica con muchos valores posibles\n",
    "hogar_en_riesgo_pobreza = \"vhPobreza\"\n",
    "hogar_carencia_material_severa = \"vhMATDEP\"\n",
    "\n",
    "proposito_prestamos = lambda i: f\"HI100_{i}\"\n",
    "\n",
    "cuota_hipoteca = \"cuotahip\"\n",
    "\n",
    "gasto_en_comida = \"HC010\"\n",
    "gasto_en_comida_bebida_fuera_casa = \"HC020\"\n",
    "gasto_transporte_publico = \"HC030\"\n",
    "gasto_transporte_privado = \"HC040\"\n",
    "viviendas_adicionales = \"HV020\"\n",
    "\n",
    "\n",
    "# Filtramos todo el dataframe global para usar solo variables que en una primera\n",
    "# lectura de las variables hemos considerado interesantes\n",
    "df_global = df_global[[\n",
    "    renta_disponible_total_hogar,\n",
    "    renta_ganada_alquilando,\n",
    "    ayuda_para_vivienda,\n",
    "    inversiones_de_capital,\n",
    "    retraso_pago_hipoteca_o_alquiler,\n",
    "    retraso_pago_luz_agua_gas,\n",
    "    retraso_pago_prestamos,\n",
    "    capacidad_hogar_llegar_fin_mes,\n",
    "    ingresos_minimos_para_llegar_fin_mes,\n",
    "    vandalismo_en_la_zona,\n",
    "    tipo_de_vivienda,\n",
    "    regimen_de_tenencia_vivienda,\n",
    "    habitaciones_vivienda,   \n",
    "    pidio_ayuda_economica_familiares,\n",
    "    pidio_ayuda_economica_entidad,\n",
    "    corte_energia,\n",
    "    numero_miembros_hogar,\n",
    "    tipo_de_hogar,\n",
    "    hogar_en_riesgo_pobreza,\n",
    "    hogar_carencia_material_severa,\n",
    "    comunidad_autonoma,\n",
    "    \n",
    "    gasto_en_comida,\n",
    "    gasto_en_comida_bebida_fuera_casa,\n",
    "    gasto_transporte_publico,\n",
    "    gasto_transporte_privado,\n",
    "    viviendas_adicionales,\n",
    "\n",
    "\n",
    "    \n",
    "    # TODO -- borrar los propositos porque no parecen muy relevantes\n",
    "    proposito_prestamos(1),\n",
    "    proposito_prestamos(2),\n",
    "    proposito_prestamos(3),\n",
    "    proposito_prestamos(4),\n",
    "    proposito_prestamos(5),\n",
    "    proposito_prestamos(6),\n",
    "    proposito_prestamos(7),\n",
    "    proposito_prestamos(8),\n",
    "    proposito_prestamos(9),  \n",
    "    \n",
    "    cuota_hipoteca,\n",
    "]]"
   ]
  },
  {
   "cell_type": "markdown",
   "id": "07c3a8ee-b15b-4d78-b5a5-1f39efa6f698",
   "metadata": {},
   "source": [
    "Veamos con qué tipo de datos nos hemos quedado:"
   ]
  },
  {
   "cell_type": "code",
   "execution_count": 10,
   "id": "6fc5adfa-469e-4a51-bcad-e71578236f26",
   "metadata": {},
   "outputs": [
    {
     "data": {
      "text/html": [
       "<div>\n",
       "<style scoped>\n",
       "    .dataframe tbody tr th:only-of-type {\n",
       "        vertical-align: middle;\n",
       "    }\n",
       "\n",
       "    .dataframe tbody tr th {\n",
       "        vertical-align: top;\n",
       "    }\n",
       "\n",
       "    .dataframe thead th {\n",
       "        text-align: right;\n",
       "    }\n",
       "</style>\n",
       "<table border=\"1\" class=\"dataframe\">\n",
       "  <thead>\n",
       "    <tr style=\"text-align: right;\">\n",
       "      <th></th>\n",
       "      <th>HY020</th>\n",
       "      <th>HY040N</th>\n",
       "      <th>HY070N</th>\n",
       "      <th>HY090N</th>\n",
       "      <th>HS011</th>\n",
       "      <th>HS021</th>\n",
       "      <th>HS031</th>\n",
       "      <th>HS120</th>\n",
       "      <th>HS130</th>\n",
       "      <th>HS190</th>\n",
       "      <th>...</th>\n",
       "      <th>HI100_1</th>\n",
       "      <th>HI100_2</th>\n",
       "      <th>HI100_3</th>\n",
       "      <th>HI100_4</th>\n",
       "      <th>HI100_5</th>\n",
       "      <th>HI100_6</th>\n",
       "      <th>HI100_7</th>\n",
       "      <th>HI100_8</th>\n",
       "      <th>HI100_9</th>\n",
       "      <th>cuotahip</th>\n",
       "    </tr>\n",
       "  </thead>\n",
       "  <tbody>\n",
       "    <tr>\n",
       "      <th>count</th>\n",
       "      <td>15043.000000</td>\n",
       "      <td>15043.000000</td>\n",
       "      <td>15043.000000</td>\n",
       "      <td>15043.000000</td>\n",
       "      <td>6538.000000</td>\n",
       "      <td>14972.000000</td>\n",
       "      <td>3874.000000</td>\n",
       "      <td>15029.000000</td>\n",
       "      <td>14577.000000</td>\n",
       "      <td>15036.000000</td>\n",
       "      <td>...</td>\n",
       "      <td>3907.000000</td>\n",
       "      <td>3906.000000</td>\n",
       "      <td>3906.000000</td>\n",
       "      <td>3906.000000</td>\n",
       "      <td>3906.000000</td>\n",
       "      <td>3906.000000</td>\n",
       "      <td>3906.000000</td>\n",
       "      <td>3905.000000</td>\n",
       "      <td>3905.000000</td>\n",
       "      <td>3949.000000</td>\n",
       "    </tr>\n",
       "    <tr>\n",
       "      <th>mean</th>\n",
       "      <td>31923.953455</td>\n",
       "      <td>597.200527</td>\n",
       "      <td>44.600766</td>\n",
       "      <td>439.817903</td>\n",
       "      <td>2.858978</td>\n",
       "      <td>2.911969</td>\n",
       "      <td>2.864481</td>\n",
       "      <td>3.600905</td>\n",
       "      <td>1863.563628</td>\n",
       "      <td>1.861599</td>\n",
       "      <td>...</td>\n",
       "      <td>1.741234</td>\n",
       "      <td>1.536354</td>\n",
       "      <td>1.988223</td>\n",
       "      <td>1.934460</td>\n",
       "      <td>1.975678</td>\n",
       "      <td>1.903226</td>\n",
       "      <td>1.937532</td>\n",
       "      <td>1.978745</td>\n",
       "      <td>1.820743</td>\n",
       "      <td>472.389466</td>\n",
       "    </tr>\n",
       "    <tr>\n",
       "      <th>std</th>\n",
       "      <td>22626.484550</td>\n",
       "      <td>2487.349778</td>\n",
       "      <td>489.955873</td>\n",
       "      <td>3229.657848</td>\n",
       "      <td>0.420883</td>\n",
       "      <td>0.336180</td>\n",
       "      <td>0.411509</td>\n",
       "      <td>1.277720</td>\n",
       "      <td>1052.184371</td>\n",
       "      <td>0.345332</td>\n",
       "      <td>...</td>\n",
       "      <td>0.438013</td>\n",
       "      <td>0.498740</td>\n",
       "      <td>0.107894</td>\n",
       "      <td>0.247508</td>\n",
       "      <td>0.154065</td>\n",
       "      <td>0.295688</td>\n",
       "      <td>0.242035</td>\n",
       "      <td>0.144251</td>\n",
       "      <td>0.383617</td>\n",
       "      <td>278.946452</td>\n",
       "    </tr>\n",
       "    <tr>\n",
       "      <th>min</th>\n",
       "      <td>-36233.200000</td>\n",
       "      <td>0.000000</td>\n",
       "      <td>0.000000</td>\n",
       "      <td>0.000000</td>\n",
       "      <td>1.000000</td>\n",
       "      <td>1.000000</td>\n",
       "      <td>1.000000</td>\n",
       "      <td>1.000000</td>\n",
       "      <td>1.000000</td>\n",
       "      <td>1.000000</td>\n",
       "      <td>...</td>\n",
       "      <td>1.000000</td>\n",
       "      <td>1.000000</td>\n",
       "      <td>1.000000</td>\n",
       "      <td>1.000000</td>\n",
       "      <td>1.000000</td>\n",
       "      <td>1.000000</td>\n",
       "      <td>1.000000</td>\n",
       "      <td>1.000000</td>\n",
       "      <td>1.000000</td>\n",
       "      <td>1.000000</td>\n",
       "    </tr>\n",
       "    <tr>\n",
       "      <th>25%</th>\n",
       "      <td>16505.950000</td>\n",
       "      <td>0.000000</td>\n",
       "      <td>0.000000</td>\n",
       "      <td>0.000000</td>\n",
       "      <td>3.000000</td>\n",
       "      <td>3.000000</td>\n",
       "      <td>3.000000</td>\n",
       "      <td>3.000000</td>\n",
       "      <td>1200.000000</td>\n",
       "      <td>2.000000</td>\n",
       "      <td>...</td>\n",
       "      <td>1.000000</td>\n",
       "      <td>1.000000</td>\n",
       "      <td>2.000000</td>\n",
       "      <td>2.000000</td>\n",
       "      <td>2.000000</td>\n",
       "      <td>2.000000</td>\n",
       "      <td>2.000000</td>\n",
       "      <td>2.000000</td>\n",
       "      <td>2.000000</td>\n",
       "      <td>300.000000</td>\n",
       "    </tr>\n",
       "    <tr>\n",
       "      <th>50%</th>\n",
       "      <td>27535.710000</td>\n",
       "      <td>0.000000</td>\n",
       "      <td>0.000000</td>\n",
       "      <td>0.000000</td>\n",
       "      <td>3.000000</td>\n",
       "      <td>3.000000</td>\n",
       "      <td>3.000000</td>\n",
       "      <td>4.000000</td>\n",
       "      <td>1600.000000</td>\n",
       "      <td>2.000000</td>\n",
       "      <td>...</td>\n",
       "      <td>2.000000</td>\n",
       "      <td>2.000000</td>\n",
       "      <td>2.000000</td>\n",
       "      <td>2.000000</td>\n",
       "      <td>2.000000</td>\n",
       "      <td>2.000000</td>\n",
       "      <td>2.000000</td>\n",
       "      <td>2.000000</td>\n",
       "      <td>2.000000</td>\n",
       "      <td>412.000000</td>\n",
       "    </tr>\n",
       "    <tr>\n",
       "      <th>75%</th>\n",
       "      <td>41390.350000</td>\n",
       "      <td>0.000000</td>\n",
       "      <td>0.000000</td>\n",
       "      <td>31.800000</td>\n",
       "      <td>3.000000</td>\n",
       "      <td>3.000000</td>\n",
       "      <td>3.000000</td>\n",
       "      <td>5.000000</td>\n",
       "      <td>2200.000000</td>\n",
       "      <td>2.000000</td>\n",
       "      <td>...</td>\n",
       "      <td>2.000000</td>\n",
       "      <td>2.000000</td>\n",
       "      <td>2.000000</td>\n",
       "      <td>2.000000</td>\n",
       "      <td>2.000000</td>\n",
       "      <td>2.000000</td>\n",
       "      <td>2.000000</td>\n",
       "      <td>2.000000</td>\n",
       "      <td>2.000000</td>\n",
       "      <td>580.000000</td>\n",
       "    </tr>\n",
       "    <tr>\n",
       "      <th>max</th>\n",
       "      <td>349862.130000</td>\n",
       "      <td>70271.000000</td>\n",
       "      <td>21600.000000</td>\n",
       "      <td>95460.200000</td>\n",
       "      <td>3.000000</td>\n",
       "      <td>3.000000</td>\n",
       "      <td>3.000000</td>\n",
       "      <td>6.000000</td>\n",
       "      <td>60000.000000</td>\n",
       "      <td>2.000000</td>\n",
       "      <td>...</td>\n",
       "      <td>2.000000</td>\n",
       "      <td>2.000000</td>\n",
       "      <td>2.000000</td>\n",
       "      <td>2.000000</td>\n",
       "      <td>2.000000</td>\n",
       "      <td>2.000000</td>\n",
       "      <td>2.000000</td>\n",
       "      <td>2.000000</td>\n",
       "      <td>2.000000</td>\n",
       "      <td>6800.000000</td>\n",
       "    </tr>\n",
       "  </tbody>\n",
       "</table>\n",
       "<p>8 rows × 35 columns</p>\n",
       "</div>"
      ],
      "text/plain": [
       "               HY020        HY040N        HY070N        HY090N        HS011  \\\n",
       "count   15043.000000  15043.000000  15043.000000  15043.000000  6538.000000   \n",
       "mean    31923.953455    597.200527     44.600766    439.817903     2.858978   \n",
       "std     22626.484550   2487.349778    489.955873   3229.657848     0.420883   \n",
       "min    -36233.200000      0.000000      0.000000      0.000000     1.000000   \n",
       "25%     16505.950000      0.000000      0.000000      0.000000     3.000000   \n",
       "50%     27535.710000      0.000000      0.000000      0.000000     3.000000   \n",
       "75%     41390.350000      0.000000      0.000000     31.800000     3.000000   \n",
       "max    349862.130000  70271.000000  21600.000000  95460.200000     3.000000   \n",
       "\n",
       "              HS021        HS031         HS120         HS130         HS190  \\\n",
       "count  14972.000000  3874.000000  15029.000000  14577.000000  15036.000000   \n",
       "mean       2.911969     2.864481      3.600905   1863.563628      1.861599   \n",
       "std        0.336180     0.411509      1.277720   1052.184371      0.345332   \n",
       "min        1.000000     1.000000      1.000000      1.000000      1.000000   \n",
       "25%        3.000000     3.000000      3.000000   1200.000000      2.000000   \n",
       "50%        3.000000     3.000000      4.000000   1600.000000      2.000000   \n",
       "75%        3.000000     3.000000      5.000000   2200.000000      2.000000   \n",
       "max        3.000000     3.000000      6.000000  60000.000000      2.000000   \n",
       "\n",
       "       ...      HI100_1      HI100_2      HI100_3      HI100_4      HI100_5  \\\n",
       "count  ...  3907.000000  3906.000000  3906.000000  3906.000000  3906.000000   \n",
       "mean   ...     1.741234     1.536354     1.988223     1.934460     1.975678   \n",
       "std    ...     0.438013     0.498740     0.107894     0.247508     0.154065   \n",
       "min    ...     1.000000     1.000000     1.000000     1.000000     1.000000   \n",
       "25%    ...     1.000000     1.000000     2.000000     2.000000     2.000000   \n",
       "50%    ...     2.000000     2.000000     2.000000     2.000000     2.000000   \n",
       "75%    ...     2.000000     2.000000     2.000000     2.000000     2.000000   \n",
       "max    ...     2.000000     2.000000     2.000000     2.000000     2.000000   \n",
       "\n",
       "           HI100_6      HI100_7      HI100_8      HI100_9     cuotahip  \n",
       "count  3906.000000  3906.000000  3905.000000  3905.000000  3949.000000  \n",
       "mean      1.903226     1.937532     1.978745     1.820743   472.389466  \n",
       "std       0.295688     0.242035     0.144251     0.383617   278.946452  \n",
       "min       1.000000     1.000000     1.000000     1.000000     1.000000  \n",
       "25%       2.000000     2.000000     2.000000     2.000000   300.000000  \n",
       "50%       2.000000     2.000000     2.000000     2.000000   412.000000  \n",
       "75%       2.000000     2.000000     2.000000     2.000000   580.000000  \n",
       "max       2.000000     2.000000     2.000000     2.000000  6800.000000  \n",
       "\n",
       "[8 rows x 35 columns]"
      ]
     },
     "execution_count": 10,
     "metadata": {},
     "output_type": "execute_result"
    }
   ],
   "source": [
    "df_global.describe()"
   ]
  },
  {
   "cell_type": "markdown",
   "id": "9330a603-a320-484d-a079-74f8f4a22746",
   "metadata": {},
   "source": [
    "# Variables añadidas\n",
    "\n",
    "También queremos usar variables agregadas usando las variables en bruto que ya tenemos en el dataset. "
   ]
  },
  {
   "cell_type": "markdown",
   "id": "9eeafc14-27bf-4e81-9f37-fbe862fb7335",
   "metadata": {},
   "source": [
    "Tenemos tres tipos de variable que nos indican si pidieron ayuda a algún ente, divididas en tres tipos de ente. Nos interesa solo si pidieron ayuda, no a quién"
   ]
  },
  {
   "cell_type": "code",
   "execution_count": 11,
   "id": "20f42a49-f8b9-4978-be4a-c4150fb2f567",
   "metadata": {},
   "outputs": [],
   "source": [
    "def pidio_ayuda_condicion(ayuda_familiar, ayuda_entidad):\n",
    "    \"\"\"Comprueba si, dadas las columnas de ayuda familiar y ayuda de entidad,\n",
    "    se pidio ayuda o no se pidio\"\"\"\n",
    "    \n",
    "    if ayuda_familiar == 1 or ayuda_entidad == 1:\n",
    "        return True\n",
    "    else:\n",
    "        return False\n",
    "\n",
    "\n",
    "\n",
    "# Añadimos la nueva columna usando la condicion que hemos definido previamente\n",
    "pidio_ayuda = \"pidio_ayuda\"\n",
    "df_global[pidio_ayuda] = df_global.apply(lambda row: pidio_ayuda_condicion(row[pidio_ayuda_economica_familiares], row[pidio_ayuda_economica_entidad]), axis = 1)"
   ]
  },
  {
   "cell_type": "markdown",
   "id": "489cb14b-aa7a-4e7f-aa61-0314380ed64d",
   "metadata": {},
   "source": [
    "Queremos tener una variable en la que dispongamos del dinero que le queda a una familia, de la forma $total\\_ingresos - total\\_gastos$ "
   ]
  },
  {
   "cell_type": "code",
   "execution_count": 12,
   "id": "b4902d4f-0340-4d99-bffd-28f704c9439a",
   "metadata": {},
   "outputs": [],
   "source": [
    "# TODO -- implementar esto"
   ]
  },
  {
   "cell_type": "markdown",
   "id": "428a3094-c7d2-4da9-a16c-b5a8e9a3bca7",
   "metadata": {},
   "source": [
    "Añadimos una variable que recoja si ha habido retraso en cualquier tipo de pago:"
   ]
  },
  {
   "cell_type": "code",
   "execution_count": 13,
   "id": "af2211a1-39cc-4f46-a859-7e8abd285e60",
   "metadata": {},
   "outputs": [],
   "source": [
    "def retraso_pagando(retraso_hipoteca, retraso_luz_agua, retraso_prestamos):\n",
    "    \"\"\"Comprueba si hubo algun retraso en cualquier tipo de pago\"\"\"\n",
    "    \n",
    "    # Hubo retraso en la hipoteca\n",
    "    if retraso_hipoteca is not None and retraso_hipoteca != 3:\n",
    "        return 1\n",
    "    \n",
    "    # Hubo retraso en la luz o el agua\n",
    "    if retraso_luz_agua is not None and retraso_luz_agua != 3:\n",
    "        return 1\n",
    "    \n",
    "    # Hubo retraso en algun prestamo\n",
    "    if retraso_prestamos is not None and retraso_prestamos != 3:\n",
    "        return 1\n",
    "\n",
    "    # No hubo retraso en ningun apartado\n",
    "    return 0\n",
    "\n",
    "\n",
    "# Añadimos la nueva columna usando la condicion que hemos definido previamente\n",
    "retraso_pago = \"retraso_pago\"\n",
    "df_global[retraso_pago] = df_global.apply(lambda row: retraso_pagando(row[retraso_pago_hipoteca_o_alquiler], row[retraso_pago_luz_agua_gas], row[retraso_pago_prestamos]), axis = 1)"
   ]
  },
  {
   "cell_type": "markdown",
   "id": "8a6ac45c-7f60-44e6-b846-a31305ee9672",
   "metadata": {},
   "source": [
    "Añadimos el nombre real de las comunidades autonomas:"
   ]
  },
  {
   "cell_type": "code",
   "execution_count": 14,
   "id": "d3cd1a8b-7f28-4d79-8f06-41ef67a7c490",
   "metadata": {},
   "outputs": [],
   "source": [
    "def map_nombre_comunidad(code_name):\n",
    "    \"\"\"Transformamos el codigo de la comunidad autonoma a su nombre real\"\"\"\n",
    "    map_code_to_name = {\n",
    "        \"ES11\": \"Galicia\", \n",
    "        \"ES12\": \"Principado de Asturias\" , \n",
    "        \"ES13\": \"Cantabria\" , \n",
    "        \"ES21\": \"País Vasco\" , \n",
    "        \"ES22\": \"Comunidad Foral de Navarra\" , \n",
    "        \"ES23\": \"La Rioja\" , \n",
    "        \"ES24\": \"Aragón\" , \n",
    "        \"ES30\": \"Madrid\" , \n",
    "        \"ES41\": \"Castilla y Leon\" , \n",
    "        \"ES42\": \"Castilla-La Mancha\" , \n",
    "        \"ES43\": \"Extremadura\", \n",
    "        \"ES51\": \"Cataluña\" , \n",
    "        \"ES52\": \"Comunidad Valenciana\" , \n",
    "        \"ES53\": \"Illes Balears\" , \n",
    "        \"ES61\": \"Andalucía\" , \n",
    "        \"ES62\": \"Región de Murcia\" , \n",
    "        \"ES63\": \"Ceuta\" , \n",
    "        \"ES64\": \"Melilla\" , \n",
    "        \"ES70\": \"Canarias\" , \n",
    "        \"ESZZ\": \"Externo\" , \n",
    "    }\n",
    "    \n",
    "    return map_code_to_name[code_name]\n",
    "\n",
    "df_global[comunidad_autonoma] = df_global.apply(lambda row: map_nombre_comunidad(row[comunidad_autonoma]), axis = 1)"
   ]
  },
  {
   "cell_type": "markdown",
   "id": "37fedc4d-f774-4fce-a571-95b512f4df6c",
   "metadata": {},
   "source": [
    "# Caso de estudio 01"
   ]
  },
  {
   "cell_type": "markdown",
   "id": "fb701297-a55a-4bf8-a8f1-35701ebef77d",
   "metadata": {},
   "source": [
    "## Definición del caso de estudio\n",
    "\n",
    "En este caso de estudio queremos poner nuestra atención en aquellas personas que tuvieron algún retraso en cualquier tipo de pago. Usamos la variable que hemos definido previamente como agregado de los dos tipos de *retraso en el pago*."
   ]
  },
  {
   "cell_type": "code",
   "execution_count": 15,
   "id": "0bf198ee-1af6-4db0-a101-58c8d7204b75",
   "metadata": {},
   "outputs": [],
   "source": [
    "# Tomamos los datos de aquellos hogares que pidieron ayuda economica\n",
    "df_first = df_global[df_global[retraso_pago] == 1]\n",
    "\n",
    "# Nos quedamos con las columnas que nos interesan para este caso de estudio\n",
    "columnas_interesantes = [\n",
    "    renta_disponible_total_hogar,\n",
    "    vandalismo_en_la_zona,\n",
    "    ingresos_minimos_para_llegar_fin_mes,\n",
    "]\n",
    "df_first = df_first[columnas_interesantes]\n",
    "\n",
    "# Renombramos algunas columnas\n",
    "df_first = df_first.rename(columns = {\n",
    "    renta_disponible_total_hogar: \"renta_disponible_hogar\",\n",
    "    vandalismo_en_la_zona: \"vandalismo_en_la_zona\",\n",
    "    ingresos_minimos_para_llegar_fin_mes: \"ingresos_minimos_para_llegar_fin_mes\"\n",
    "})"
   ]
  },
  {
   "cell_type": "markdown",
   "id": "24d9f232-3f2e-440f-8393-11d90eba44aa",
   "metadata": {},
   "source": [
    "## Preprocesado de los datos"
   ]
  },
  {
   "cell_type": "markdown",
   "id": "902e4aa2-60ce-4075-8b78-3852b1834a84",
   "metadata": {},
   "source": [
    "Ahora que hemos seleccionado las variables, borramos aquellas filas en las que tengamos algún valor NaN:"
   ]
  },
  {
   "cell_type": "code",
   "execution_count": 16,
   "id": "4f5721ed-74c6-432b-a16b-e130ddf91f86",
   "metadata": {},
   "outputs": [],
   "source": [
    "df_first = df_first.dropna()"
   ]
  },
  {
   "cell_type": "markdown",
   "id": "d56f67a5-290a-4877-ac7c-271cc9af7030",
   "metadata": {},
   "source": [
    "Normalizamos todos los datos, pues tener variables en distintas escalas afecta enormemente a los algoritmos de clusterización:"
   ]
  },
  {
   "cell_type": "code",
   "execution_count": 17,
   "id": "5c44c6c8-e362-45e7-88d1-9dd3f7a3e577",
   "metadata": {},
   "outputs": [
    {
     "data": {
      "text/html": [
       "<div>\n",
       "<style scoped>\n",
       "    .dataframe tbody tr th:only-of-type {\n",
       "        vertical-align: middle;\n",
       "    }\n",
       "\n",
       "    .dataframe tbody tr th {\n",
       "        vertical-align: top;\n",
       "    }\n",
       "\n",
       "    .dataframe thead th {\n",
       "        text-align: right;\n",
       "    }\n",
       "</style>\n",
       "<table border=\"1\" class=\"dataframe\">\n",
       "  <thead>\n",
       "    <tr style=\"text-align: right;\">\n",
       "      <th></th>\n",
       "      <th>renta_disponible_hogar</th>\n",
       "      <th>vandalismo_en_la_zona</th>\n",
       "      <th>ingresos_minimos_para_llegar_fin_mes</th>\n",
       "    </tr>\n",
       "  </thead>\n",
       "  <tbody>\n",
       "    <tr>\n",
       "      <th>0</th>\n",
       "      <td>0.093845</td>\n",
       "      <td>1.0</td>\n",
       "      <td>0.024984</td>\n",
       "    </tr>\n",
       "    <tr>\n",
       "      <th>1</th>\n",
       "      <td>0.128089</td>\n",
       "      <td>1.0</td>\n",
       "      <td>0.016650</td>\n",
       "    </tr>\n",
       "    <tr>\n",
       "      <th>2</th>\n",
       "      <td>0.157301</td>\n",
       "      <td>1.0</td>\n",
       "      <td>0.024984</td>\n",
       "    </tr>\n",
       "    <tr>\n",
       "      <th>4</th>\n",
       "      <td>0.196566</td>\n",
       "      <td>1.0</td>\n",
       "      <td>0.049984</td>\n",
       "    </tr>\n",
       "    <tr>\n",
       "      <th>5</th>\n",
       "      <td>0.262197</td>\n",
       "      <td>1.0</td>\n",
       "      <td>0.024984</td>\n",
       "    </tr>\n",
       "    <tr>\n",
       "      <th>...</th>\n",
       "      <td>...</td>\n",
       "      <td>...</td>\n",
       "      <td>...</td>\n",
       "    </tr>\n",
       "    <tr>\n",
       "      <th>15037</th>\n",
       "      <td>0.117313</td>\n",
       "      <td>0.0</td>\n",
       "      <td>0.016650</td>\n",
       "    </tr>\n",
       "    <tr>\n",
       "      <th>15039</th>\n",
       "      <td>0.264798</td>\n",
       "      <td>1.0</td>\n",
       "      <td>0.033317</td>\n",
       "    </tr>\n",
       "    <tr>\n",
       "      <th>15040</th>\n",
       "      <td>0.157826</td>\n",
       "      <td>0.0</td>\n",
       "      <td>0.029984</td>\n",
       "    </tr>\n",
       "    <tr>\n",
       "      <th>15041</th>\n",
       "      <td>0.108256</td>\n",
       "      <td>1.0</td>\n",
       "      <td>0.014984</td>\n",
       "    </tr>\n",
       "    <tr>\n",
       "      <th>15042</th>\n",
       "      <td>0.126811</td>\n",
       "      <td>1.0</td>\n",
       "      <td>0.023317</td>\n",
       "    </tr>\n",
       "  </tbody>\n",
       "</table>\n",
       "<p>12859 rows × 3 columns</p>\n",
       "</div>"
      ],
      "text/plain": [
       "       renta_disponible_hogar  vandalismo_en_la_zona  \\\n",
       "0                    0.093845                    1.0   \n",
       "1                    0.128089                    1.0   \n",
       "2                    0.157301                    1.0   \n",
       "4                    0.196566                    1.0   \n",
       "5                    0.262197                    1.0   \n",
       "...                       ...                    ...   \n",
       "15037                0.117313                    0.0   \n",
       "15039                0.264798                    1.0   \n",
       "15040                0.157826                    0.0   \n",
       "15041                0.108256                    1.0   \n",
       "15042                0.126811                    1.0   \n",
       "\n",
       "       ingresos_minimos_para_llegar_fin_mes  \n",
       "0                                  0.024984  \n",
       "1                                  0.016650  \n",
       "2                                  0.024984  \n",
       "4                                  0.049984  \n",
       "5                                  0.024984  \n",
       "...                                     ...  \n",
       "15037                              0.016650  \n",
       "15039                              0.033317  \n",
       "15040                              0.029984  \n",
       "15041                              0.014984  \n",
       "15042                              0.023317  \n",
       "\n",
       "[12859 rows x 3 columns]"
      ]
     },
     "execution_count": 17,
     "metadata": {},
     "output_type": "execute_result"
    }
   ],
   "source": [
    "df_first = normalize_dataframe(df_first)\n",
    "df_first"
   ]
  },
  {
   "cell_type": "markdown",
   "id": "f57b7b04-6a2b-41e7-a66e-d3e429a92462",
   "metadata": {},
   "source": [
    "## Análisis exploratorio de datos"
   ]
  },
  {
   "cell_type": "markdown",
   "id": "be3976ee-c536-414e-8e92-2e45f2faa632",
   "metadata": {},
   "source": [
    "Antes de comenzar con el cálculo de *clusters*, realizamos un análisis exploratorio de datos previo. Empezamos mostrando las gráficas entre las variables con las que trabajamos, dos a dos. "
   ]
  },
  {
   "cell_type": "code",
   "execution_count": 18,
   "id": "186b6a97-d5a2-47a4-a416-20fe97819724",
   "metadata": {},
   "outputs": [
    {
     "data": {
      "text/plain": [
       "<seaborn.axisgrid.PairGrid at 0x7f4b422aeb80>"
      ]
     },
     "execution_count": 18,
     "metadata": {},
     "output_type": "execute_result"
    },
    {
     "data": {
      "image/png": "[encoded data removed]",
      "text/plain": [
       "<Figure size 540x540 with 12 Axes>"
      ]
     },
     "metadata": {
      "needs_background": "light"
     },
     "output_type": "display_data"
    }
   ],
   "source": [
    "sns.pairplot(df_first)"
   ]
  },
  {
   "cell_type": "markdown",
   "id": "5eb456ce-ba30-402b-aed3-d52774e13361",
   "metadata": {},
   "source": [
    "## Aplicamos algoritmos de clustering"
   ]
  },
  {
   "cell_type": "markdown",
   "id": "18624a7e-1f58-4d82-b5eb-bdb457846a2d",
   "metadata": {},
   "source": [
    "En todos los algoritmos estamos calculando los tiempos que tardan en ejecutarse. Esto lo guardaremos en el siguiente diccionario:"
   ]
  },
  {
   "cell_type": "code",
   "execution_count": 19,
   "id": "b543a6e3-bf6c-4704-962f-097f677475c9",
   "metadata": {},
   "outputs": [],
   "source": [
    "ellapsed_times = dict()"
   ]
  },
  {
   "cell_type": "markdown",
   "id": "3a048230-253d-4557-b2f9-b99ff4851188",
   "metadata": {},
   "source": [
    "Empezamos aplicando el algoritmo `k-means`:"
   ]
  },
  {
   "cell_type": "code",
   "execution_count": 20,
   "id": "c354d4c5-7454-48b4-87c7-a6db5c44b469",
   "metadata": {},
   "outputs": [
    {
     "data": {
      "image/png": "[encoded data removed]",
      "text/plain": [
       "<Figure size 616.5x540 with 12 Axes>"
      ]
     },
     "metadata": {
      "needs_background": "light"
     },
     "output_type": "display_data"
    }
   ],
   "source": [
    "df_first, ellapsed = add_clustering_labels(\n",
    "    df_first,\n",
    "    compute_kmeans, \n",
    "    parameters = {\"number_clusters\": 5},\n",
    "    new_label_name = \"label_kmeans\"\n",
    ")\n",
    "\n",
    "# Añado el tiempo consumido\n",
    "ellapsed_times[\"label_kmeans\"] = ellapsed\n",
    "\n",
    "custom_pair_plot(df_first, hue = \"label_kmeans\")"
   ]
  },
  {
   "cell_type": "markdown",
   "id": "d8cf585a-e19c-4d7b-ba10-7337f3c44f70",
   "metadata": {},
   "source": [
    "Ahora aplicamos `dbscan` para la clusterización:"
   ]
  },
  {
   "cell_type": "code",
   "execution_count": 21,
   "id": "9ed40ca5-056d-4a35-8eda-db33b4783b78",
   "metadata": {},
   "outputs": [
    {
     "data": {
      "image/png": "[encoded data removed]",
      "text/plain": [
       "<Figure size 613.125x540 with 12 Axes>"
      ]
     },
     "metadata": {
      "needs_background": "light"
     },
     "output_type": "display_data"
    }
   ],
   "source": [
    "df_first, ellapsed = add_clustering_labels(\n",
    "    df_first,\n",
    "    compute_dbscan,\n",
    "    parameters = {\"eps\": 0.3, \"min_samples\": 5},\n",
    "    new_label_name = \"label_dbscan\",\n",
    "    exclude_columns = [\"label_kmeans\"]\n",
    ") \n",
    "\n",
    "# Añado el tiempo consumido\n",
    "ellapsed_times[\"label_dbscan\"] = ellapsed\n",
    "\n",
    "custom_pair_plot(\n",
    "    df = df_first,\n",
    "    hue = \"label_dbscan\",\n",
    "    exclude_columns = [\"label_kmeans\"]\n",
    ")"
   ]
  },
  {
   "cell_type": "markdown",
   "id": "a5ca63df-3019-4f18-93de-b4bd041fbb00",
   "metadata": {},
   "source": [
    "Ahora aplicamos `birch`:"
   ]
  },
  {
   "cell_type": "code",
   "execution_count": 22,
   "id": "d33f247b-a2e2-4cbd-a8d1-24fa6bac3ebe",
   "metadata": {},
   "outputs": [
    {
     "name": "stderr",
     "output_type": "stream",
     "text": [
      "/home/sergio/.local/lib/python3.9/site-packages/sklearn/cluster/_birch.py:713: ConvergenceWarning: Number of subclusters found (1) by BIRCH is less than (5). Decrease the threshold.\n",
      "  warnings.warn(\n",
      "/home/sergio/.local/lib/python3.9/site-packages/sklearn/base.py:445: UserWarning: X does not have valid feature names, but Birch was fitted with feature names\n",
      "  warnings.warn(\n"
     ]
    },
    {
     "data": {
      "image/png": "[encoded data removed]",
      "text/plain": [
       "<Figure size 602.125x540 with 12 Axes>"
      ]
     },
     "metadata": {
      "needs_background": "light"
     },
     "output_type": "display_data"
    }
   ],
   "source": [
    "# TODO -- probar con num_clusters = None que es lo que pone en la pagina de ejemplo\n",
    "# TODO -- quite eso porque tardaba demasiado\n",
    "df_first, ellapsed = add_clustering_labels(\n",
    "    df_first,\n",
    "    compute_birch,\n",
    "    parameters = {\"num_clusters\": 5},\n",
    "    new_label_name = \"label_birch\",\n",
    "    exclude_columns = [\"label_kmeans\", \"label_dbscan\"]\n",
    ") \n",
    "\n",
    "# Añado el tiempo consumido\n",
    "ellapsed_times[\"label_birch\"] = ellapsed\n",
    "\n",
    "custom_pair_plot(\n",
    "    df = df_first,\n",
    "    hue = \"label_birch\",\n",
    "    exclude_columns = [\"label_kmeans\", \"label_dbscan\"]\n",
    ")"
   ]
  },
  {
   "cell_type": "markdown",
   "id": "a0f0f1a3-7ffa-4105-8599-d0f2da492ae8",
   "metadata": {},
   "source": [
    "Ahora aplicamos *Mean Shift*"
   ]
  },
  {
   "cell_type": "code",
   "execution_count": 23,
   "id": "e4a401b8-695e-421b-b14a-21b33827ba35",
   "metadata": {},
   "outputs": [
    {
     "ename": "KeyboardInterrupt",
     "evalue": "",
     "output_type": "error",
     "traceback": [
      "\u001b[0;31m---------------------------------------------------------------------------\u001b[0m",
      "\u001b[0;31mKeyboardInterrupt\u001b[0m                         Traceback (most recent call last)",
      "\u001b[0;32m/tmp/ipykernel_10036/3469523501.py\u001b[0m in \u001b[0;36m<module>\u001b[0;34m\u001b[0m\n\u001b[0;32m----> 1\u001b[0;31m df_first, ellapsed = add_clustering_labels(\n\u001b[0m\u001b[1;32m      2\u001b[0m     \u001b[0mdf_first\u001b[0m\u001b[0;34m,\u001b[0m\u001b[0;34m\u001b[0m\u001b[0;34m\u001b[0m\u001b[0m\n\u001b[1;32m      3\u001b[0m     \u001b[0mcompute_mean_shift\u001b[0m\u001b[0;34m,\u001b[0m\u001b[0;34m\u001b[0m\u001b[0;34m\u001b[0m\u001b[0m\n\u001b[1;32m      4\u001b[0m     \u001b[0mparameters\u001b[0m \u001b[0;34m=\u001b[0m \u001b[0;34m{\u001b[0m\u001b[0;34m\"bandwidth\"\u001b[0m\u001b[0;34m:\u001b[0m \u001b[0;36m2.0\u001b[0m\u001b[0;34m,\u001b[0m \u001b[0;34m\"max_iter\"\u001b[0m\u001b[0;34m:\u001b[0m \u001b[0;36m500\u001b[0m\u001b[0;34m}\u001b[0m\u001b[0;34m,\u001b[0m\u001b[0;34m\u001b[0m\u001b[0;34m\u001b[0m\u001b[0m\n\u001b[1;32m      5\u001b[0m     \u001b[0mnew_label_name\u001b[0m \u001b[0;34m=\u001b[0m \u001b[0;34m\"label_mean_shift\"\u001b[0m\u001b[0;34m,\u001b[0m\u001b[0;34m\u001b[0m\u001b[0;34m\u001b[0m\u001b[0m\n",
      "\u001b[0;32m/tmp/ipykernel_10036/3179405003.py\u001b[0m in \u001b[0;36madd_clustering_labels\u001b[0;34m(df, clustering_function, parameters, new_label_name, exclude_columns)\u001b[0m\n\u001b[1;32m     66\u001b[0m     \u001b[0;31m# Todas las funciones que calculan clusters llevan el decorador @time_func\u001b[0m\u001b[0;34m\u001b[0m\u001b[0;34m\u001b[0m\u001b[0m\n\u001b[1;32m     67\u001b[0m     \u001b[0;31m# y por tanto devuelven cuanto tiempo an tardado\u001b[0m\u001b[0;34m\u001b[0m\u001b[0;34m\u001b[0m\u001b[0m\n\u001b[0;32m---> 68\u001b[0;31m     \u001b[0mlabels\u001b[0m\u001b[0;34m,\u001b[0m \u001b[0mellapsed\u001b[0m \u001b[0;34m=\u001b[0m \u001b[0mclustering_function\u001b[0m\u001b[0;34m(\u001b[0m\u001b[0mdf_filtered\u001b[0m\u001b[0;34m,\u001b[0m \u001b[0;34m**\u001b[0m\u001b[0mparameters\u001b[0m\u001b[0;34m)\u001b[0m\u001b[0;34m\u001b[0m\u001b[0;34m\u001b[0m\u001b[0m\n\u001b[0m\u001b[1;32m     69\u001b[0m \u001b[0;34m\u001b[0m\u001b[0m\n\u001b[1;32m     70\u001b[0m     \u001b[0;31m# Añadimos las etiquetas a la vez que recuperamos las columnas eliminadas\u001b[0m\u001b[0;34m\u001b[0m\u001b[0;34m\u001b[0m\u001b[0m\n",
      "\u001b[0;32m/tmp/ipykernel_10036/605372695.py\u001b[0m in \u001b[0;36mmodified_function\u001b[0;34m(*args, **kwargs)\u001b[0m\n\u001b[1;32m      8\u001b[0m     \u001b[0;32mdef\u001b[0m \u001b[0mmodified_function\u001b[0m\u001b[0;34m(\u001b[0m\u001b[0;34m*\u001b[0m\u001b[0margs\u001b[0m\u001b[0;34m,\u001b[0m \u001b[0;34m**\u001b[0m\u001b[0mkwargs\u001b[0m\u001b[0;34m)\u001b[0m\u001b[0;34m:\u001b[0m\u001b[0;34m\u001b[0m\u001b[0;34m\u001b[0m\u001b[0m\n\u001b[1;32m      9\u001b[0m         \u001b[0minit\u001b[0m \u001b[0;34m=\u001b[0m \u001b[0mtime\u001b[0m\u001b[0;34m(\u001b[0m\u001b[0;34m)\u001b[0m\u001b[0;34m\u001b[0m\u001b[0;34m\u001b[0m\u001b[0m\n\u001b[0;32m---> 10\u001b[0;31m         \u001b[0mresult\u001b[0m \u001b[0;34m=\u001b[0m \u001b[0mfunc\u001b[0m\u001b[0;34m(\u001b[0m\u001b[0;34m*\u001b[0m\u001b[0margs\u001b[0m\u001b[0;34m,\u001b[0m \u001b[0;34m**\u001b[0m\u001b[0mkwargs\u001b[0m\u001b[0;34m)\u001b[0m\u001b[0;34m\u001b[0m\u001b[0;34m\u001b[0m\u001b[0m\n\u001b[0m\u001b[1;32m     11\u001b[0m         \u001b[0mend\u001b[0m \u001b[0;34m=\u001b[0m \u001b[0mtime\u001b[0m\u001b[0;34m(\u001b[0m\u001b[0;34m)\u001b[0m\u001b[0;34m\u001b[0m\u001b[0;34m\u001b[0m\u001b[0m\n\u001b[1;32m     12\u001b[0m \u001b[0;34m\u001b[0m\u001b[0m\n",
      "\u001b[0;32m/tmp/ipykernel_10036/3179405003.py\u001b[0m in \u001b[0;36mcompute_mean_shift\u001b[0;34m(df, bandwidth, max_iter)\u001b[0m\n\u001b[1;32m     36\u001b[0m     \"\"\"\n\u001b[1;32m     37\u001b[0m \u001b[0;34m\u001b[0m\u001b[0m\n\u001b[0;32m---> 38\u001b[0;31m     \u001b[0mclustering\u001b[0m \u001b[0;34m=\u001b[0m \u001b[0mMeanShift\u001b[0m\u001b[0;34m(\u001b[0m\u001b[0mbandwidth\u001b[0m\u001b[0;34m=\u001b[0m\u001b[0mbandwidth\u001b[0m\u001b[0;34m,\u001b[0m \u001b[0mmax_iter\u001b[0m \u001b[0;34m=\u001b[0m \u001b[0mmax_iter\u001b[0m\u001b[0;34m)\u001b[0m\u001b[0;34m.\u001b[0m\u001b[0mfit\u001b[0m\u001b[0;34m(\u001b[0m\u001b[0mdf\u001b[0m\u001b[0;34m)\u001b[0m\u001b[0;34m\u001b[0m\u001b[0;34m\u001b[0m\u001b[0m\n\u001b[0m\u001b[1;32m     39\u001b[0m     \u001b[0;32mreturn\u001b[0m \u001b[0mclustering\u001b[0m\u001b[0;34m.\u001b[0m\u001b[0mlabels_\u001b[0m\u001b[0;34m\u001b[0m\u001b[0;34m\u001b[0m\u001b[0m\n\u001b[1;32m     40\u001b[0m \u001b[0;34m\u001b[0m\u001b[0m\n",
      "\u001b[0;32m~/.local/lib/python3.9/site-packages/sklearn/cluster/_mean_shift.py\u001b[0m in \u001b[0;36mfit\u001b[0;34m(self, X, y)\u001b[0m\n\u001b[1;32m    440\u001b[0m \u001b[0;34m\u001b[0m\u001b[0m\n\u001b[1;32m    441\u001b[0m         \u001b[0;31m# execute iterations on all seeds in parallel\u001b[0m\u001b[0;34m\u001b[0m\u001b[0;34m\u001b[0m\u001b[0m\n\u001b[0;32m--> 442\u001b[0;31m         all_res = Parallel(n_jobs=self.n_jobs)(\n\u001b[0m\u001b[1;32m    443\u001b[0m             \u001b[0mdelayed\u001b[0m\u001b[0;34m(\u001b[0m\u001b[0m_mean_shift_single_seed\u001b[0m\u001b[0;34m)\u001b[0m\u001b[0;34m(\u001b[0m\u001b[0mseed\u001b[0m\u001b[0;34m,\u001b[0m \u001b[0mX\u001b[0m\u001b[0;34m,\u001b[0m \u001b[0mnbrs\u001b[0m\u001b[0;34m,\u001b[0m \u001b[0mself\u001b[0m\u001b[0;34m.\u001b[0m\u001b[0mmax_iter\u001b[0m\u001b[0;34m)\u001b[0m\u001b[0;34m\u001b[0m\u001b[0;34m\u001b[0m\u001b[0m\n\u001b[1;32m    444\u001b[0m             \u001b[0;32mfor\u001b[0m \u001b[0mseed\u001b[0m \u001b[0;32min\u001b[0m \u001b[0mseeds\u001b[0m\u001b[0;34m\u001b[0m\u001b[0;34m\u001b[0m\u001b[0m\n",
      "\u001b[0;32m~/.local/lib/python3.9/site-packages/joblib/parallel.py\u001b[0m in \u001b[0;36m__call__\u001b[0;34m(self, iterable)\u001b[0m\n\u001b[1;32m   1044\u001b[0m                 \u001b[0mself\u001b[0m\u001b[0;34m.\u001b[0m\u001b[0m_iterating\u001b[0m \u001b[0;34m=\u001b[0m \u001b[0mself\u001b[0m\u001b[0;34m.\u001b[0m\u001b[0m_original_iterator\u001b[0m \u001b[0;32mis\u001b[0m \u001b[0;32mnot\u001b[0m \u001b[0;32mNone\u001b[0m\u001b[0;34m\u001b[0m\u001b[0;34m\u001b[0m\u001b[0m\n\u001b[1;32m   1045\u001b[0m \u001b[0;34m\u001b[0m\u001b[0m\n\u001b[0;32m-> 1046\u001b[0;31m             \u001b[0;32mwhile\u001b[0m \u001b[0mself\u001b[0m\u001b[0;34m.\u001b[0m\u001b[0mdispatch_one_batch\u001b[0m\u001b[0;34m(\u001b[0m\u001b[0miterator\u001b[0m\u001b[0;34m)\u001b[0m\u001b[0;34m:\u001b[0m\u001b[0;34m\u001b[0m\u001b[0;34m\u001b[0m\u001b[0m\n\u001b[0m\u001b[1;32m   1047\u001b[0m                 \u001b[0;32mpass\u001b[0m\u001b[0;34m\u001b[0m\u001b[0;34m\u001b[0m\u001b[0m\n\u001b[1;32m   1048\u001b[0m \u001b[0;34m\u001b[0m\u001b[0m\n",
      "\u001b[0;32m~/.local/lib/python3.9/site-packages/joblib/parallel.py\u001b[0m in \u001b[0;36mdispatch_one_batch\u001b[0;34m(self, iterator)\u001b[0m\n\u001b[1;32m    859\u001b[0m                 \u001b[0;32mreturn\u001b[0m \u001b[0;32mFalse\u001b[0m\u001b[0;34m\u001b[0m\u001b[0;34m\u001b[0m\u001b[0m\n\u001b[1;32m    860\u001b[0m             \u001b[0;32melse\u001b[0m\u001b[0;34m:\u001b[0m\u001b[0;34m\u001b[0m\u001b[0;34m\u001b[0m\u001b[0m\n\u001b[0;32m--> 861\u001b[0;31m                 \u001b[0mself\u001b[0m\u001b[0;34m.\u001b[0m\u001b[0m_dispatch\u001b[0m\u001b[0;34m(\u001b[0m\u001b[0mtasks\u001b[0m\u001b[0;34m)\u001b[0m\u001b[0;34m\u001b[0m\u001b[0;34m\u001b[0m\u001b[0m\n\u001b[0m\u001b[1;32m    862\u001b[0m                 \u001b[0;32mreturn\u001b[0m \u001b[0;32mTrue\u001b[0m\u001b[0;34m\u001b[0m\u001b[0;34m\u001b[0m\u001b[0m\n\u001b[1;32m    863\u001b[0m \u001b[0;34m\u001b[0m\u001b[0m\n",
      "\u001b[0;32m~/.local/lib/python3.9/site-packages/joblib/parallel.py\u001b[0m in \u001b[0;36m_dispatch\u001b[0;34m(self, batch)\u001b[0m\n\u001b[1;32m    777\u001b[0m         \u001b[0;32mwith\u001b[0m \u001b[0mself\u001b[0m\u001b[0;34m.\u001b[0m\u001b[0m_lock\u001b[0m\u001b[0;34m:\u001b[0m\u001b[0;34m\u001b[0m\u001b[0;34m\u001b[0m\u001b[0m\n\u001b[1;32m    778\u001b[0m             \u001b[0mjob_idx\u001b[0m \u001b[0;34m=\u001b[0m \u001b[0mlen\u001b[0m\u001b[0;34m(\u001b[0m\u001b[0mself\u001b[0m\u001b[0;34m.\u001b[0m\u001b[0m_jobs\u001b[0m\u001b[0;34m)\u001b[0m\u001b[0;34m\u001b[0m\u001b[0;34m\u001b[0m\u001b[0m\n\u001b[0;32m--> 779\u001b[0;31m             \u001b[0mjob\u001b[0m \u001b[0;34m=\u001b[0m \u001b[0mself\u001b[0m\u001b[0;34m.\u001b[0m\u001b[0m_backend\u001b[0m\u001b[0;34m.\u001b[0m\u001b[0mapply_async\u001b[0m\u001b[0;34m(\u001b[0m\u001b[0mbatch\u001b[0m\u001b[0;34m,\u001b[0m \u001b[0mcallback\u001b[0m\u001b[0;34m=\u001b[0m\u001b[0mcb\u001b[0m\u001b[0;34m)\u001b[0m\u001b[0;34m\u001b[0m\u001b[0;34m\u001b[0m\u001b[0m\n\u001b[0m\u001b[1;32m    780\u001b[0m             \u001b[0;31m# A job can complete so quickly than its callback is\u001b[0m\u001b[0;34m\u001b[0m\u001b[0;34m\u001b[0m\u001b[0m\n\u001b[1;32m    781\u001b[0m             \u001b[0;31m# called before we get here, causing self._jobs to\u001b[0m\u001b[0;34m\u001b[0m\u001b[0;34m\u001b[0m\u001b[0m\n",
      "\u001b[0;32m~/.local/lib/python3.9/site-packages/joblib/_parallel_backends.py\u001b[0m in \u001b[0;36mapply_async\u001b[0;34m(self, func, callback)\u001b[0m\n\u001b[1;32m    206\u001b[0m     \u001b[0;32mdef\u001b[0m \u001b[0mapply_async\u001b[0m\u001b[0;34m(\u001b[0m\u001b[0mself\u001b[0m\u001b[0;34m,\u001b[0m \u001b[0mfunc\u001b[0m\u001b[0;34m,\u001b[0m \u001b[0mcallback\u001b[0m\u001b[0;34m=\u001b[0m\u001b[0;32mNone\u001b[0m\u001b[0;34m)\u001b[0m\u001b[0;34m:\u001b[0m\u001b[0;34m\u001b[0m\u001b[0;34m\u001b[0m\u001b[0m\n\u001b[1;32m    207\u001b[0m         \u001b[0;34m\"\"\"Schedule a func to be run\"\"\"\u001b[0m\u001b[0;34m\u001b[0m\u001b[0;34m\u001b[0m\u001b[0m\n\u001b[0;32m--> 208\u001b[0;31m         \u001b[0mresult\u001b[0m \u001b[0;34m=\u001b[0m \u001b[0mImmediateResult\u001b[0m\u001b[0;34m(\u001b[0m\u001b[0mfunc\u001b[0m\u001b[0;34m)\u001b[0m\u001b[0;34m\u001b[0m\u001b[0;34m\u001b[0m\u001b[0m\n\u001b[0m\u001b[1;32m    209\u001b[0m         \u001b[0;32mif\u001b[0m \u001b[0mcallback\u001b[0m\u001b[0;34m:\u001b[0m\u001b[0;34m\u001b[0m\u001b[0;34m\u001b[0m\u001b[0m\n\u001b[1;32m    210\u001b[0m             \u001b[0mcallback\u001b[0m\u001b[0;34m(\u001b[0m\u001b[0mresult\u001b[0m\u001b[0;34m)\u001b[0m\u001b[0;34m\u001b[0m\u001b[0;34m\u001b[0m\u001b[0m\n",
      "\u001b[0;32m~/.local/lib/python3.9/site-packages/joblib/_parallel_backends.py\u001b[0m in \u001b[0;36m__init__\u001b[0;34m(self, batch)\u001b[0m\n\u001b[1;32m    570\u001b[0m         \u001b[0;31m# Don't delay the application, to avoid keeping the input\u001b[0m\u001b[0;34m\u001b[0m\u001b[0;34m\u001b[0m\u001b[0m\n\u001b[1;32m    571\u001b[0m         \u001b[0;31m# arguments in memory\u001b[0m\u001b[0;34m\u001b[0m\u001b[0;34m\u001b[0m\u001b[0m\n\u001b[0;32m--> 572\u001b[0;31m         \u001b[0mself\u001b[0m\u001b[0;34m.\u001b[0m\u001b[0mresults\u001b[0m \u001b[0;34m=\u001b[0m \u001b[0mbatch\u001b[0m\u001b[0;34m(\u001b[0m\u001b[0;34m)\u001b[0m\u001b[0;34m\u001b[0m\u001b[0;34m\u001b[0m\u001b[0m\n\u001b[0m\u001b[1;32m    573\u001b[0m \u001b[0;34m\u001b[0m\u001b[0m\n\u001b[1;32m    574\u001b[0m     \u001b[0;32mdef\u001b[0m \u001b[0mget\u001b[0m\u001b[0;34m(\u001b[0m\u001b[0mself\u001b[0m\u001b[0;34m)\u001b[0m\u001b[0;34m:\u001b[0m\u001b[0;34m\u001b[0m\u001b[0;34m\u001b[0m\u001b[0m\n",
      "\u001b[0;32m~/.local/lib/python3.9/site-packages/joblib/parallel.py\u001b[0m in \u001b[0;36m__call__\u001b[0;34m(self)\u001b[0m\n\u001b[1;32m    260\u001b[0m         \u001b[0;31m# change the default number of processes to -1\u001b[0m\u001b[0;34m\u001b[0m\u001b[0;34m\u001b[0m\u001b[0m\n\u001b[1;32m    261\u001b[0m         \u001b[0;32mwith\u001b[0m \u001b[0mparallel_backend\u001b[0m\u001b[0;34m(\u001b[0m\u001b[0mself\u001b[0m\u001b[0;34m.\u001b[0m\u001b[0m_backend\u001b[0m\u001b[0;34m,\u001b[0m \u001b[0mn_jobs\u001b[0m\u001b[0;34m=\u001b[0m\u001b[0mself\u001b[0m\u001b[0;34m.\u001b[0m\u001b[0m_n_jobs\u001b[0m\u001b[0;34m)\u001b[0m\u001b[0;34m:\u001b[0m\u001b[0;34m\u001b[0m\u001b[0;34m\u001b[0m\u001b[0m\n\u001b[0;32m--> 262\u001b[0;31m             return [func(*args, **kwargs)\n\u001b[0m\u001b[1;32m    263\u001b[0m                     for func, args, kwargs in self.items]\n\u001b[1;32m    264\u001b[0m \u001b[0;34m\u001b[0m\u001b[0m\n",
      "\u001b[0;32m~/.local/lib/python3.9/site-packages/joblib/parallel.py\u001b[0m in \u001b[0;36m<listcomp>\u001b[0;34m(.0)\u001b[0m\n\u001b[1;32m    260\u001b[0m         \u001b[0;31m# change the default number of processes to -1\u001b[0m\u001b[0;34m\u001b[0m\u001b[0;34m\u001b[0m\u001b[0m\n\u001b[1;32m    261\u001b[0m         \u001b[0;32mwith\u001b[0m \u001b[0mparallel_backend\u001b[0m\u001b[0;34m(\u001b[0m\u001b[0mself\u001b[0m\u001b[0;34m.\u001b[0m\u001b[0m_backend\u001b[0m\u001b[0;34m,\u001b[0m \u001b[0mn_jobs\u001b[0m\u001b[0;34m=\u001b[0m\u001b[0mself\u001b[0m\u001b[0;34m.\u001b[0m\u001b[0m_n_jobs\u001b[0m\u001b[0;34m)\u001b[0m\u001b[0;34m:\u001b[0m\u001b[0;34m\u001b[0m\u001b[0;34m\u001b[0m\u001b[0m\n\u001b[0;32m--> 262\u001b[0;31m             return [func(*args, **kwargs)\n\u001b[0m\u001b[1;32m    263\u001b[0m                     for func, args, kwargs in self.items]\n\u001b[1;32m    264\u001b[0m \u001b[0;34m\u001b[0m\u001b[0m\n",
      "\u001b[0;32m~/.local/lib/python3.9/site-packages/sklearn/utils/fixes.py\u001b[0m in \u001b[0;36m__call__\u001b[0;34m(self, *args, **kwargs)\u001b[0m\n\u001b[1;32m    209\u001b[0m     \u001b[0;32mdef\u001b[0m \u001b[0m__call__\u001b[0m\u001b[0;34m(\u001b[0m\u001b[0mself\u001b[0m\u001b[0;34m,\u001b[0m \u001b[0;34m*\u001b[0m\u001b[0margs\u001b[0m\u001b[0;34m,\u001b[0m \u001b[0;34m**\u001b[0m\u001b[0mkwargs\u001b[0m\u001b[0;34m)\u001b[0m\u001b[0;34m:\u001b[0m\u001b[0;34m\u001b[0m\u001b[0;34m\u001b[0m\u001b[0m\n\u001b[1;32m    210\u001b[0m         \u001b[0;32mwith\u001b[0m \u001b[0mconfig_context\u001b[0m\u001b[0;34m(\u001b[0m\u001b[0;34m**\u001b[0m\u001b[0mself\u001b[0m\u001b[0;34m.\u001b[0m\u001b[0mconfig\u001b[0m\u001b[0;34m)\u001b[0m\u001b[0;34m:\u001b[0m\u001b[0;34m\u001b[0m\u001b[0;34m\u001b[0m\u001b[0m\n\u001b[0;32m--> 211\u001b[0;31m             \u001b[0;32mreturn\u001b[0m \u001b[0mself\u001b[0m\u001b[0;34m.\u001b[0m\u001b[0mfunction\u001b[0m\u001b[0;34m(\u001b[0m\u001b[0;34m*\u001b[0m\u001b[0margs\u001b[0m\u001b[0;34m,\u001b[0m \u001b[0;34m**\u001b[0m\u001b[0mkwargs\u001b[0m\u001b[0;34m)\u001b[0m\u001b[0;34m\u001b[0m\u001b[0;34m\u001b[0m\u001b[0m\n\u001b[0m\u001b[1;32m    212\u001b[0m \u001b[0;34m\u001b[0m\u001b[0m\n\u001b[1;32m    213\u001b[0m \u001b[0;34m\u001b[0m\u001b[0m\n",
      "\u001b[0;32m~/.local/lib/python3.9/site-packages/sklearn/cluster/_mean_shift.py\u001b[0m in \u001b[0;36m_mean_shift_single_seed\u001b[0;34m(my_mean, X, nbrs, max_iter)\u001b[0m\n\u001b[1;32m     93\u001b[0m         \u001b[0;31m# Find mean of points within bandwidth\u001b[0m\u001b[0;34m\u001b[0m\u001b[0;34m\u001b[0m\u001b[0m\n\u001b[1;32m     94\u001b[0m         \u001b[0mi_nbrs\u001b[0m \u001b[0;34m=\u001b[0m \u001b[0mnbrs\u001b[0m\u001b[0;34m.\u001b[0m\u001b[0mradius_neighbors\u001b[0m\u001b[0;34m(\u001b[0m\u001b[0;34m[\u001b[0m\u001b[0mmy_mean\u001b[0m\u001b[0;34m]\u001b[0m\u001b[0;34m,\u001b[0m \u001b[0mbandwidth\u001b[0m\u001b[0;34m,\u001b[0m \u001b[0mreturn_distance\u001b[0m\u001b[0;34m=\u001b[0m\u001b[0;32mFalse\u001b[0m\u001b[0;34m)\u001b[0m\u001b[0;34m[\u001b[0m\u001b[0;36m0\u001b[0m\u001b[0;34m]\u001b[0m\u001b[0;34m\u001b[0m\u001b[0;34m\u001b[0m\u001b[0m\n\u001b[0;32m---> 95\u001b[0;31m         \u001b[0mpoints_within\u001b[0m \u001b[0;34m=\u001b[0m \u001b[0mX\u001b[0m\u001b[0;34m[\u001b[0m\u001b[0mi_nbrs\u001b[0m\u001b[0;34m]\u001b[0m\u001b[0;34m\u001b[0m\u001b[0;34m\u001b[0m\u001b[0m\n\u001b[0m\u001b[1;32m     96\u001b[0m         \u001b[0;32mif\u001b[0m \u001b[0mlen\u001b[0m\u001b[0;34m(\u001b[0m\u001b[0mpoints_within\u001b[0m\u001b[0;34m)\u001b[0m \u001b[0;34m==\u001b[0m \u001b[0;36m0\u001b[0m\u001b[0;34m:\u001b[0m\u001b[0;34m\u001b[0m\u001b[0;34m\u001b[0m\u001b[0m\n\u001b[1;32m     97\u001b[0m             \u001b[0;32mbreak\u001b[0m  \u001b[0;31m# Depending on seeding strategy this condition may occur\u001b[0m\u001b[0;34m\u001b[0m\u001b[0;34m\u001b[0m\u001b[0m\n",
      "\u001b[0;31mKeyboardInterrupt\u001b[0m: "
     ]
    }
   ],
   "source": [
    "df_first, ellapsed = add_clustering_labels(\n",
    "    df_first,\n",
    "    compute_mean_shift,\n",
    "    parameters = {\"bandwidth\": 2.0, \"max_iter\": 500},\n",
    "    new_label_name = \"label_mean_shift\",\n",
    "    exclude_columns = [\"label_kmeans\", \"label_dbscan\", \"label_birch\"]\n",
    ") \n",
    "\n",
    "# Añado el tiempo consumido\n",
    "ellapsed_times[\"label_mean_shift\"] = ellapsed\n",
    "\n",
    "custom_pair_plot(\n",
    "    df = df_first,\n",
    "    hue = \"label_mean_shift\",\n",
    "    exclude_columns = [\"label_kmeans\", \"label_dbscan\", \"label_birch\"]\n",
    ")"
   ]
  },
  {
   "cell_type": "markdown",
   "id": "2406d60e-baf0-4668-adad-e53d08fc36d1",
   "metadata": {},
   "source": [
    "Ahora aplicamos *clustering* jerárquico:"
   ]
  },
  {
   "cell_type": "code",
   "execution_count": null,
   "id": "6a40c29f-8f2b-48d8-aa6c-883664bf2050",
   "metadata": {},
   "outputs": [],
   "source": [
    "df_first, ellapsed = add_clustering_labels(\n",
    "    df_first,\n",
    "    compute_agglomerative_clustering,\n",
    "    parameters = {\"n_clusters\": 5, \"linkage\": \"ward\"},\n",
    "    new_label_name = \"label_agglomerative\",\n",
    "    exclude_columns = [\"label_kmeans\", \"label_dbscan\", \"label_birch\", \"label_mean_shift\"]\n",
    ") \n",
    "\n",
    "# Añado el tiempo consumido\n",
    "ellapsed_times[\"label_agglomerative\"] = ellapsed\n",
    "\n",
    "custom_pair_plot(\n",
    "    df = df_first,\n",
    "    hue = \"label_agglomerative\",\n",
    "    exclude_columns = [\"label_kmeans\", \"label_dbscan\", \"label_birch\", \"label_mean_shift\"]\n",
    ")"
   ]
  },
  {
   "cell_type": "markdown",
   "id": "301f0e4a-2554-49ee-8352-7ba9fd599026",
   "metadata": {},
   "source": [
    "## Métricas de las clusterizaciones"
   ]
  },
  {
   "cell_type": "markdown",
   "id": "dd9d6f42-90c0-4b36-9ac9-afddb47b1192",
   "metadata": {},
   "source": [
    "Una vez que hemos aplicado los cinco algoritmos anteriores, recogemos las métricas de cada algoritmo para poder compararlas:"
   ]
  },
  {
   "cell_type": "code",
   "execution_count": null,
   "id": "5d40f17f-e1a5-454e-92fa-13d081fff3d6",
   "metadata": {},
   "outputs": [],
   "source": [
    "# Todas las metricas que hemos construido\n",
    "labels = [\"label_kmeans\", \"label_dbscan\", \"label_birch\", \"label_mean_shift\", \"label_agglomerative\"]\n",
    "\n",
    "# Dataframe sin las columnas con las metricas\n",
    "df_raw = drop_columns(df_first, labels)\n",
    "\n",
    "# Diccionario que vamos a construir agregando todas las metricas\n",
    "global_metrics = dict()\n",
    "\n",
    "# Iteramos sobre cada una de las metricas\n",
    "for label in labels:\n",
    "    print(label)\n",
    "    print(\"=\" * 80)\n",
    "    print(\"\")\n",
    "    \n",
    "    # Tomamos las etiquetas del algoritmo actual y calculamos las metricas+\n",
    "    curr_labels = df_first[label]\n",
    "    curr_metrics = compute_clustering_metrics(df_raw, curr_labels)\n",
    "    \n",
    "    # Añadimos el tiempo de ejecucion para que se muestre con el resto de metricas\n",
    "    curr_metrics[\"ellapsed_time (s)\"] = ellapsed_times[label]\n",
    "    \n",
    "    # Mostramos dichas metricas\n",
    "    pprint(curr_metrics)\n",
    "    print(\"\")\n",
    "    print(\"\")\n",
    "    \n",
    "    # Guardamos el diccionario con metricas en el nuevo diccionario con todas las metricas\n",
    "    global_metrics[label] = curr_metrics"
   ]
  },
  {
   "cell_type": "markdown",
   "id": "7ac288f1-59e7-4f1d-8888-7a2a5fb924f1",
   "metadata": {},
   "source": [
    "## Visualizando estas métricas"
   ]
  },
  {
   "cell_type": "markdown",
   "id": "d8a7824c-a8f5-4641-9e34-2330b584bbaa",
   "metadata": {},
   "source": [
    "Vamos a mostrar gráficamente algunas de estas métricas de forma comparativa entre los algoritmos considerados. Nos basamos fuertemente en el diccionario con las métricas agregadas de distintos algoritmos para realizar estas visualizaciones. Empezamos comparando los tiempos de ejecución:"
   ]
  },
  {
   "cell_type": "code",
   "execution_count": null,
   "id": "558a9b20-82da-4d76-866f-1ca8f0bfc493",
   "metadata": {},
   "outputs": [],
   "source": [
    "# Etiquetas de los algoritmos que hemos usado\n",
    "labels = [\"label_kmeans\", \"label_dbscan\", \"label_birch\", \"label_mean_shift\", \"label_agglomerative\"]\n",
    "\n",
    "# Tomamos los tiempos de ejecucion\n",
    "times = [global_metrics[label][\"ellapsed_time (s)\"] for label in labels]\n",
    "\n",
    "# Ordenamos las dos listas basandonos en la de tiempos, para obtener una mejor visualizacion\n",
    "times, labels = zip(*sorted(zip(times, labels)))\n",
    "\n",
    "# Creamos un dataframe para mostrar usando seaborn\n",
    "df_sns = pd.DataFrame()\n",
    "df_sns[\"labels\"] = labels\n",
    "df_sns[\"time (s)\"] = times\n",
    "\n",
    "# Mostramos la grafica buscada\n",
    "sns.barplot(data = df_sns, x = \"time (s)\", y = \"labels\")"
   ]
  },
  {
   "cell_type": "markdown",
   "id": "d19ba57f-12c5-4fa1-81c0-f5b8765e9a63",
   "metadata": {},
   "source": [
    "Veamos ahora el número de clusters que han generado los algoritmos:"
   ]
  },
  {
   "cell_type": "code",
   "execution_count": null,
   "id": "34314c97-4310-4ee0-abd9-bd340e59c2ed",
   "metadata": {},
   "outputs": [],
   "source": [
    "# Tomamos el numero de clusters\n",
    "num_clusters = [global_metrics[label][\"total_clusters\"] for label in labels]\n",
    "\n",
    "# Ordenamos las dos listas basandonos en la de numero de clusters, para obtener una mejor visualizacion\n",
    "num_clusters, labels = zip(*sorted(zip(num_clusters, labels)))\n",
    "\n",
    "# Creamos un dataframe para mostrar usando seaborn\n",
    "df_sns = pd.DataFrame()\n",
    "df_sns[\"labels\"] = labels\n",
    "df_sns[\"total_clusters\"] = num_clusters\n",
    "\n",
    "# Mostramos la grafica buscada\n",
    "sns.barplot(data = df_sns, x = \"total_clusters\", y = \"labels\")"
   ]
  },
  {
   "cell_type": "markdown",
   "id": "889915d1-774d-4d47-8143-a9b0fad81e47",
   "metadata": {},
   "source": [
    "Comparamos ahora los índices de Silhouette, que recordemos que queremos que sean lo más cercano a 1:"
   ]
  },
  {
   "cell_type": "code",
   "execution_count": null,
   "id": "113fb0a8-fdf9-426b-b72f-fba780f0bf5c",
   "metadata": {},
   "outputs": [],
   "source": [
    "silhouette = [global_metrics[label][\"silhouette\"] for label in labels]\n",
    "silhouette, labels = zip(*sorted(zip(silhouette, labels)))\n",
    "\n",
    "# Creamos un dataframe para mostrar usando seaborn\n",
    "df_sns = pd.DataFrame()\n",
    "df_sns[\"labels\"] = labels\n",
    "df_sns[\"silhouette\"] = silhouette\n",
    "\n",
    "# Mostramos la grafica buscada\n",
    "sns.barplot(data = df_sns, x = \"silhouette\", y = \"labels\")"
   ]
  },
  {
   "cell_type": "markdown",
   "id": "008227e6-5886-457c-894d-c33c5ba6eeac",
   "metadata": {},
   "source": [
    "Hacemos lo mismo con Calinski:"
   ]
  },
  {
   "cell_type": "code",
   "execution_count": null,
   "id": "9c1bd841-8526-463e-adbd-3b40c425bfff",
   "metadata": {},
   "outputs": [],
   "source": [
    "calinski = [global_metrics[label][\"calinski\"] for label in labels]\n",
    "calinski, labels = zip(*sorted(zip(calinski, labels)))\n",
    "\n",
    "# Creamos un dataframe para mostrar usando seaborn\n",
    "df_sns = pd.DataFrame()\n",
    "df_sns[\"labels\"] = labels\n",
    "df_sns[\"calinski\"] = calinski\n",
    "\n",
    "# Mostramos la grafica buscada\n",
    "sns.barplot(data = df_sns, x = \"calinski\", y = \"labels\")"
   ]
  },
  {
   "cell_type": "markdown",
   "id": "b8359b3f-18c8-465d-937c-0ccedb522a58",
   "metadata": {},
   "source": [
    "Hacemos lo mismo con Davies:"
   ]
  },
  {
   "cell_type": "code",
   "execution_count": null,
   "id": "eca42509-ad55-42ee-82e6-981e6bbe5d4e",
   "metadata": {},
   "outputs": [],
   "source": [
    "davies = [global_metrics[label][\"davies\"] for label in labels]\n",
    "davies, labels = zip(*sorted(zip(davies, labels)))\n",
    "\n",
    "# Creamos un dataframe para mostrar usando seaborn\n",
    "df_sns = pd.DataFrame()\n",
    "df_sns[\"labels\"] = labels\n",
    "df_sns[\"davies\"] = davies\n",
    "\n",
    "# Mostramos la grafica buscada\n",
    "sns.barplot(data = df_sns, x = \"davies\", y = \"labels\")"
   ]
  },
  {
   "cell_type": "markdown",
   "id": "c1ab9d94-ba06-47e5-afc1-c4b5efa4c8fa",
   "metadata": {},
   "source": [
    "Y veamos ahora las dos estadísticas sobre el número de elementos por cada cluster:\n",
    "\n",
    "<!-- TODO -- juntar estas dos graficas en una sola -->"
   ]
  },
  {
   "cell_type": "code",
   "execution_count": null,
   "id": "22a954dd-8165-452b-b87e-6714ac1b26a8",
   "metadata": {},
   "outputs": [],
   "source": [
    "elements_mean = [global_metrics[label][\"elements_mean\"] for label in labels]\n",
    "elements_mean, labels = zip(*sorted(zip(elements_mean, labels)))\n",
    "\n",
    "# Creamos un dataframe para mostrar usando seaborn\n",
    "df_sns = pd.DataFrame()\n",
    "df_sns[\"labels\"] = labels\n",
    "df_sns[\"elements_mean\"] = elements_mean\n",
    "\n",
    "# Mostramos la grafica buscada\n",
    "sns.barplot(data = df_sns, x = \"elements_mean\", y = \"labels\")"
   ]
  },
  {
   "cell_type": "code",
   "execution_count": null,
   "id": "dc92ffa6-31fb-44ec-adc5-326678070199",
   "metadata": {},
   "outputs": [],
   "source": [
    "elements_std = [global_metrics[label][\"elements_std\"] for label in labels]\n",
    "elements_std, labels = zip(*sorted(zip(elements_std, labels)))\n",
    "\n",
    "# Creamos un dataframe para mostrar usando seaborn\n",
    "df_sns = pd.DataFrame()\n",
    "df_sns[\"labels\"] = labels\n",
    "df_sns[\"elements_std\"] = elements_std\n",
    "\n",
    "# Mostramos la grafica buscada\n",
    "sns.barplot(data = df_sns, x = \"elements_std\", y = \"labels\")"
   ]
  },
  {
   "cell_type": "markdown",
   "id": "a1c7ebec-a99e-44f0-8762-05a072d59b1e",
   "metadata": {},
   "source": [
    "## Visualizando en 2D la clusterización"
   ]
  },
  {
   "cell_type": "markdown",
   "id": "65c8536e-a308-4165-b117-cba02f3fef91",
   "metadata": {},
   "source": [
    "Usamos una técnica como `PCA` para reducir el conjunto de datos multidimensional a tener tan solo 2 dimensiones. A partir de aquí, mostramos gráficamente la clusterización que hemos realizado con cada uno de los algoritmos:"
   ]
  },
  {
   "cell_type": "code",
   "execution_count": null,
   "id": "c5cbc0a4-7610-441d-a007-368efa8f4459",
   "metadata": {},
   "outputs": [],
   "source": [
    "# Reducimos la dimensionalidad del conjunto de datos\n",
    "pca = PCA(2)\n",
    "\n",
    "# Reducimos la dimensionalidad\n",
    "df_lowdimension = pd.DataFrame(pca.fit_transform(df_raw))\n",
    "\n",
    "# Renombramos las columnas\n",
    "df_lowdimension = df_lowdimension.rename(columns = {\n",
    "    0: \"first_axis\",\n",
    "    1: \"second_axis\"\n",
    "})"
   ]
  },
  {
   "cell_type": "code",
   "execution_count": null,
   "id": "503c65e5-71b2-434c-a9f9-2edc0493e363",
   "metadata": {},
   "outputs": [],
   "source": [
    "# Por cada algoritmo, mostramos la clusterizacion realizada\n",
    "for label in labels:\n",
    "    print(f\"Grafico usando las etiquetas de {label}\")\n",
    "    sns.scatterplot(data = df_lowdimension, x = \"first_axis\", y = \"second_axis\", hue = df_first[label])\n",
    "    plt.show()"
   ]
  },
  {
   "cell_type": "markdown",
   "id": "58a93c82-595f-4452-b6ca-624c71cd2231",
   "metadata": {},
   "source": [
    "Realizamos lo mismo pero usando `TSNE` como algoritmo para reducir la dimensionalidad:"
   ]
  },
  {
   "cell_type": "code",
   "execution_count": null,
   "id": "cb45dd26-c646-4f45-b9f0-4c81bf8615a1",
   "metadata": {},
   "outputs": [],
   "source": [
    "# Reducimos la dimensionalidad\n",
    "df_lowdimension = pd.DataFrame(TSNE(n_components=2, learning_rate='auto', init='random').fit_transform(df_raw))\n",
    "\n",
    "# Renombramos las columnas\n",
    "df_lowdimension = df_lowdimension.rename(columns = {\n",
    "    0: \"first_axis\",\n",
    "    1: \"second_axis\"\n",
    "})"
   ]
  },
  {
   "cell_type": "code",
   "execution_count": null,
   "id": "860152fc-dbe7-455b-b131-e2d6a708f6df",
   "metadata": {},
   "outputs": [],
   "source": [
    "# Por cada algoritmo, mostramos la clusterizacion realizada\n",
    "for label in labels:\n",
    "    print(f\"Grafico usando las etiquetas de {label}\")\n",
    "    sns.scatterplot(data = df_lowdimension, x = \"first_axis\", y = \"second_axis\", hue = df_first[label])\n",
    "    plt.show()"
   ]
  }
 ],
 "metadata": {
  "kernelspec": {
   "display_name": "Python 3 (ipykernel)",
   "language": "python",
   "name": "python3"
  },
  "language_info": {
   "codemirror_mode": {
    "name": "ipython",
    "version": 3
   },
   "file_extension": ".py",
   "mimetype": "text/x-python",
   "name": "python",
   "nbconvert_exporter": "python",
   "pygments_lexer": "ipython3",
   "version": "3.9.9"
  }
 },
 "nbformat": 4,
 "nbformat_minor": 5
}

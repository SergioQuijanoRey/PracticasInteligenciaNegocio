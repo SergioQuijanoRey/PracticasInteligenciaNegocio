{
 "cells": [
  {
   "cell_type": "markdown",
   "id": "4a18a057-af3e-45b4-a687-4cd52bb2b556",
   "metadata": {
    "id": "4a18a057-af3e-45b4-a687-4cd52bb2b556",
    "tags": []
   },
   "source": [
    "# Importando los paquetes que vamos a usar"
   ]
  },
  {
   "cell_type": "code",
   "execution_count": 1,
   "id": "1bc10145-149d-4f52-9f9d-fc368650e3c2",
   "metadata": {
    "id": "1bc10145-149d-4f52-9f9d-fc368650e3c2"
   },
   "outputs": [],
   "source": [
    "import pandas as pd\n",
    "import numpy as np\n",
    "import matplotlib.pyplot as plt\n",
    "import seaborn as sns\n",
    "import sklearn\n",
    "from pprint import pprint\n",
    "import imblearn\n",
    "import os\n",
    "\n",
    "# Todas las piezas concretas que usamos de sklearn\n",
    "from sklearn.ensemble import AdaBoostClassifier\n",
    "from sklearn.model_selection import train_test_split, cross_val_score, ShuffleSplit\n",
    "from sklearn.tree import DecisionTreeClassifier\n",
    "from sklearn.metrics import roc_auc_score, accuracy_score\n",
    "from sklearn.experimental import enable_iterative_imputer\n",
    "from sklearn.impute import SimpleImputer, IterativeImputer\n",
    "from sklearn.linear_model import LogisticRegression\n",
    "from sklearn.multioutput import MultiOutputClassifier\n",
    "from sklearn.preprocessing import OneHotEncoder, StandardScaler\n",
    "from sklearn.neighbors import LocalOutlierFactor\n",
    "\n",
    "# Todas las piezas concretas que vamos a usar de imbalanced-learn\n",
    "from imblearn.combine import SMOTETomek\n",
    "\n",
    "# Catboost\n",
    "from catboost import Pool, CatBoostClassifier"
   ]
  },
  {
   "cell_type": "markdown",
   "id": "0722298c-7efb-4d60-af77-dca9d0e429bc",
   "metadata": {
    "id": "0722298c-7efb-4d60-af77-dca9d0e429bc"
   },
   "source": [
    "# Fijamos una semilla aleatoria"
   ]
  },
  {
   "cell_type": "code",
   "execution_count": 2,
   "id": "c0b84298-8c0b-4842-8ca7-3b58fee20a12",
   "metadata": {
    "id": "c0b84298-8c0b-4842-8ca7-3b58fee20a12"
   },
   "outputs": [],
   "source": [
    "RANDOM_SEED = 123456789\n",
    "\n",
    "np.random.seed(RANDOM_SEED)"
   ]
  },
  {
   "cell_type": "markdown",
   "id": "25f08969-29f6-4386-9529-c79cf97316c7",
   "metadata": {
    "id": "25f08969-29f6-4386-9529-c79cf97316c7"
   },
   "source": [
    "# Funciones comunes a todo el código"
   ]
  },
  {
   "cell_type": "markdown",
   "id": "34c1a04c-4ad3-4962-9fab-b730fc6370fc",
   "metadata": {
    "id": "34c1a04c-4ad3-4962-9fab-b730fc6370fc"
   },
   "source": [
    "## Funciones para evaluar el ajuste"
   ]
  },
  {
   "cell_type": "code",
   "execution_count": 3,
   "id": "72611030-fa57-4f6a-932a-d96a1d4f6ce5",
   "metadata": {
    "id": "72611030-fa57-4f6a-932a-d96a1d4f6ce5"
   },
   "outputs": [],
   "source": [
    "def calculate_roc_auc(true_labels_prob: np.array, predicted_labels_prob: np.array) -> float:\n",
    "    \"\"\"\n",
    "    Calcula el area bajo la curva ROC, dadas las etiquetas verdaderas y las\n",
    "    etiqeutas predichas por un modelo\n",
    "    \n",
    "    Las listas de etiquetas deben ser etiquetas probabilisticas\n",
    "    \"\"\"\n",
    "    return roc_auc_score(true_labels_prob, predicted_labels_prob, average = \"macro\")\n",
    "    \n",
    "def calculate_accuracy(true_labels: np.array, predicted_labels: np.array) -> float:\n",
    "    \"\"\"\n",
    "    Calcula el accuracy, dadas las etiquetas verdaderas y las\n",
    "    etiqeutas predichas por un modelo\n",
    "    \"\"\"\n",
    "    return accuracy_score(true_labels, predicted_labels)\n",
    "    \n",
    "def evaluate_model(model, x_train: np.ndarray, y_train: np.array, x_test: np.ndarray, y_test: np.array) -> dict:\n",
    "    \"\"\"\n",
    "    Evalua, usando distintas metricas, el modelo que hemos entrenado\n",
    "    \n",
    "    Devuelve un diccionario con todas las metricas calculadas con el modelo\n",
    "    \"\"\"\n",
    "    \n",
    "    # Diccionario en el que vamos a almacenar todas las metricas\n",
    "    metrics = dict()\n",
    "    \n",
    "    # Empezamos usando el modelo para realizar las predicciones+\n",
    "    # Usamos predicciones probabilisticas pues estas son fundamentales para\n",
    "    # la competicion\n",
    "    # Hacemos [:, 1] porque predict_proba da dos arrays, y el que usamos para el\n",
    "    # roc_auc es el segundo\n",
    "    train_predicted_labels_prob = np.array(model.predict_proba(x_train))\n",
    "    test_predicted_labels_prob = np.array(model.predict_proba(x_test))\n",
    "    \n",
    "    # Extraemos la columna positiva para cada salida\n",
    "    # Necesitamos hacer esto para poder calcular el roc_auc\n",
    "    train_predicted_labels_prob = np.transpose([pred[:, 1] for pred in train_predicted_labels_prob])\n",
    "    test_predicted_labels_prob = np.transpose([pred[:, 1] for pred in test_predicted_labels_prob])\n",
    "    \n",
    "    # Tomamos ahora las etiqeutas sin probabilidad\n",
    "    train_predicted_labels= np.array(model.predict(x_train))\n",
    "    test_predicted_labels = np.array(model.predict(x_test))\n",
    "               \n",
    "    # Tomamos las areas bajo la curva ROC\n",
    "    metrics[\"train_roc_auc\"] = calculate_roc_auc(y_train, train_predicted_labels_prob)\n",
    "    metrics[\"test_roc_auc\"] = calculate_roc_auc(y_test, test_predicted_labels_prob)\n",
    "    \n",
    "    # Tomamos las metricas de accuracy\n",
    "    metrics[\"train_acc\"] = calculate_accuracy(y_train, train_predicted_labels)\n",
    "    metrics[\"test_acc\"] = calculate_accuracy(y_test, test_predicted_labels)\n",
    "    \n",
    "    # Devolvemos las metricas en formato diccionario, que nos va a ser comodo para\n",
    "    # pasarlas a tablas y para mostrar muchas metricas simultaneamente\n",
    "    return metrics"
   ]
  },
  {
   "cell_type": "markdown",
   "id": "9aa957d6-1ef8-4af9-b19d-adbef5f5b041",
   "metadata": {
    "id": "9aa957d6-1ef8-4af9-b19d-adbef5f5b041"
   },
   "source": [
    "## Funciones para hacer la submission"
   ]
  },
  {
   "cell_type": "code",
   "execution_count": 4,
   "id": "d1b0b54e-d2a1-4548-aeb8-963f5ed44714",
   "metadata": {
    "id": "d1b0b54e-d2a1-4548-aeb8-963f5ed44714"
   },
   "outputs": [],
   "source": [
    "def generate_submission(model, x_test: np.ndarray):\n",
    "    \"\"\"\n",
    "    Dado un conjunto de test, genera las etiquetas que subiremos a la plataforma\n",
    "    \"\"\"\n",
    "    \n",
    "    prob_labels = model.predict_proba(x_test)\n",
    "    return prob_labels"
   ]
  },
  {
   "cell_type": "markdown",
   "id": "cfd8d3fb-0f0a-4586-be33-1440720f5e42",
   "metadata": {
    "id": "cfd8d3fb-0f0a-4586-be33-1440720f5e42"
   },
   "source": [
    "## Funciones para manipular `dataframes`"
   ]
  },
  {
   "cell_type": "code",
   "execution_count": 5,
   "id": "187c6764-ebc1-4ee0-b72e-a9c148e36f7b",
   "metadata": {
    "id": "187c6764-ebc1-4ee0-b72e-a9c148e36f7b"
   },
   "outputs": [],
   "source": [
    "def dataframe_filter_object_columns(df: pd.DataFrame) -> pd.DataFrame:\n",
    "    \"\"\"\n",
    "    Dado un dataframe, devolvemos una COPIA de este en el que solo\n",
    "    nos quedamos con las columnas numericas\n",
    "    \n",
    "    @param df dataframe que se filtra. No se modifica\n",
    "    @return new_df dataframe copiado y que se ha filtrado\n",
    "    \"\"\"\n",
    "    \n",
    "    # No modificamos el dataframe que se pasa como parametro\n",
    "    new_df = df.copy()\n",
    "    \n",
    "    for column, column_type in zip(new_df.columns, new_df.dtypes):\n",
    "        if column_type == \"object\":\n",
    "            new_df = new_df.drop(columns = [column])\n",
    "                        \n",
    "    return new_df"
   ]
  },
  {
   "cell_type": "markdown",
   "id": "3048fc92-381b-41ea-b569-3fb2f0d31340",
   "metadata": {
    "id": "3048fc92-381b-41ea-b569-3fb2f0d31340"
   },
   "source": [
    "# Parámetros globales del Notebook"
   ]
  },
  {
   "cell_type": "code",
   "execution_count": 6,
   "id": "45b02468-a16d-46b9-9945-0cb39ad1c547",
   "metadata": {
    "id": "45b02468-a16d-46b9-9945-0cb39ad1c547"
   },
   "outputs": [],
   "source": [
    "# Variable que se usa para comprobar si estamos corriendo el notebook en local\n",
    "# o en Google Colab (para mayor rapidez en los experimentos)\n",
    "RUNNING_ENV = \"local\"\n",
    "\n",
    "# PATH base \n",
    "BASE_PATH = \"../\" if RUNNING_ENV == \"local\" else \"/content/drive/MyDrive/Colab Notebooks/\"\n",
    "\n",
    "# Fichero en el que vamos a guardar la prediccion actual\n",
    "# Es un fichero temporal, porque luego tendremos que nombrarlo y guardarlo en\n",
    "# el archivo enumerado correspondiente\n",
    "SUBMISSION_CSV = os.path.join(BASE_PATH, \"tmp_submission.csv\")\n",
    "\n",
    "# Ficheros en los que tenemos almacenados los datos\n",
    "TRAINING_FEATURES_FILE = os.path.join(BASE_PATH, \"data/training_set_features.csv\")\n",
    "TRAINING_LABELS_FILE = os.path.join(BASE_PATH, \"data/training_set_labels.csv\")\n",
    "TEST_FEATURES_FILE = os.path.join(BASE_PATH, \"data/test_set_features.csv\")\n",
    "SUBMISSION_FORMAT_FILE = os.path.join(BASE_PATH, \"data/submission_format.csv\")\n",
    "\n",
    "# Si hacemos que esta variable sea True, evitamos realizar todos los computos \n",
    "# asociados a cross validation\n",
    "SKIP_CROSS_VALIDATION = True\n",
    "\n",
    "# Para evitar que tener que re-calcular el procesado de datos. Tenemos archivos\n",
    "# en los que guardamos los datos pre-procesados y que podemos emplear\n",
    "# Cuando es False, re-calculamos el procesado de datos y ademas actualizamos los \n",
    "# valores cacheados\n",
    "USE_CACHED_PREPROCESSED_DATA = True\n",
    "\n",
    "# Ficheros en los que guardamos el procesado de los datos\n",
    "TRAIN_FEATURES_CACHED_FILE = os.path.join(BASE_PATH, \"data/training_set_features_cached.npy\")\n",
    "TRAIN_LABELS_CACHED_FILE = os.path.join(BASE_PATH, \"data/training_set_labels_cached.npy\")\n",
    "VALIDATION_FEATURES_CACHED_FILE = os.path.join(BASE_PATH, \"data/validation_set_features_cached.npy\")\n",
    "VALIDATION_LABELS_CACHED_FILE = os.path.join(BASE_PATH, \"data/validation_set_labels_cached.npy\")\n",
    "TEST_FEATURES_CACHED_FILE = os.path.join(BASE_PATH, \"data/test_set_features_cached.npy\")"
   ]
  },
  {
   "cell_type": "markdown",
   "id": "e32c9a1f-f34c-468c-89a8-6bb4165f8a1c",
   "metadata": {
    "id": "e32c9a1f-f34c-468c-89a8-6bb4165f8a1c"
   },
   "source": [
    "# Cargamos los datos del problema"
   ]
  },
  {
   "cell_type": "code",
   "execution_count": 7,
   "id": "3-vP4B9QKcDq",
   "metadata": {
    "colab": {
     "base_uri": "https://localhost:8080/"
    },
    "id": "3-vP4B9QKcDq",
    "outputId": "b7954f00-ba0d-4028-8028-bcf75398750a"
   },
   "outputs": [],
   "source": [
    "# Cargamos los datos en google drive si estamos usando Google Colab\n",
    "if RUNNING_ENV == \"remote\":\n",
    "    from google.colab import drive\n",
    "    drive.mount('/content/drive')"
   ]
  },
  {
   "cell_type": "code",
   "execution_count": 8,
   "id": "43e50477-d5e2-48c1-9d43-aca442291f6f",
   "metadata": {
    "id": "43e50477-d5e2-48c1-9d43-aca442291f6f"
   },
   "outputs": [],
   "source": [
    "# Cargamos los dos ficheros csv con los datos de entrenamiento\n",
    "base_path = \"..\"\n",
    "df = pd.read_csv(TRAINING_FEATURES_FILE)\n",
    "df_labels = pd.read_csv(TRAINING_LABELS_FILE)\n",
    "\n",
    "# Juntamos ambos dataframes en uno solo\n",
    "df = pd.concat([df, df_labels], axis = 1)\n",
    "df_labels = None\n",
    "\n",
    "# Tomamos los datos de test\n",
    "df_test = pd.read_csv(TEST_FEATURES_FILE)"
   ]
  },
  {
   "cell_type": "markdown",
   "id": "84fcdd2a-650e-40ec-828d-97a4d89c9788",
   "metadata": {
    "id": "84fcdd2a-650e-40ec-828d-97a4d89c9788"
   },
   "source": [
    "## Coloco los nombres de ciertas columnas en variables\n",
    "\n",
    "Esto para que sea más cómodo trabajar con ciertas columnas principales en el problema"
   ]
  },
  {
   "cell_type": "code",
   "execution_count": 9,
   "id": "3362ee48-8372-409e-9c20-c0fb425b932b",
   "metadata": {
    "id": "3362ee48-8372-409e-9c20-c0fb425b932b"
   },
   "outputs": [],
   "source": [
    "h1n1_vac = \"h1n1_vaccine\"\n",
    "seas_vac = \"seasonal_vaccine\""
   ]
  },
  {
   "cell_type": "markdown",
   "id": "d0cc28b8-ea38-496c-b8c8-9c1577e2593a",
   "metadata": {
    "id": "d0cc28b8-ea38-496c-b8c8-9c1577e2593a"
   },
   "source": [
    "# Análisis Exploratorio de datos"
   ]
  },
  {
   "cell_type": "code",
   "execution_count": 10,
   "id": "f6bb3533-6c96-41e0-97df-a68a453666a8",
   "metadata": {
    "colab": {
     "base_uri": "https://localhost:8080/",
     "height": 364
    },
    "id": "f6bb3533-6c96-41e0-97df-a68a453666a8",
    "outputId": "5e1b6d80-1281-439f-c278-be1ab4fe89ca"
   },
   "outputs": [
    {
     "data": {
      "text/html": [
       "<div>\n",
       "<style scoped>\n",
       "    .dataframe tbody tr th:only-of-type {\n",
       "        vertical-align: middle;\n",
       "    }\n",
       "\n",
       "    .dataframe tbody tr th {\n",
       "        vertical-align: top;\n",
       "    }\n",
       "\n",
       "    .dataframe thead th {\n",
       "        text-align: right;\n",
       "    }\n",
       "</style>\n",
       "<table border=\"1\" class=\"dataframe\">\n",
       "  <thead>\n",
       "    <tr style=\"text-align: right;\">\n",
       "      <th></th>\n",
       "      <th>respondent_id</th>\n",
       "      <th>h1n1_concern</th>\n",
       "      <th>h1n1_knowledge</th>\n",
       "      <th>behavioral_antiviral_meds</th>\n",
       "      <th>behavioral_avoidance</th>\n",
       "      <th>behavioral_face_mask</th>\n",
       "      <th>behavioral_wash_hands</th>\n",
       "      <th>behavioral_large_gatherings</th>\n",
       "      <th>behavioral_outside_home</th>\n",
       "      <th>behavioral_touch_face</th>\n",
       "      <th>...</th>\n",
       "      <th>opinion_h1n1_risk</th>\n",
       "      <th>opinion_h1n1_sick_from_vacc</th>\n",
       "      <th>opinion_seas_vacc_effective</th>\n",
       "      <th>opinion_seas_risk</th>\n",
       "      <th>opinion_seas_sick_from_vacc</th>\n",
       "      <th>household_adults</th>\n",
       "      <th>household_children</th>\n",
       "      <th>respondent_id</th>\n",
       "      <th>h1n1_vaccine</th>\n",
       "      <th>seasonal_vaccine</th>\n",
       "    </tr>\n",
       "  </thead>\n",
       "  <tbody>\n",
       "    <tr>\n",
       "      <th>count</th>\n",
       "      <td>26707.000000</td>\n",
       "      <td>26615.000000</td>\n",
       "      <td>26591.000000</td>\n",
       "      <td>26636.000000</td>\n",
       "      <td>26499.000000</td>\n",
       "      <td>26688.000000</td>\n",
       "      <td>26665.000000</td>\n",
       "      <td>26620.00000</td>\n",
       "      <td>26625.000000</td>\n",
       "      <td>26579.000000</td>\n",
       "      <td>...</td>\n",
       "      <td>26319.000000</td>\n",
       "      <td>26312.000000</td>\n",
       "      <td>26245.000000</td>\n",
       "      <td>26193.000000</td>\n",
       "      <td>26170.000000</td>\n",
       "      <td>26458.000000</td>\n",
       "      <td>26458.000000</td>\n",
       "      <td>26707.000000</td>\n",
       "      <td>26707.000000</td>\n",
       "      <td>26707.000000</td>\n",
       "    </tr>\n",
       "    <tr>\n",
       "      <th>mean</th>\n",
       "      <td>13353.000000</td>\n",
       "      <td>1.618486</td>\n",
       "      <td>1.262532</td>\n",
       "      <td>0.048844</td>\n",
       "      <td>0.725612</td>\n",
       "      <td>0.068982</td>\n",
       "      <td>0.825614</td>\n",
       "      <td>0.35864</td>\n",
       "      <td>0.337315</td>\n",
       "      <td>0.677264</td>\n",
       "      <td>...</td>\n",
       "      <td>2.342566</td>\n",
       "      <td>2.357670</td>\n",
       "      <td>4.025986</td>\n",
       "      <td>2.719162</td>\n",
       "      <td>2.118112</td>\n",
       "      <td>0.886499</td>\n",
       "      <td>0.534583</td>\n",
       "      <td>13353.000000</td>\n",
       "      <td>0.212454</td>\n",
       "      <td>0.465608</td>\n",
       "    </tr>\n",
       "    <tr>\n",
       "      <th>std</th>\n",
       "      <td>7709.791156</td>\n",
       "      <td>0.910311</td>\n",
       "      <td>0.618149</td>\n",
       "      <td>0.215545</td>\n",
       "      <td>0.446214</td>\n",
       "      <td>0.253429</td>\n",
       "      <td>0.379448</td>\n",
       "      <td>0.47961</td>\n",
       "      <td>0.472802</td>\n",
       "      <td>0.467531</td>\n",
       "      <td>...</td>\n",
       "      <td>1.285539</td>\n",
       "      <td>1.362766</td>\n",
       "      <td>1.086565</td>\n",
       "      <td>1.385055</td>\n",
       "      <td>1.332950</td>\n",
       "      <td>0.753422</td>\n",
       "      <td>0.928173</td>\n",
       "      <td>7709.791156</td>\n",
       "      <td>0.409052</td>\n",
       "      <td>0.498825</td>\n",
       "    </tr>\n",
       "    <tr>\n",
       "      <th>min</th>\n",
       "      <td>0.000000</td>\n",
       "      <td>0.000000</td>\n",
       "      <td>0.000000</td>\n",
       "      <td>0.000000</td>\n",
       "      <td>0.000000</td>\n",
       "      <td>0.000000</td>\n",
       "      <td>0.000000</td>\n",
       "      <td>0.00000</td>\n",
       "      <td>0.000000</td>\n",
       "      <td>0.000000</td>\n",
       "      <td>...</td>\n",
       "      <td>1.000000</td>\n",
       "      <td>1.000000</td>\n",
       "      <td>1.000000</td>\n",
       "      <td>1.000000</td>\n",
       "      <td>1.000000</td>\n",
       "      <td>0.000000</td>\n",
       "      <td>0.000000</td>\n",
       "      <td>0.000000</td>\n",
       "      <td>0.000000</td>\n",
       "      <td>0.000000</td>\n",
       "    </tr>\n",
       "    <tr>\n",
       "      <th>25%</th>\n",
       "      <td>6676.500000</td>\n",
       "      <td>1.000000</td>\n",
       "      <td>1.000000</td>\n",
       "      <td>0.000000</td>\n",
       "      <td>0.000000</td>\n",
       "      <td>0.000000</td>\n",
       "      <td>1.000000</td>\n",
       "      <td>0.00000</td>\n",
       "      <td>0.000000</td>\n",
       "      <td>0.000000</td>\n",
       "      <td>...</td>\n",
       "      <td>1.000000</td>\n",
       "      <td>1.000000</td>\n",
       "      <td>4.000000</td>\n",
       "      <td>2.000000</td>\n",
       "      <td>1.000000</td>\n",
       "      <td>0.000000</td>\n",
       "      <td>0.000000</td>\n",
       "      <td>6676.500000</td>\n",
       "      <td>0.000000</td>\n",
       "      <td>0.000000</td>\n",
       "    </tr>\n",
       "    <tr>\n",
       "      <th>50%</th>\n",
       "      <td>13353.000000</td>\n",
       "      <td>2.000000</td>\n",
       "      <td>1.000000</td>\n",
       "      <td>0.000000</td>\n",
       "      <td>1.000000</td>\n",
       "      <td>0.000000</td>\n",
       "      <td>1.000000</td>\n",
       "      <td>0.00000</td>\n",
       "      <td>0.000000</td>\n",
       "      <td>1.000000</td>\n",
       "      <td>...</td>\n",
       "      <td>2.000000</td>\n",
       "      <td>2.000000</td>\n",
       "      <td>4.000000</td>\n",
       "      <td>2.000000</td>\n",
       "      <td>2.000000</td>\n",
       "      <td>1.000000</td>\n",
       "      <td>0.000000</td>\n",
       "      <td>13353.000000</td>\n",
       "      <td>0.000000</td>\n",
       "      <td>0.000000</td>\n",
       "    </tr>\n",
       "    <tr>\n",
       "      <th>75%</th>\n",
       "      <td>20029.500000</td>\n",
       "      <td>2.000000</td>\n",
       "      <td>2.000000</td>\n",
       "      <td>0.000000</td>\n",
       "      <td>1.000000</td>\n",
       "      <td>0.000000</td>\n",
       "      <td>1.000000</td>\n",
       "      <td>1.00000</td>\n",
       "      <td>1.000000</td>\n",
       "      <td>1.000000</td>\n",
       "      <td>...</td>\n",
       "      <td>4.000000</td>\n",
       "      <td>4.000000</td>\n",
       "      <td>5.000000</td>\n",
       "      <td>4.000000</td>\n",
       "      <td>4.000000</td>\n",
       "      <td>1.000000</td>\n",
       "      <td>1.000000</td>\n",
       "      <td>20029.500000</td>\n",
       "      <td>0.000000</td>\n",
       "      <td>1.000000</td>\n",
       "    </tr>\n",
       "    <tr>\n",
       "      <th>max</th>\n",
       "      <td>26706.000000</td>\n",
       "      <td>3.000000</td>\n",
       "      <td>2.000000</td>\n",
       "      <td>1.000000</td>\n",
       "      <td>1.000000</td>\n",
       "      <td>1.000000</td>\n",
       "      <td>1.000000</td>\n",
       "      <td>1.00000</td>\n",
       "      <td>1.000000</td>\n",
       "      <td>1.000000</td>\n",
       "      <td>...</td>\n",
       "      <td>5.000000</td>\n",
       "      <td>5.000000</td>\n",
       "      <td>5.000000</td>\n",
       "      <td>5.000000</td>\n",
       "      <td>5.000000</td>\n",
       "      <td>3.000000</td>\n",
       "      <td>3.000000</td>\n",
       "      <td>26706.000000</td>\n",
       "      <td>1.000000</td>\n",
       "      <td>1.000000</td>\n",
       "    </tr>\n",
       "  </tbody>\n",
       "</table>\n",
       "<p>8 rows × 27 columns</p>\n",
       "</div>"
      ],
      "text/plain": [
       "       respondent_id  h1n1_concern  h1n1_knowledge  behavioral_antiviral_meds  \\\n",
       "count   26707.000000  26615.000000    26591.000000               26636.000000   \n",
       "mean    13353.000000      1.618486        1.262532                   0.048844   \n",
       "std      7709.791156      0.910311        0.618149                   0.215545   \n",
       "min         0.000000      0.000000        0.000000                   0.000000   \n",
       "25%      6676.500000      1.000000        1.000000                   0.000000   \n",
       "50%     13353.000000      2.000000        1.000000                   0.000000   \n",
       "75%     20029.500000      2.000000        2.000000                   0.000000   \n",
       "max     26706.000000      3.000000        2.000000                   1.000000   \n",
       "\n",
       "       behavioral_avoidance  behavioral_face_mask  behavioral_wash_hands  \\\n",
       "count          26499.000000          26688.000000           26665.000000   \n",
       "mean               0.725612              0.068982               0.825614   \n",
       "std                0.446214              0.253429               0.379448   \n",
       "min                0.000000              0.000000               0.000000   \n",
       "25%                0.000000              0.000000               1.000000   \n",
       "50%                1.000000              0.000000               1.000000   \n",
       "75%                1.000000              0.000000               1.000000   \n",
       "max                1.000000              1.000000               1.000000   \n",
       "\n",
       "       behavioral_large_gatherings  behavioral_outside_home  \\\n",
       "count                  26620.00000             26625.000000   \n",
       "mean                       0.35864                 0.337315   \n",
       "std                        0.47961                 0.472802   \n",
       "min                        0.00000                 0.000000   \n",
       "25%                        0.00000                 0.000000   \n",
       "50%                        0.00000                 0.000000   \n",
       "75%                        1.00000                 1.000000   \n",
       "max                        1.00000                 1.000000   \n",
       "\n",
       "       behavioral_touch_face  ...  opinion_h1n1_risk  \\\n",
       "count           26579.000000  ...       26319.000000   \n",
       "mean                0.677264  ...           2.342566   \n",
       "std                 0.467531  ...           1.285539   \n",
       "min                 0.000000  ...           1.000000   \n",
       "25%                 0.000000  ...           1.000000   \n",
       "50%                 1.000000  ...           2.000000   \n",
       "75%                 1.000000  ...           4.000000   \n",
       "max                 1.000000  ...           5.000000   \n",
       "\n",
       "       opinion_h1n1_sick_from_vacc  opinion_seas_vacc_effective  \\\n",
       "count                 26312.000000                 26245.000000   \n",
       "mean                      2.357670                     4.025986   \n",
       "std                       1.362766                     1.086565   \n",
       "min                       1.000000                     1.000000   \n",
       "25%                       1.000000                     4.000000   \n",
       "50%                       2.000000                     4.000000   \n",
       "75%                       4.000000                     5.000000   \n",
       "max                       5.000000                     5.000000   \n",
       "\n",
       "       opinion_seas_risk  opinion_seas_sick_from_vacc  household_adults  \\\n",
       "count       26193.000000                 26170.000000      26458.000000   \n",
       "mean            2.719162                     2.118112          0.886499   \n",
       "std             1.385055                     1.332950          0.753422   \n",
       "min             1.000000                     1.000000          0.000000   \n",
       "25%             2.000000                     1.000000          0.000000   \n",
       "50%             2.000000                     2.000000          1.000000   \n",
       "75%             4.000000                     4.000000          1.000000   \n",
       "max             5.000000                     5.000000          3.000000   \n",
       "\n",
       "       household_children  respondent_id  h1n1_vaccine  seasonal_vaccine  \n",
       "count        26458.000000   26707.000000  26707.000000      26707.000000  \n",
       "mean             0.534583   13353.000000      0.212454          0.465608  \n",
       "std              0.928173    7709.791156      0.409052          0.498825  \n",
       "min              0.000000       0.000000      0.000000          0.000000  \n",
       "25%              0.000000    6676.500000      0.000000          0.000000  \n",
       "50%              0.000000   13353.000000      0.000000          0.000000  \n",
       "75%              1.000000   20029.500000      0.000000          1.000000  \n",
       "max              3.000000   26706.000000      1.000000          1.000000  \n",
       "\n",
       "[8 rows x 27 columns]"
      ]
     },
     "execution_count": 10,
     "metadata": {},
     "output_type": "execute_result"
    }
   ],
   "source": [
    "df.describe()"
   ]
  },
  {
   "cell_type": "code",
   "execution_count": 11,
   "id": "8ea4bc3f-2041-40d9-8bfe-98828b1d352a",
   "metadata": {
    "colab": {
     "base_uri": "https://localhost:8080/"
    },
    "id": "8ea4bc3f-2041-40d9-8bfe-98828b1d352a",
    "outputId": "f6f81a21-0e19-4288-d9c7-d2c9e64cfac0"
   },
   "outputs": [
    {
     "name": "stdout",
     "output_type": "stream",
     "text": [
      "<class 'pandas.core.frame.DataFrame'>\n",
      "RangeIndex: 26707 entries, 0 to 26706\n",
      "Data columns (total 39 columns):\n",
      " #   Column                       Non-Null Count  Dtype  \n",
      "---  ------                       --------------  -----  \n",
      " 0   respondent_id                26707 non-null  int64  \n",
      " 1   h1n1_concern                 26615 non-null  float64\n",
      " 2   h1n1_knowledge               26591 non-null  float64\n",
      " 3   behavioral_antiviral_meds    26636 non-null  float64\n",
      " 4   behavioral_avoidance         26499 non-null  float64\n",
      " 5   behavioral_face_mask         26688 non-null  float64\n",
      " 6   behavioral_wash_hands        26665 non-null  float64\n",
      " 7   behavioral_large_gatherings  26620 non-null  float64\n",
      " 8   behavioral_outside_home      26625 non-null  float64\n",
      " 9   behavioral_touch_face        26579 non-null  float64\n",
      " 10  doctor_recc_h1n1             24547 non-null  float64\n",
      " 11  doctor_recc_seasonal         24547 non-null  float64\n",
      " 12  chronic_med_condition        25736 non-null  float64\n",
      " 13  child_under_6_months         25887 non-null  float64\n",
      " 14  health_worker                25903 non-null  float64\n",
      " 15  health_insurance             14433 non-null  float64\n",
      " 16  opinion_h1n1_vacc_effective  26316 non-null  float64\n",
      " 17  opinion_h1n1_risk            26319 non-null  float64\n",
      " 18  opinion_h1n1_sick_from_vacc  26312 non-null  float64\n",
      " 19  opinion_seas_vacc_effective  26245 non-null  float64\n",
      " 20  opinion_seas_risk            26193 non-null  float64\n",
      " 21  opinion_seas_sick_from_vacc  26170 non-null  float64\n",
      " 22  age_group                    26707 non-null  object \n",
      " 23  education                    25300 non-null  object \n",
      " 24  race                         26707 non-null  object \n",
      " 25  sex                          26707 non-null  object \n",
      " 26  income_poverty               22284 non-null  object \n",
      " 27  marital_status               25299 non-null  object \n",
      " 28  rent_or_own                  24665 non-null  object \n",
      " 29  employment_status            25244 non-null  object \n",
      " 30  hhs_geo_region               26707 non-null  object \n",
      " 31  census_msa                   26707 non-null  object \n",
      " 32  household_adults             26458 non-null  float64\n",
      " 33  household_children           26458 non-null  float64\n",
      " 34  employment_industry          13377 non-null  object \n",
      " 35  employment_occupation        13237 non-null  object \n",
      " 36  respondent_id                26707 non-null  int64  \n",
      " 37  h1n1_vaccine                 26707 non-null  int64  \n",
      " 38  seasonal_vaccine             26707 non-null  int64  \n",
      "dtypes: float64(23), int64(4), object(12)\n",
      "memory usage: 7.9+ MB\n"
     ]
    }
   ],
   "source": [
    "# TODO -- hacer el conteo de NAN values\n",
    "\n",
    "df.info()"
   ]
  },
  {
   "cell_type": "code",
   "execution_count": 12,
   "id": "75375a32-cf60-43b1-a650-93d89070b91e",
   "metadata": {
    "colab": {
     "base_uri": "https://localhost:8080/",
     "height": 357
    },
    "id": "75375a32-cf60-43b1-a650-93d89070b91e",
    "outputId": "c100f6df-d0ed-4250-be00-38916e41ec08"
   },
   "outputs": [
    {
     "data": {
      "text/html": [
       "<div>\n",
       "<style scoped>\n",
       "    .dataframe tbody tr th:only-of-type {\n",
       "        vertical-align: middle;\n",
       "    }\n",
       "\n",
       "    .dataframe tbody tr th {\n",
       "        vertical-align: top;\n",
       "    }\n",
       "\n",
       "    .dataframe thead th {\n",
       "        text-align: right;\n",
       "    }\n",
       "</style>\n",
       "<table border=\"1\" class=\"dataframe\">\n",
       "  <thead>\n",
       "    <tr style=\"text-align: right;\">\n",
       "      <th></th>\n",
       "      <th>respondent_id</th>\n",
       "      <th>h1n1_concern</th>\n",
       "      <th>h1n1_knowledge</th>\n",
       "      <th>behavioral_antiviral_meds</th>\n",
       "      <th>behavioral_avoidance</th>\n",
       "      <th>behavioral_face_mask</th>\n",
       "      <th>behavioral_wash_hands</th>\n",
       "      <th>behavioral_large_gatherings</th>\n",
       "      <th>behavioral_outside_home</th>\n",
       "      <th>behavioral_touch_face</th>\n",
       "      <th>...</th>\n",
       "      <th>employment_status</th>\n",
       "      <th>hhs_geo_region</th>\n",
       "      <th>census_msa</th>\n",
       "      <th>household_adults</th>\n",
       "      <th>household_children</th>\n",
       "      <th>employment_industry</th>\n",
       "      <th>employment_occupation</th>\n",
       "      <th>respondent_id</th>\n",
       "      <th>h1n1_vaccine</th>\n",
       "      <th>seasonal_vaccine</th>\n",
       "    </tr>\n",
       "  </thead>\n",
       "  <tbody>\n",
       "    <tr>\n",
       "      <th>0</th>\n",
       "      <td>0</td>\n",
       "      <td>1.0</td>\n",
       "      <td>0.0</td>\n",
       "      <td>0.0</td>\n",
       "      <td>0.0</td>\n",
       "      <td>0.0</td>\n",
       "      <td>0.0</td>\n",
       "      <td>0.0</td>\n",
       "      <td>1.0</td>\n",
       "      <td>1.0</td>\n",
       "      <td>...</td>\n",
       "      <td>Not in Labor Force</td>\n",
       "      <td>oxchjgsf</td>\n",
       "      <td>Non-MSA</td>\n",
       "      <td>0.0</td>\n",
       "      <td>0.0</td>\n",
       "      <td>NaN</td>\n",
       "      <td>NaN</td>\n",
       "      <td>0</td>\n",
       "      <td>0</td>\n",
       "      <td>0</td>\n",
       "    </tr>\n",
       "    <tr>\n",
       "      <th>1</th>\n",
       "      <td>1</td>\n",
       "      <td>3.0</td>\n",
       "      <td>2.0</td>\n",
       "      <td>0.0</td>\n",
       "      <td>1.0</td>\n",
       "      <td>0.0</td>\n",
       "      <td>1.0</td>\n",
       "      <td>0.0</td>\n",
       "      <td>1.0</td>\n",
       "      <td>1.0</td>\n",
       "      <td>...</td>\n",
       "      <td>Employed</td>\n",
       "      <td>bhuqouqj</td>\n",
       "      <td>MSA, Not Principle  City</td>\n",
       "      <td>0.0</td>\n",
       "      <td>0.0</td>\n",
       "      <td>pxcmvdjn</td>\n",
       "      <td>xgwztkwe</td>\n",
       "      <td>1</td>\n",
       "      <td>0</td>\n",
       "      <td>1</td>\n",
       "    </tr>\n",
       "    <tr>\n",
       "      <th>2</th>\n",
       "      <td>2</td>\n",
       "      <td>1.0</td>\n",
       "      <td>1.0</td>\n",
       "      <td>0.0</td>\n",
       "      <td>1.0</td>\n",
       "      <td>0.0</td>\n",
       "      <td>0.0</td>\n",
       "      <td>0.0</td>\n",
       "      <td>0.0</td>\n",
       "      <td>0.0</td>\n",
       "      <td>...</td>\n",
       "      <td>Employed</td>\n",
       "      <td>qufhixun</td>\n",
       "      <td>MSA, Not Principle  City</td>\n",
       "      <td>2.0</td>\n",
       "      <td>0.0</td>\n",
       "      <td>rucpziij</td>\n",
       "      <td>xtkaffoo</td>\n",
       "      <td>2</td>\n",
       "      <td>0</td>\n",
       "      <td>0</td>\n",
       "    </tr>\n",
       "    <tr>\n",
       "      <th>3</th>\n",
       "      <td>3</td>\n",
       "      <td>1.0</td>\n",
       "      <td>1.0</td>\n",
       "      <td>0.0</td>\n",
       "      <td>1.0</td>\n",
       "      <td>0.0</td>\n",
       "      <td>1.0</td>\n",
       "      <td>1.0</td>\n",
       "      <td>0.0</td>\n",
       "      <td>0.0</td>\n",
       "      <td>...</td>\n",
       "      <td>Not in Labor Force</td>\n",
       "      <td>lrircsnp</td>\n",
       "      <td>MSA, Principle City</td>\n",
       "      <td>0.0</td>\n",
       "      <td>0.0</td>\n",
       "      <td>NaN</td>\n",
       "      <td>NaN</td>\n",
       "      <td>3</td>\n",
       "      <td>0</td>\n",
       "      <td>1</td>\n",
       "    </tr>\n",
       "    <tr>\n",
       "      <th>4</th>\n",
       "      <td>4</td>\n",
       "      <td>2.0</td>\n",
       "      <td>1.0</td>\n",
       "      <td>0.0</td>\n",
       "      <td>1.0</td>\n",
       "      <td>0.0</td>\n",
       "      <td>1.0</td>\n",
       "      <td>1.0</td>\n",
       "      <td>0.0</td>\n",
       "      <td>1.0</td>\n",
       "      <td>...</td>\n",
       "      <td>Employed</td>\n",
       "      <td>qufhixun</td>\n",
       "      <td>MSA, Not Principle  City</td>\n",
       "      <td>1.0</td>\n",
       "      <td>0.0</td>\n",
       "      <td>wxleyezf</td>\n",
       "      <td>emcorrxb</td>\n",
       "      <td>4</td>\n",
       "      <td>0</td>\n",
       "      <td>0</td>\n",
       "    </tr>\n",
       "  </tbody>\n",
       "</table>\n",
       "<p>5 rows × 39 columns</p>\n",
       "</div>"
      ],
      "text/plain": [
       "   respondent_id  h1n1_concern  h1n1_knowledge  behavioral_antiviral_meds  \\\n",
       "0              0           1.0             0.0                        0.0   \n",
       "1              1           3.0             2.0                        0.0   \n",
       "2              2           1.0             1.0                        0.0   \n",
       "3              3           1.0             1.0                        0.0   \n",
       "4              4           2.0             1.0                        0.0   \n",
       "\n",
       "   behavioral_avoidance  behavioral_face_mask  behavioral_wash_hands  \\\n",
       "0                   0.0                   0.0                    0.0   \n",
       "1                   1.0                   0.0                    1.0   \n",
       "2                   1.0                   0.0                    0.0   \n",
       "3                   1.0                   0.0                    1.0   \n",
       "4                   1.0                   0.0                    1.0   \n",
       "\n",
       "   behavioral_large_gatherings  behavioral_outside_home  \\\n",
       "0                          0.0                      1.0   \n",
       "1                          0.0                      1.0   \n",
       "2                          0.0                      0.0   \n",
       "3                          1.0                      0.0   \n",
       "4                          1.0                      0.0   \n",
       "\n",
       "   behavioral_touch_face  ...   employment_status  hhs_geo_region  \\\n",
       "0                    1.0  ...  Not in Labor Force        oxchjgsf   \n",
       "1                    1.0  ...            Employed        bhuqouqj   \n",
       "2                    0.0  ...            Employed        qufhixun   \n",
       "3                    0.0  ...  Not in Labor Force        lrircsnp   \n",
       "4                    1.0  ...            Employed        qufhixun   \n",
       "\n",
       "                 census_msa  household_adults  household_children  \\\n",
       "0                   Non-MSA               0.0                 0.0   \n",
       "1  MSA, Not Principle  City               0.0                 0.0   \n",
       "2  MSA, Not Principle  City               2.0                 0.0   \n",
       "3       MSA, Principle City               0.0                 0.0   \n",
       "4  MSA, Not Principle  City               1.0                 0.0   \n",
       "\n",
       "   employment_industry  employment_occupation  respondent_id  h1n1_vaccine  \\\n",
       "0                  NaN                    NaN              0             0   \n",
       "1             pxcmvdjn               xgwztkwe              1             0   \n",
       "2             rucpziij               xtkaffoo              2             0   \n",
       "3                  NaN                    NaN              3             0   \n",
       "4             wxleyezf               emcorrxb              4             0   \n",
       "\n",
       "   seasonal_vaccine  \n",
       "0                 0  \n",
       "1                 1  \n",
       "2                 0  \n",
       "3                 1  \n",
       "4                 0  \n",
       "\n",
       "[5 rows x 39 columns]"
      ]
     },
     "execution_count": 12,
     "metadata": {},
     "output_type": "execute_result"
    }
   ],
   "source": [
    "df.head()"
   ]
  },
  {
   "cell_type": "code",
   "execution_count": 13,
   "id": "fe12eb06-898b-48fc-871d-6760c1c5f333",
   "metadata": {
    "colab": {
     "base_uri": "https://localhost:8080/"
    },
    "id": "fe12eb06-898b-48fc-871d-6760c1c5f333",
    "outputId": "c72720ff-7b9f-4dd0-e63f-38792114886e"
   },
   "outputs": [
    {
     "data": {
      "text/plain": [
       "respondent_id                    int64\n",
       "h1n1_concern                   float64\n",
       "h1n1_knowledge                 float64\n",
       "behavioral_antiviral_meds      float64\n",
       "behavioral_avoidance           float64\n",
       "behavioral_face_mask           float64\n",
       "behavioral_wash_hands          float64\n",
       "behavioral_large_gatherings    float64\n",
       "behavioral_outside_home        float64\n",
       "behavioral_touch_face          float64\n",
       "doctor_recc_h1n1               float64\n",
       "doctor_recc_seasonal           float64\n",
       "chronic_med_condition          float64\n",
       "child_under_6_months           float64\n",
       "health_worker                  float64\n",
       "health_insurance               float64\n",
       "opinion_h1n1_vacc_effective    float64\n",
       "opinion_h1n1_risk              float64\n",
       "opinion_h1n1_sick_from_vacc    float64\n",
       "opinion_seas_vacc_effective    float64\n",
       "opinion_seas_risk              float64\n",
       "opinion_seas_sick_from_vacc    float64\n",
       "age_group                       object\n",
       "education                       object\n",
       "race                            object\n",
       "sex                             object\n",
       "income_poverty                  object\n",
       "marital_status                  object\n",
       "rent_or_own                     object\n",
       "employment_status               object\n",
       "hhs_geo_region                  object\n",
       "census_msa                      object\n",
       "household_adults               float64\n",
       "household_children             float64\n",
       "employment_industry             object\n",
       "employment_occupation           object\n",
       "respondent_id                    int64\n",
       "h1n1_vaccine                     int64\n",
       "seasonal_vaccine                 int64\n",
       "dtype: object"
      ]
     },
     "execution_count": 13,
     "metadata": {},
     "output_type": "execute_result"
    }
   ],
   "source": [
    "df.dtypes"
   ]
  },
  {
   "cell_type": "markdown",
   "id": "a1bd3e38-7b51-47e0-bcde-be5a77289fd6",
   "metadata": {
    "id": "a1bd3e38-7b51-47e0-bcde-be5a77289fd6"
   },
   "source": [
    "## Mostramos el balanceo de las dos clases que queremos predecir"
   ]
  },
  {
   "cell_type": "code",
   "execution_count": 14,
   "id": "1f4f3094-3d9d-42f3-a77c-e3fe0a709acb",
   "metadata": {
    "id": "1f4f3094-3d9d-42f3-a77c-e3fe0a709acb"
   },
   "outputs": [
    {
     "name": "stdout",
     "output_type": "stream",
     "text": [
      "Vacuna h1n1\n"
     ]
    },
    {
     "data": {
      "image/png": "[encoded data removed]",
      "text/plain": [
       "<Figure size 432x288 with 1 Axes>"
      ]
     },
     "metadata": {
      "needs_background": "light"
     },
     "output_type": "display_data"
    },
    {
     "name": "stdout",
     "output_type": "stream",
     "text": [
      "Vacuna seasonal\n"
     ]
    },
    {
     "data": {
      "image/png": "[encoded data removed]",
      "text/plain": [
       "<Figure size 432x288 with 1 Axes>"
      ]
     },
     "metadata": {
      "needs_background": "light"
     },
     "output_type": "display_data"
    }
   ],
   "source": [
    "print(\"Vacuna h1n1\")\n",
    "sns.countplot(data = df, x = h1n1_vac)\n",
    "plt.show()\n",
    "\n",
    "print(\"Vacuna seasonal\")\n",
    "sns.countplot(data = df, x = seas_vac)\n",
    "plt.show()"
   ]
  },
  {
   "cell_type": "markdown",
   "id": "6cff34c7-96cb-4908-b136-aae58b277376",
   "metadata": {
    "id": "6cff34c7-96cb-4908-b136-aae58b277376"
   },
   "source": [
    "## Mostramos el pairplot de todas las variables"
   ]
  },
  {
   "cell_type": "code",
   "execution_count": 15,
   "id": "129da748-46ed-4349-b034-a43476172ae0",
   "metadata": {
    "id": "129da748-46ed-4349-b034-a43476172ae0"
   },
   "outputs": [],
   "source": [
    "# TODO -- implementar"
   ]
  },
  {
   "cell_type": "markdown",
   "id": "9bf4fddd-4045-4a83-819b-8647472c3b16",
   "metadata": {
    "id": "9bf4fddd-4045-4a83-819b-8647472c3b16"
   },
   "source": [
    "# Pre-procesado de los datos"
   ]
  },
  {
   "cell_type": "markdown",
   "id": "09c7779d-375b-448c-ae2b-e478062d6497",
   "metadata": {
    "id": "09c7779d-375b-448c-ae2b-e478062d6497"
   },
   "source": [
    "## Borrado de la columna de identificación\n",
    "\n",
    "Esta columna no va a ser útil para nuestros modelos de *machine learning*. Por tanto, borramos esta columna del `dataframe`:"
   ]
  },
  {
   "cell_type": "code",
   "execution_count": 16,
   "id": "9fdea6e7-4816-44ec-ae8f-912a7bf86a70",
   "metadata": {
    "colab": {
     "base_uri": "https://localhost:8080/"
    },
    "id": "9fdea6e7-4816-44ec-ae8f-912a7bf86a70",
    "outputId": "d59c19f1-dffd-488a-e7ef-9b7328b8905b"
   },
   "outputs": [],
   "source": [
    "# Comprobamos si queremos o no saltar el procesado de los datos\n",
    "if USE_CACHED_PREPROCESSED_DATA is False:\n",
    "\n",
    "    # Borramos esta columna para el training\n",
    "    df = df.drop(['respondent_id'], axis=1)\n",
    "    pprint(df.head())\n",
    "\n",
    "    # Borramos esa columna tambien para el test\n",
    "    df_test = df_test.drop(['respondent_id'], axis=1)"
   ]
  },
  {
   "cell_type": "markdown",
   "id": "41bd80f2-ed8a-4952-82d2-22f5b96d025a",
   "metadata": {
    "id": "41bd80f2-ed8a-4952-82d2-22f5b96d025a"
   },
   "source": [
    "## Combinamos las dos variables de salida en una única\n",
    "\n",
    "Hacemos esto para, más adelante, poder separar en training / validation estratificando por las dos variables de salida a la vez"
   ]
  },
  {
   "cell_type": "code",
   "execution_count": 17,
   "id": "80761db8-9cc0-45eb-a82c-dae4b8dcdb8e",
   "metadata": {
    "id": "80761db8-9cc0-45eb-a82c-dae4b8dcdb8e"
   },
   "outputs": [],
   "source": [
    "# Comprobamos si queremos o no saltar el procesado de los datos\n",
    "if USE_CACHED_PREPROCESSED_DATA is False:\n",
    "\n",
    "    combined = \"combined\"\n",
    "\n",
    "    def combine_two_objective_functions(h1n1, seasonal):\n",
    "        \"\"\"\n",
    "        Funcion que toma los valores de las dos variables objetivo, y las combina en una sola\n",
    "        \"\"\"\n",
    "\n",
    "        mapping = dict()\n",
    "        mapping[0, 0] = 0\n",
    "        mapping[0, 1] = 1\n",
    "        mapping[1, 0] = 2\n",
    "        mapping[1, 1] = 3\n",
    "\n",
    "        return mapping[h1n1, seasonal]\n",
    "\n",
    "    df[combined] = df.apply(lambda row: combine_two_objective_functions(row[h1n1_vac], row[seas_vac]), axis = 1)"
   ]
  },
  {
   "cell_type": "markdown",
   "id": "0ce53732-f7df-4390-98b2-6b7ddb32f5d8",
   "metadata": {
    "id": "0ce53732-f7df-4390-98b2-6b7ddb32f5d8"
   },
   "source": [
    "## Separamos el dataframe en training y validation"
   ]
  },
  {
   "cell_type": "markdown",
   "id": "b3e3ea32-cd34-4156-8cbc-701a7479e44c",
   "metadata": {
    "id": "b3e3ea32-cd34-4156-8cbc-701a7479e44c"
   },
   "source": [
    "Separamos en training y validation. validation y no test porque el test es el que nos da la competición. Además, validation porque vamos a usar la informaión sobre este conjunto para ajustar nuestros modelos."
   ]
  },
  {
   "cell_type": "code",
   "execution_count": 18,
   "id": "0b3ea3c7-9088-4ab9-a8dc-2148ef9324fc",
   "metadata": {
    "id": "0b3ea3c7-9088-4ab9-a8dc-2148ef9324fc"
   },
   "outputs": [],
   "source": [
    "# Comprobamos si queremos o no saltar el procesado de los datos\n",
    "if USE_CACHED_PREPROCESSED_DATA is False:\n",
    "    train, validation = train_test_split(df, test_size=0.2, stratify = df[combined])"
   ]
  },
  {
   "cell_type": "markdown",
   "id": "e9bdfd15-ac26-4441-aacc-6e6121ade10f",
   "metadata": {
    "id": "e9bdfd15-ac26-4441-aacc-6e6121ade10f"
   },
   "source": [
    "## Borramos la variable combinada\n",
    "\n",
    "Ya ha cumplido su propósito: ser la variable de estratificación. Así que la borramos pues no vamos a usar más esta variable"
   ]
  },
  {
   "cell_type": "code",
   "execution_count": 19,
   "id": "3b708e6c-df1d-4c3b-a91e-c808e09821c1",
   "metadata": {
    "id": "3b708e6c-df1d-4c3b-a91e-c808e09821c1"
   },
   "outputs": [],
   "source": [
    "# Comprobamos si queremos o no saltar el procesado de los datos\n",
    "if USE_CACHED_PREPROCESSED_DATA is False:\n",
    "\n",
    "    train = train.drop(columns = [combined])\n",
    "    validation = validation.drop(columns = [combined])"
   ]
  },
  {
   "cell_type": "markdown",
   "id": "5278b07b-fce7-4aa8-bc22-a7c86206a2aa",
   "metadata": {
    "id": "5278b07b-fce7-4aa8-bc22-a7c86206a2aa"
   },
   "source": [
    "## Separamos el dataframe en x, y arrays"
   ]
  },
  {
   "cell_type": "code",
   "execution_count": 20,
   "id": "b149834a-b04e-4ace-b6e4-dde05825552d",
   "metadata": {
    "id": "b149834a-b04e-4ace-b6e4-dde05825552d"
   },
   "outputs": [],
   "source": [
    "# Comprobamos si queremos o no saltar el procesado de los datos\n",
    "if USE_CACHED_PREPROCESSED_DATA is False:\n",
    "\n",
    "    all_columns = train.columns\n",
    "    train_columns = list(all_columns)\n",
    "    train_columns.remove(h1n1_vac)\n",
    "    train_columns.remove(seas_vac)\n",
    "\n",
    "    # Separamos segun las columnas del dataframe\n",
    "    x_train, y_train = train[train_columns], train[[h1n1_vac, seas_vac]]\n",
    "    x_validation, y_validation = validation[train_columns], validation[[h1n1_vac, seas_vac]]\n",
    "\n",
    "    # Lo convertimos a arrays de numpy\n",
    "    x_train, y_train = np.array(x_train), np.array(y_train)\n",
    "    x_validation, y_validation = np.array(x_validation), np.array(y_validation)\n",
    "    x_test = np.array(df_test)"
   ]
  },
  {
   "cell_type": "markdown",
   "id": "ea0ae295-539d-4606-b9df-d8edc843f261",
   "metadata": {
    "id": "ea0ae295-539d-4606-b9df-d8edc843f261",
    "tags": []
   },
   "source": [
    "## Pasamos todas las variables a variables numéricas"
   ]
  },
  {
   "cell_type": "markdown",
   "id": "db5d938a-467d-4076-8e1b-1c755c0f114a",
   "metadata": {
    "id": "db5d938a-467d-4076-8e1b-1c755c0f114a"
   },
   "source": [
    "Vamos a usar modelos que solo trabajan con variables numéricas, así que convertimos todas las columnas a numéricas. Para ello, recorremos los tipos de las columnas. Si nos encontramos con una columna de tipo `object`, la convertimos a numérica. Usamos one hot encoding para ello."
   ]
  },
  {
   "cell_type": "code",
   "execution_count": 21,
   "id": "c838730a-fd9a-49a9-b2e5-cbdf1064631f",
   "metadata": {
    "id": "c838730a-fd9a-49a9-b2e5-cbdf1064631f"
   },
   "outputs": [],
   "source": [
    "# Comprobamos si queremos o no saltar el procesado de los datos\n",
    "if USE_CACHED_PREPROCESSED_DATA is False:\n",
    "\n",
    "    # Aprendemos el enconding sobre el conjunto de entrenamiento\n",
    "    encoder = OneHotEncoder(handle_unknown=\"ignore\", sparse=False)\n",
    "    encoder.fit(x_train)\n",
    "\n",
    "    # Aplicamos dicha transformacion aprendida en entrenamiento\n",
    "    # No estamos haciendo data snooping porque la transformacioon se aprende en \n",
    "    # entrenamiento y con ello se aplica sobre el resto de conjuntos\n",
    "    x_train = encoder.transform(x_train)\n",
    "    x_validation = encoder.transform(x_validation)\n",
    "    x_test = encoder.transform(x_test)"
   ]
  },
  {
   "cell_type": "markdown",
   "id": "3166e8c6-af5f-428a-9225-e956b39b1d2d",
   "metadata": {
    "id": "3166e8c6-af5f-428a-9225-e956b39b1d2d"
   },
   "source": [
    "## Imputación de los missing values\n",
    "\n",
    "Notar que no usamos los datos de salida para realizar la imputación."
   ]
  },
  {
   "cell_type": "code",
   "execution_count": 22,
   "id": "81cd15c8-698c-48cf-8329-cacc997d4b13",
   "metadata": {
    "colab": {
     "base_uri": "https://localhost:8080/"
    },
    "id": "81cd15c8-698c-48cf-8329-cacc997d4b13",
    "outputId": "a0fe2fe6-9f86-42e6-98fb-c988f09a5efa"
   },
   "outputs": [],
   "source": [
    "# Comprobamos si queremos o no saltar el procesado de los datos\n",
    "if USE_CACHED_PREPROCESSED_DATA is False:\n",
    "\n",
    "    print(f\"Tamaño previo de entrenamiento: {x_train.shape}\")\n",
    "    print(f\"Tamaño previo de test: {x_test.shape}\")\n",
    "\n",
    "    # Calculamos la imputacion para los valores perdidos\n",
    "    # Imputamos usando el resto de variables\n",
    "    imputer = IterativeImputer(random_state = RANDOM_SEED)\n",
    "    imputer.fit(x_train)\n",
    "\n",
    "    # Aplicamos la imputacion calculada sobre el conjunto de test sobre el resto\n",
    "    # de conjuntos\n",
    "    x_train = pd.DataFrame(imputer.transform(x_train))\n",
    "    x_validation = pd.DataFrame(imputer.transform(x_validation))\n",
    "    x_test = pd.DataFrame(imputer.transform(x_test))\n",
    "\n",
    "    print(f\"Tamaño posterior de entrenamiento: {x_train.shape}\")\n",
    "    print(f\"Tamaño posterior de test: {x_test.shape}\")"
   ]
  },
  {
   "cell_type": "markdown",
   "id": "9f30e459-a373-451c-a6ff-d6fa6bea5bd4",
   "metadata": {
    "id": "9f30e459-a373-451c-a6ff-d6fa6bea5bd4"
   },
   "source": [
    "## Borrado de outliers"
   ]
  },
  {
   "cell_type": "code",
   "execution_count": 23,
   "id": "e728bc6a-7e12-42c9-af08-072dbe0c9c95",
   "metadata": {
    "colab": {
     "base_uri": "https://localhost:8080/"
    },
    "id": "e728bc6a-7e12-42c9-af08-072dbe0c9c95",
    "outputId": "a2b2be84-3137-42ce-8048-2baacccef3df"
   },
   "outputs": [],
   "source": [
    "# Comprobamos si queremos o no saltar el procesado de los datos\n",
    "if USE_CACHED_PREPROCESSED_DATA is False:\n",
    "\n",
    "    # Tomamos el tamaño original del dataset, para ver cuantos ejemplos perdemos\n",
    "    original = x_train.shape[0]\n",
    "    print(f\"Tamaño previo de entrenamiento: {x_train.shape}\")\n",
    "\n",
    "    # Definimos el clasificador que vamos a usar para detectar outliers\n",
    "    clf = LocalOutlierFactor(n_neighbors=2)\n",
    "\n",
    "    # Generamos una mascara con las filas detectadas como outlier\n",
    "    yhat = clf.fit_predict(x_train)\n",
    "    mask = yhat != -1\n",
    "\n",
    "    # Nos quedamos solo con las filas que no son outliers\n",
    "    x_train, y_train = x_train[mask], y_train[mask]\n",
    "\n",
    "    # Calculamos el numero de ejemplos que hemos perdido\n",
    "    left = x_train.shape[0]\n",
    "    print(f\"Tamaño posterior de entrenamiento: {x_train.shape}\")\n",
    "    print(f\"Porcentaje del dataset que sobrevive: {(left) / original * 100}\") "
   ]
  },
  {
   "cell_type": "markdown",
   "id": "2df76e64-bc58-4286-bec5-82740ff1c1d9",
   "metadata": {
    "id": "2df76e64-bc58-4286-bec5-82740ff1c1d9"
   },
   "source": [
    "## Normalizamos el dataset"
   ]
  },
  {
   "cell_type": "code",
   "execution_count": 24,
   "id": "04df9143-486c-49cd-b446-10a6032fa17f",
   "metadata": {
    "id": "04df9143-486c-49cd-b446-10a6032fa17f"
   },
   "outputs": [],
   "source": [
    "# Comprobamos si queremos o no saltar el procesado de los datos\n",
    "if USE_CACHED_PREPROCESSED_DATA is False:\n",
    "\n",
    "    # Escalamos a media 0 y desviacion 1\n",
    "    scaler = StandardScaler()\n",
    "\n",
    "    # Aprendemos el escalado sobre el conjunto de entrenamiento\n",
    "    scaler.fit(x_train)\n",
    "\n",
    "    # Aplicamos el escalado aprendido en nuestros conjuntos de datos\n",
    "    x_train = scaler.transform(x_train)\n",
    "    x_validation = scaler.transform(x_validation)\n",
    "    x_test = scaler.transform(x_test)"
   ]
  },
  {
   "cell_type": "markdown",
   "id": "c82efb99-d50e-40d5-b454-59a1caa438f4",
   "metadata": {},
   "source": [
    "## Carga o actualización de la cache"
   ]
  },
  {
   "cell_type": "markdown",
   "id": "46b68941-8412-41f5-bca9-cce90273cd75",
   "metadata": {},
   "source": [
    "Según el valor de la variable `USE_CACHED_PREPROCESSED_DATA`, cargamos los datos guardados en cache o actualizamos dicha cache."
   ]
  },
  {
   "cell_type": "code",
   "execution_count": 25,
   "id": "09342b27-6c9b-418f-952c-6731df8548fe",
   "metadata": {},
   "outputs": [],
   "source": [
    "# CARGAMOS VALORES DESDE CACHE\n",
    "if USE_CACHED_PREPROCESSED_DATA is True:\n",
    "    # Conjunto de entrenamiento\n",
    "    x_train = np.load(TRAIN_FEATURES_CACHED_FILE)\n",
    "    y_train = np.load(TRAIN_LABELS_CACHED_FILE)\n",
    "    \n",
    "    # Conjunto de validacion\n",
    "    x_validation = np.load(VALIDATION_FEATURES_CACHED_FILE)\n",
    "    y_validation = np.load(VALIDATION_LABELS_CACHED_FILE)\n",
    "    \n",
    "    # Conjunto de test\n",
    "    x_test = np.load(TEST_FEATURES_CACHED_FILE)"
   ]
  },
  {
   "cell_type": "code",
   "execution_count": 26,
   "id": "9663ecf4-32a3-401b-8c5b-ab4ad03694a0",
   "metadata": {},
   "outputs": [],
   "source": [
    "# ACTUALIZAMOS LOS VALORES DE CACHE\n",
    "if USE_CACHED_PREPROCESSED_DATA is False:\n",
    "    # Conjunto de entrenamiento\n",
    "    np.save(TRAIN_FEATURES_CACHED_FILE, x_train)\n",
    "    np.save(TRAIN_LABELS_CACHED_FILE, y_train)\n",
    "    \n",
    "    # Conjunto de validacion\n",
    "    np.save(VALIDATION_FEATURES_CACHED_FILE, x_validation)\n",
    "    np.save(VALIDATION_LABELS_CACHED_FILE, y_validation)\n",
    "    \n",
    "    # Conjunto de test\n",
    "    np.save(TEST_FEATURES_CACHED_FILE, x_test)"
   ]
  },
  {
   "cell_type": "markdown",
   "id": "8e5e4e10-c6b3-4d8d-b554-8a752546af4b",
   "metadata": {
    "id": "8e5e4e10-c6b3-4d8d-b554-8a752546af4b"
   },
   "source": [
    "# Selección del modelo\n",
    "\n",
    "- Probamos con distintos modelos, evaluándolos con Cross Validation\n",
    "- Además, con Cross Validation, exploramos distintos parámetros para estos modelos, para comparar los modelos con los mejores parámetros que podamos encontrar"
   ]
  },
  {
   "cell_type": "markdown",
   "id": "bce673c2-053d-48fc-a43b-cb0159bdd4dd",
   "metadata": {
    "id": "bce673c2-053d-48fc-a43b-cb0159bdd4dd"
   },
   "source": [
    "## Regresión Logística"
   ]
  },
  {
   "cell_type": "code",
   "execution_count": 27,
   "id": "e03a136f-5faf-45a6-8ebf-41339071bc85",
   "metadata": {
    "colab": {
     "base_uri": "https://localhost:8080/"
    },
    "id": "e03a136f-5faf-45a6-8ebf-41339071bc85",
    "outputId": "d9a4d4de-76e5-49b7-946b-5c3878317b67"
   },
   "outputs": [],
   "source": [
    "# Valores para los hiperparametrosa del modelo\n",
    "C_values = [0.05, 0.10, 0.15, 0.2, 0.25, 0.5, 0.6, 0.75, 1, 1.25, 1.5]\n",
    "\n",
    "# Diccionario en el que guardamos parametros -> resultado\n",
    "results = dict()\n",
    "\n",
    "# Para precomputar la mejor combinacion de parametros\n",
    "best_parameters = {\n",
    "    \"C\": None,\n",
    "}\n",
    "\n",
    "best_auc = 0.0\n",
    "\n",
    "# Para hacer 10 fold cross validation\n",
    "cv = ShuffleSplit(n_splits=10, test_size=0.2, random_state=RANDOM_SEED)\n",
    "\n",
    "# Probamos con todas las combinaciones de parametros\n",
    "for C in C_values:\n",
    "\n",
    "    # Comprobacion de si queremos saltar cross validation\n",
    "    if SKIP_CROSS_VALIDATION is True:\n",
    "        break\n",
    "    \n",
    "    # Para ver el proceso de ejecucion\n",
    "    print(f\"Computando CV para {C}\")\n",
    "\n",
    "    # Definimos el clasificador, usando los parametros que movemos y fijando\n",
    "    # el resto de parametros necesarios. \n",
    "    model = MultiOutputClassifier(\n",
    "        estimator=LogisticRegression(penalty=\"l2\", C=C, random_state = RANDOM_SEED)\n",
    "    )\n",
    "\n",
    "    # Aplicamos el algoritmo y evaluamos usando cross validation\n",
    "    scores = cross_val_score(model, x_train, y_train, cv=cv, scoring='roc_auc')\n",
    "\n",
    "    # Guardamos los resultados\n",
    "    results[C, \"mean\"] = scores.mean()\n",
    "    results[C, \"std\"] = scores.std()\n",
    "\n",
    "    # Comprobamos si hemos mejorado los resultados\n",
    "    if results[C, \"mean\"] > best_auc:\n",
    "        best_auc = results[C, \"mean\"]\n",
    "        best_parameters = {\n",
    "            \"C\": C,\n",
    "        }\n",
    "        \n",
    "        # Mostramos por pantalla la mejora\n",
    "        print(f\"\\tMejor parametro encontrado: {best_parameters}, con auc: {best_auc}\")"
   ]
  },
  {
   "cell_type": "markdown",
   "id": "70efbbf7-7c75-4048-85a5-3af6efab6491",
   "metadata": {
    "id": "70efbbf7-7c75-4048-85a5-3af6efab6491"
   },
   "source": [
    "Mostramos los resultados:"
   ]
  },
  {
   "cell_type": "code",
   "execution_count": 28,
   "id": "f0fc22a0-8d2f-4ecc-a29f-31348099a25e",
   "metadata": {
    "colab": {
     "base_uri": "https://localhost:8080/"
    },
    "id": "f0fc22a0-8d2f-4ecc-a29f-31348099a25e",
    "outputId": "d59a0f2c-3c3e-4e90-c280-c99b48514edb"
   },
   "outputs": [
    {
     "name": "stdout",
     "output_type": "stream",
     "text": [
      "Mejores valores de los parámetros: {'C': None}\n",
      "Mejor valor de ROC AUC: 0.0\n",
      "\n",
      "Todos los parametros con sus resultados:\n",
      "{}\n"
     ]
    }
   ],
   "source": [
    "print(f\"Mejores valores de los parámetros: {best_parameters}\")\n",
    "print(f\"Mejor valor de ROC AUC: {best_auc}\")\n",
    "print(\"\")\n",
    "print(\"Todos los parametros con sus resultados:\")\n",
    "pprint(results)"
   ]
  },
  {
   "cell_type": "markdown",
   "id": "1d92a4cd-de5a-4955-adc9-0b122803b546",
   "metadata": {
    "id": "1d92a4cd-de5a-4955-adc9-0b122803b546",
    "tags": []
   },
   "source": [
    "## AdaBoost"
   ]
  },
  {
   "cell_type": "code",
   "execution_count": 29,
   "id": "957f3797-cea7-4544-bc9f-0d42d49bc331",
   "metadata": {
    "colab": {
     "base_uri": "https://localhost:8080/"
    },
    "id": "957f3797-cea7-4544-bc9f-0d42d49bc331",
    "outputId": "d5882d24-3f65-4d8a-b6f4-d808706c968c"
   },
   "outputs": [],
   "source": [
    "# Valores para los hiperparametrosa del modelo\n",
    "n_values = [25, 50, 75, 100, 150, 200]\n",
    "learning_rate_values = [0.5, 0.75, 1.0, 1.25, 1.5]\n",
    "\n",
    "# Diccionario en el que guardamos parametros -> resultado\n",
    "results = dict()\n",
    "\n",
    "# Para precomputar la mejor combinacion de parametros\n",
    "best_parameters = {\n",
    "    \"n\": None,\n",
    "    \"lr\": None\n",
    "}\n",
    "\n",
    "best_auc = 0.0\n",
    "\n",
    "# Para hacer 10 fold cross validation\n",
    "cv = ShuffleSplit(n_splits=10, test_size=0.2, random_state=RANDOM_SEED)\n",
    "\n",
    "# Probamos con todas las combinaciones de parametros\n",
    "for n in n_values:\n",
    "    for lr in learning_rate_values:\n",
    "    \n",
    "        # Comprobacion de si queremos saltar cross validation\n",
    "        if SKIP_CROSS_VALIDATION is True:\n",
    "            break\n",
    "\n",
    "        # Para ver el proceso de ejecucion\n",
    "        print(f\"Computando CV para {n}, {lr}\")\n",
    "\n",
    "        # Definimos el clasificador, usando los parametros que movemos y fijando\n",
    "        # el resto de parametros necesarios. \n",
    "        model = MultiOutputClassifier(\n",
    "            estimator=AdaBoostClassifier(n_estimators = n, learning_rate = lr, random_state = RANDOM_SEED)\n",
    "        )\n",
    "\n",
    "        # Aplicamos el algoritmo y evaluamos usando cross validation\n",
    "        scores = cross_val_score(model, x_train, y_train, cv=cv, scoring='roc_auc')\n",
    "\n",
    "        # Guardamos los resultados\n",
    "        results[n, lr, \"mean\"] = scores.mean()\n",
    "        results[n, lr, \"std\"] = scores.std()\n",
    "\n",
    "        # Comprobamos si hemos mejorado los resultados\n",
    "        if results[n, lr, \"mean\"] > best_auc:\n",
    "            best_auc = results[n, lr, \"mean\"]\n",
    "            best_parameters = {\n",
    "                \"n\": n,\n",
    "                \"lr\": lr\n",
    "            }\n",
    "            \n",
    "            # Mostramos por pantalla la mejora\n",
    "            print(f\"\\tMejor parametro encontrado: {best_parameters}, con auc: {best_auc}\")"
   ]
  },
  {
   "cell_type": "markdown",
   "id": "82832fa5-ff77-4802-9f51-2e304d985673",
   "metadata": {
    "id": "82832fa5-ff77-4802-9f51-2e304d985673"
   },
   "source": [
    "Mostramos los resultados:"
   ]
  },
  {
   "cell_type": "code",
   "execution_count": 30,
   "id": "bfb12ec9-ae80-4f21-9a1f-5dda6e1a02c7",
   "metadata": {
    "colab": {
     "base_uri": "https://localhost:8080/"
    },
    "id": "bfb12ec9-ae80-4f21-9a1f-5dda6e1a02c7",
    "outputId": "f703765c-4f76-4b5b-9136-dd0771b14330"
   },
   "outputs": [
    {
     "name": "stdout",
     "output_type": "stream",
     "text": [
      "Mejores valores de los parámetros: {'n': None, 'lr': None}\n",
      "Mejor valor de ROC AUC: 0.0\n",
      "\n",
      "Todos los parametros con sus resultados:\n",
      "{}\n"
     ]
    }
   ],
   "source": [
    "print(f\"Mejores valores de los parámetros: {best_parameters}\")\n",
    "print(f\"Mejor valor de ROC AUC: {best_auc}\")\n",
    "print(\"\")\n",
    "print(\"Todos los parametros con sus resultados:\")\n",
    "pprint(results)"
   ]
  },
  {
   "cell_type": "markdown",
   "id": "cc133d41-b89c-4bdb-aa1a-214f82e3b7e4",
   "metadata": {
    "id": "1d92a4cd-de5a-4955-adc9-0b122803b546",
    "tags": []
   },
   "source": [
    "## CatBoost"
   ]
  },
  {
   "cell_type": "code",
   "execution_count": 31,
   "id": "bac7fd36-3a2e-42de-849d-3bb3eb4e00d7",
   "metadata": {
    "colab": {
     "base_uri": "https://localhost:8080/"
    },
    "id": "957f3797-cea7-4544-bc9f-0d42d49bc331",
    "outputId": "d5882d24-3f65-4d8a-b6f4-d808706c968c"
   },
   "outputs": [],
   "source": [
    "# Valores para los hiperparametrosa del modelo\n",
    "iterations_values = [5, 10, 15, 20]\n",
    "learning_rate_values = [0.5, 0.75, 1.0, 1.25, 1.5]\n",
    "depth_values = [1, 2, 3, 4]\n",
    "\n",
    "# Diccionario en el que guardamos parametros -> resultado\n",
    "results = dict()\n",
    "\n",
    "# Para precomputar la mejor combinacion de parametros\n",
    "best_parameters = {\n",
    "    \"iterations\": None,\n",
    "    \"lr\": None,\n",
    "    \"depth\": None,\n",
    "}\n",
    "\n",
    "best_auc = 0.0\n",
    "\n",
    "# Para hacer 10 fold cross validation\n",
    "cv = ShuffleSplit(n_splits=10, test_size=0.2, random_state=RANDOM_SEED)\n",
    "\n",
    "# Probamos con todas las combinaciones de parametros\n",
    "for iterations in iterations_values:\n",
    "    for lr in learning_rate_values:\n",
    "        for depth in depth_values:\n",
    "    \n",
    "            # Comprobacion de si queremos saltar cross validation\n",
    "            if SKIP_CROSS_VALIDATION is True:\n",
    "                break\n",
    "\n",
    "            # Para ver el proceso de ejecucion\n",
    "            print(f\"Computando CV para {iterations}, {lr}, {depth}\")\n",
    "\n",
    "            # Definimos el clasificador, usando los parametros que movemos y fijando\n",
    "            # el resto de parametros necesarios. \n",
    "            model = MultiOutputClassifier( \n",
    "                    estimator = CatBoostClassifier(\n",
    "                    iterations=iterations,\n",
    "                    learning_rate=lr,\n",
    "                    depth=depth,\n",
    "            ))\n",
    "\n",
    "            # Aplicamos el algoritmo y evaluamos usando cross validation\n",
    "            scores = cross_val_score(model, x_train, y_train, cv=cv, scoring='roc_auc')\n",
    "\n",
    "            # Guardamos los resultados\n",
    "            results[iterations, lr, depth, \"mean\"] = scores.mean()\n",
    "            results[iterations, lr, depth, \"std\"] = scores.std()\n",
    "\n",
    "            # Comprobamos si hemos mejorado los resultados\n",
    "            if results[iterations, lr, depth, \"mean\"] > best_auc:\n",
    "                best_auc = results[iterations, lr, depth, \"mean\"]\n",
    "                best_parameters = {\n",
    "                    \"iterations\": n,\n",
    "                    \"lr\": lr,\n",
    "                    \"depth\": depth\n",
    "                }\n",
    "                \n",
    "                # Mostramos por pantalla la mejora\n",
    "                print(f\"\\tMejor parametro encontrado: {best_parameters}, con auc: {best_auc}\")"
   ]
  },
  {
   "cell_type": "markdown",
   "id": "376ded14-a95d-4c93-9ef0-1bc30d862495",
   "metadata": {
    "id": "82832fa5-ff77-4802-9f51-2e304d985673"
   },
   "source": [
    "Mostramos los resultados:"
   ]
  },
  {
   "cell_type": "code",
   "execution_count": 32,
   "id": "83514468-6cd4-422b-9b28-5a8069521f1c",
   "metadata": {
    "colab": {
     "base_uri": "https://localhost:8080/"
    },
    "id": "bfb12ec9-ae80-4f21-9a1f-5dda6e1a02c7",
    "outputId": "f703765c-4f76-4b5b-9136-dd0771b14330"
   },
   "outputs": [
    {
     "name": "stdout",
     "output_type": "stream",
     "text": [
      "Mejores valores de los parámetros: {'iterations': None, 'lr': None, 'depth': None}\n",
      "Mejor valor de ROC AUC: 0.0\n",
      "\n",
      "Todos los parametros con sus resultados:\n",
      "{}\n"
     ]
    }
   ],
   "source": [
    "print(f\"Mejores valores de los parámetros: {best_parameters}\")\n",
    "print(f\"Mejor valor de ROC AUC: {best_auc}\")\n",
    "print(\"\")\n",
    "print(\"Todos los parametros con sus resultados:\")\n",
    "pprint(results)"
   ]
  },
  {
   "cell_type": "markdown",
   "id": "73920222-b79a-46b9-840a-8a995062174a",
   "metadata": {
    "id": "73920222-b79a-46b9-840a-8a995062174a"
   },
   "source": [
    "# Ajuste del modelo"
   ]
  },
  {
   "cell_type": "markdown",
   "id": "269655f6-4468-47da-ab42-1679c4ae3a99",
   "metadata": {
    "id": "269655f6-4468-47da-ab42-1679c4ae3a99"
   },
   "source": [
    "Tenemos un modelo que ajustar según el valor de la variable combinada:"
   ]
  },
  {
   "cell_type": "code",
   "execution_count": 33,
   "id": "837719b9-783c-4eac-a655-0742345f31dc",
   "metadata": {
    "colab": {
     "base_uri": "https://localhost:8080/"
    },
    "id": "837719b9-783c-4eac-a655-0742345f31dc",
    "outputId": "ff5b75cc-45c5-4ac5-de4d-9e98975479a6"
   },
   "outputs": [
    {
     "name": "stdout",
     "output_type": "stream",
     "text": [
      "0:\tlearn: 0.4253246\ttotal: 49.7ms\tremaining: 944ms\n",
      "1:\tlearn: 0.3924350\ttotal: 55.5ms\tremaining: 500ms\n",
      "2:\tlearn: 0.3711217\ttotal: 59.1ms\tremaining: 335ms\n",
      "3:\tlearn: 0.3674732\ttotal: 63.1ms\tremaining: 252ms\n",
      "4:\tlearn: 0.3645652\ttotal: 67.9ms\tremaining: 204ms\n",
      "5:\tlearn: 0.3618202\ttotal: 73.1ms\tremaining: 171ms\n",
      "6:\tlearn: 0.3599510\ttotal: 75.6ms\tremaining: 140ms\n",
      "7:\tlearn: 0.3576854\ttotal: 78ms\tremaining: 117ms\n",
      "8:\tlearn: 0.3565562\ttotal: 80.2ms\tremaining: 98ms\n",
      "9:\tlearn: 0.3549815\ttotal: 83.8ms\tremaining: 83.8ms\n",
      "10:\tlearn: 0.3538591\ttotal: 86.8ms\tremaining: 71.1ms\n",
      "11:\tlearn: 0.3524206\ttotal: 89.9ms\tremaining: 60ms\n",
      "12:\tlearn: 0.3516016\ttotal: 92.6ms\tremaining: 49.9ms\n",
      "13:\tlearn: 0.3507320\ttotal: 94.7ms\tremaining: 40.6ms\n",
      "14:\tlearn: 0.3498877\ttotal: 96.9ms\tremaining: 32.3ms\n",
      "15:\tlearn: 0.3491260\ttotal: 100ms\tremaining: 25.1ms\n",
      "16:\tlearn: 0.3484535\ttotal: 104ms\tremaining: 18.3ms\n",
      "17:\tlearn: 0.3474869\ttotal: 106ms\tremaining: 11.7ms\n",
      "18:\tlearn: 0.3470505\ttotal: 108ms\tremaining: 5.69ms\n",
      "19:\tlearn: 0.3464336\ttotal: 111ms\tremaining: 0us\n",
      "0:\tlearn: 0.5712161\ttotal: 2.96ms\tremaining: 56.3ms\n",
      "1:\tlearn: 0.5311345\ttotal: 6.04ms\tremaining: 54.4ms\n",
      "2:\tlearn: 0.5123996\ttotal: 9.95ms\tremaining: 56.4ms\n",
      "3:\tlearn: 0.5022836\ttotal: 12.9ms\tremaining: 51.8ms\n",
      "4:\tlearn: 0.4944103\ttotal: 16.2ms\tremaining: 48.5ms\n",
      "5:\tlearn: 0.4867800\ttotal: 18.9ms\tremaining: 44ms\n",
      "6:\tlearn: 0.4827372\ttotal: 21.5ms\tremaining: 40ms\n",
      "7:\tlearn: 0.4795720\ttotal: 26.1ms\tremaining: 39.2ms\n",
      "8:\tlearn: 0.4766975\ttotal: 28.6ms\tremaining: 34.9ms\n",
      "9:\tlearn: 0.4745488\ttotal: 31ms\tremaining: 31ms\n",
      "10:\tlearn: 0.4729224\ttotal: 33.3ms\tremaining: 27.2ms\n",
      "11:\tlearn: 0.4715217\ttotal: 35.8ms\tremaining: 23.8ms\n",
      "12:\tlearn: 0.4698537\ttotal: 37.8ms\tremaining: 20.3ms\n",
      "13:\tlearn: 0.4689772\ttotal: 40.6ms\tremaining: 17.4ms\n",
      "14:\tlearn: 0.4682576\ttotal: 43.4ms\tremaining: 14.5ms\n",
      "15:\tlearn: 0.4676267\ttotal: 45.6ms\tremaining: 11.4ms\n",
      "16:\tlearn: 0.4671126\ttotal: 47.9ms\tremaining: 8.46ms\n",
      "17:\tlearn: 0.4660303\ttotal: 50ms\tremaining: 5.55ms\n",
      "18:\tlearn: 0.4653571\ttotal: 52.3ms\tremaining: 2.75ms\n",
      "19:\tlearn: 0.4647201\ttotal: 55.7ms\tremaining: 0us\n"
     ]
    },
    {
     "data": {
      "text/plain": [
       "MultiOutputClassifier(estimator=<catboost.core.CatBoostClassifier object at 0x7f9c455f84f0>)"
      ]
     },
     "execution_count": 33,
     "metadata": {},
     "output_type": "execute_result"
    }
   ],
   "source": [
    "# TODO -- borrar este codigo\n",
    "#model = MultiOutputClassifier(\n",
    "#    estimator=AdaBoostClassifier(n_estimators = 200, learning_rate = 0.75, random_state = RANDOM_SEED)\n",
    "#)\n",
    "model = MultiOutputClassifier( \n",
    "        estimator = CatBoostClassifier(\n",
    "        iterations=20,\n",
    "        learning_rate=1,\n",
    "        depth=2,\n",
    "))\n",
    "\n",
    "model.fit(x_train, y_train)"
   ]
  },
  {
   "cell_type": "markdown",
   "id": "1f8a90db-33a3-4103-bc76-23424a4e7617",
   "metadata": {
    "id": "1f8a90db-33a3-4103-bc76-23424a4e7617"
   },
   "source": [
    "# Evaluamos el clasificador en el conjunto de test"
   ]
  },
  {
   "cell_type": "code",
   "execution_count": 34,
   "id": "77006235-f796-4249-8e6c-9a90e0a03751",
   "metadata": {
    "id": "77006235-f796-4249-8e6c-9a90e0a03751"
   },
   "outputs": [
    {
     "name": "stdout",
     "output_type": "stream",
     "text": [
      "{'test_acc': 0.6827031074503931,\n",
      " 'test_roc_auc': 0.8577205125403742,\n",
      " 'train_acc': 0.6908128863082974,\n",
      " 'train_roc_auc': 0.8638741932450087}\n"
     ]
    }
   ],
   "source": [
    "metrics = evaluate_model(model, x_train, y_train, x_validation, y_validation)\n",
    "pprint(metrics)"
   ]
  },
  {
   "cell_type": "markdown",
   "id": "96c9e5bf-39dd-4d43-9a72-5d40f85a3111",
   "metadata": {
    "id": "96c9e5bf-39dd-4d43-9a72-5d40f85a3111"
   },
   "source": [
    "# Entrenamos sobre todo el conjunto de datos "
   ]
  },
  {
   "cell_type": "code",
   "execution_count": 35,
   "id": "b39529cd-5d92-43cb-9dbb-6707b8a21be9",
   "metadata": {
    "id": "b39529cd-5d92-43cb-9dbb-6707b8a21be9"
   },
   "outputs": [],
   "source": [
    "# Juntamos ambos conjuntos de datos\n",
    "\n",
    "# Entrenamos sobre todo el conjunto de datos\n",
    "\n",
    "# TODO -- implementar"
   ]
  },
  {
   "cell_type": "markdown",
   "id": "434387dd-8d40-417d-892c-c17654ccbf0a",
   "metadata": {
    "id": "434387dd-8d40-417d-892c-c17654ccbf0a"
   },
   "source": [
    "# Realizamos la propuesta que subimos a DrivenData"
   ]
  },
  {
   "cell_type": "markdown",
   "id": "5a5a549a-f422-4c9e-bc8a-087fbfc50644",
   "metadata": {
    "id": "5a5a549a-f422-4c9e-bc8a-087fbfc50644"
   },
   "source": [
    "## Evaluamos el conjunto de test con nuestro modelo"
   ]
  },
  {
   "cell_type": "code",
   "execution_count": 36,
   "id": "34aa77ae-47a6-4322-8d91-a91d7539c3dc",
   "metadata": {
    "id": "34aa77ae-47a6-4322-8d91-a91d7539c3dc"
   },
   "outputs": [],
   "source": [
    "x_test = np.array(x_test)\n",
    "submission = generate_submission(model, x_test)"
   ]
  },
  {
   "cell_type": "markdown",
   "id": "4df5408f-7bcc-4d92-86af-cd4196243281",
   "metadata": {
    "id": "4df5408f-7bcc-4d92-86af-cd4196243281"
   },
   "source": [
    "## Guardamos los resultados en un .csv"
   ]
  },
  {
   "cell_type": "code",
   "execution_count": 37,
   "id": "fa730290-7180-4c8e-aa41-8f07f97eb653",
   "metadata": {
    "id": "fa730290-7180-4c8e-aa41-8f07f97eb653"
   },
   "outputs": [],
   "source": [
    "# Trabajamos con un dataframe para que sea facil guardar los datos en un .csv\n",
    "submission_df = pd.read_csv(SUBMISSION_FORMAT_FILE)\n",
    "\n",
    "# Nos aseguramos de que los datos esten en el mismo orden\n",
    "np.testing.assert_array_equal(df_test.index.values, submission_df.index.values)\n",
    "\n",
    "# Guardamos los resultados en el dataframe\n",
    "submission_df[\"h1n1_vaccine\"] = submission[0][:, 1]\n",
    "submission_df[\"seasonal_vaccine\"] = submission[1][:, 1]\n",
    "\n",
    "# Guardamos el dataframe en un ficher csv\n",
    "submission_df.to_csv(SUBMISSION_CSV, index=False)"
   ]
  },
  {
   "cell_type": "code",
   "execution_count": 38,
   "id": "dda8c1c1-040d-49cc-a002-ca69b0e478ab",
   "metadata": {
    "id": "dda8c1c1-040d-49cc-a002-ca69b0e478ab"
   },
   "outputs": [
    {
     "data": {
      "text/html": [
       "<div>\n",
       "<style scoped>\n",
       "    .dataframe tbody tr th:only-of-type {\n",
       "        vertical-align: middle;\n",
       "    }\n",
       "\n",
       "    .dataframe tbody tr th {\n",
       "        vertical-align: top;\n",
       "    }\n",
       "\n",
       "    .dataframe thead th {\n",
       "        text-align: right;\n",
       "    }\n",
       "</style>\n",
       "<table border=\"1\" class=\"dataframe\">\n",
       "  <thead>\n",
       "    <tr style=\"text-align: right;\">\n",
       "      <th></th>\n",
       "      <th>respondent_id</th>\n",
       "      <th>h1n1_vaccine</th>\n",
       "      <th>seasonal_vaccine</th>\n",
       "    </tr>\n",
       "  </thead>\n",
       "  <tbody>\n",
       "    <tr>\n",
       "      <th>0</th>\n",
       "      <td>26707</td>\n",
       "      <td>0.141326</td>\n",
       "      <td>0.252915</td>\n",
       "    </tr>\n",
       "    <tr>\n",
       "      <th>1</th>\n",
       "      <td>26708</td>\n",
       "      <td>0.014112</td>\n",
       "      <td>0.032508</td>\n",
       "    </tr>\n",
       "    <tr>\n",
       "      <th>2</th>\n",
       "      <td>26709</td>\n",
       "      <td>0.138086</td>\n",
       "      <td>0.768804</td>\n",
       "    </tr>\n",
       "    <tr>\n",
       "      <th>3</th>\n",
       "      <td>26710</td>\n",
       "      <td>0.502708</td>\n",
       "      <td>0.870480</td>\n",
       "    </tr>\n",
       "    <tr>\n",
       "      <th>4</th>\n",
       "      <td>26711</td>\n",
       "      <td>0.510304</td>\n",
       "      <td>0.573295</td>\n",
       "    </tr>\n",
       "  </tbody>\n",
       "</table>\n",
       "</div>"
      ],
      "text/plain": [
       "   respondent_id  h1n1_vaccine  seasonal_vaccine\n",
       "0          26707      0.141326          0.252915\n",
       "1          26708      0.014112          0.032508\n",
       "2          26709      0.138086          0.768804\n",
       "3          26710      0.502708          0.870480\n",
       "4          26711      0.510304          0.573295"
      ]
     },
     "execution_count": 38,
     "metadata": {},
     "output_type": "execute_result"
    }
   ],
   "source": [
    "submission_df.head()"
   ]
  }
 ],
 "metadata": {
  "colab": {
   "collapsed_sections": [
    "84fcdd2a-650e-40ec-828d-97a4d89c9788",
    "e9bdfd15-ac26-4441-aacc-6e6121ade10f",
    "5278b07b-fce7-4aa8-bc22-a7c86206a2aa",
    "ea0ae295-539d-4606-b9df-d8edc843f261",
    "5a5a549a-f422-4c9e-bc8a-087fbfc50644",
    "4df5408f-7bcc-4d92-86af-cd4196243281"
   ],
   "name": "Notebook.ipynb",
   "provenance": [],
   "toc_visible": true
  },
  "kernelspec": {
   "display_name": "Python 3 (ipykernel)",
   "language": "python",
   "name": "python3"
  },
  "language_info": {
   "codemirror_mode": {
    "name": "ipython",
    "version": 3
   },
   "file_extension": ".py",
   "mimetype": "text/x-python",
   "name": "python",
   "nbconvert_exporter": "python",
   "pygments_lexer": "ipython3",
   "version": "3.10.1"
  }
 },
 "nbformat": 4,
 "nbformat_minor": 5
}

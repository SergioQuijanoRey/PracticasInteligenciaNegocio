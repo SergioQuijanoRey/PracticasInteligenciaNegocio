{
 "cells": [
  {
   "cell_type": "markdown",
   "id": "4a18a057-af3e-45b4-a687-4cd52bb2b556",
   "metadata": {
    "tags": []
   },
   "source": [
    "# Importando los paquetes que vamos a usar"
   ]
  },
  {
   "cell_type": "code",
   "execution_count": 1,
   "id": "1bc10145-149d-4f52-9f9d-fc368650e3c2",
   "metadata": {},
   "outputs": [],
   "source": [
    "import pandas as pd\n",
    "import numpy as np\n",
    "import matplotlib.pyplot as plt\n",
    "import seaborn as sns\n",
    "import sklearn\n",
    "from pprint import pprint\n",
    "\n",
    "# Todas las piezas concretas que usamos de sklearn\n",
    "from sklearn.ensemble import AdaBoostClassifier\n",
    "from sklearn.model_selection import train_test_split\n",
    "from sklearn.tree import DecisionTreeClassifier\n",
    "from sklearn.metrics import roc_auc_score, accuracy_score\n",
    "from sklearn.impute import SimpleImputer\n",
    "from sklearn.linear_model import LogisticRegression\n",
    "from sklearn.multioutput import MultiOutputClassifier"
   ]
  },
  {
   "cell_type": "markdown",
   "id": "25f08969-29f6-4386-9529-c79cf97316c7",
   "metadata": {},
   "source": [
    "# Funciones comunes a todo el código"
   ]
  },
  {
   "cell_type": "markdown",
   "id": "34c1a04c-4ad3-4962-9fab-b730fc6370fc",
   "metadata": {},
   "source": [
    "## Funciones para evaluar el ajuste"
   ]
  },
  {
   "cell_type": "code",
   "execution_count": 2,
   "id": "72611030-fa57-4f6a-932a-d96a1d4f6ce5",
   "metadata": {},
   "outputs": [],
   "source": [
    "def calculate_roc_auc(true_labels_prob: np.array, predicted_labels_prob: np.array) -> float:\n",
    "    \"\"\"\n",
    "    Calcula el area bajo la curva ROC, dadas las etiquetas verdaderas y las\n",
    "    etiqeutas predichas por un modelo\n",
    "    \n",
    "    Las listas de etiquetas deben ser etiquetas probabilisticas\n",
    "    \"\"\"\n",
    "    return roc_auc_score(true_labels_prob, predicted_labels_prob)\n",
    "    \n",
    "def calculaete_accuracy(true_labels: np.array, predicted_labels: np.array) -> float:\n",
    "    \"\"\"\n",
    "    Calcula el accuracy, dadas las etiquetas verdaderas y las\n",
    "    etiqeutas predichas por un modelo\n",
    "    \"\"\"\n",
    "    return accuracy_score(true_labels, predicted_labels)\n",
    "    \n",
    "def evaluate_model(model, x_train: np.ndarray, y_train: np.array, x_test: np.ndarray, y_test: np.array) -> dict:\n",
    "    \"\"\"\n",
    "    Evalua, usando distintas metricas, el modelo que hemos entrenado\n",
    "    \n",
    "    Devuelve un diccionario con todas las metricas calculadas con el modelo\n",
    "    \"\"\"\n",
    "    \n",
    "    # Diccionario en el que vamos a almacenar todas las metricas\n",
    "    metrics = dict()\n",
    "    \n",
    "    # Empezamos usando el modelo para realizar las predicciones+\n",
    "    # Usamos predicciones probabilisticas pues estas son fundamentales para\n",
    "    # la competicion\n",
    "    train_predicted_labels_prob = model.predict_proba(x_train)\n",
    "    test_predicted_labels_prob = model.predict_proba(x_test)\n",
    "    \n",
    "    # Tomamos ahora las etiqeutas sin probabilidad\n",
    "    train_predicted_labels= model.predict(x_train)\n",
    "    test_predicted_labels = model.predict(x_test)\n",
    "           \n",
    "    # Tomamos las areas bajo la curva ROC\n",
    "    metrics[\"train_roc_auc\"] = calculate_roc_auc(y_train, train_predicted_labels_prob)\n",
    "    metrics[\"test_roc_auc\"] = calculate_roc_auc(y_test, test_predicted_labels_prob)\n",
    "    \n",
    "    # Tomamos las metricas de accuracy\n",
    "    metrics[\"train_acc\"] = calculaete_accuracy(y_train, train_predicted_labels)\n",
    "    metrics[\"test_acc\"] = calculaete_accuracy(y_test, test_predicted_labels)\n",
    "    \n",
    "    # Devolvemos las metricas en formato diccionario, que nos va a ser comodo para\n",
    "    # pasarlas a tablas y para mostrar muchas metricas simultaneamente\n",
    "    return metrics"
   ]
  },
  {
   "cell_type": "markdown",
   "id": "9aa957d6-1ef8-4af9-b19d-adbef5f5b041",
   "metadata": {},
   "source": [
    "## Funciones para hacer la submission"
   ]
  },
  {
   "cell_type": "code",
   "execution_count": 3,
   "id": "d1b0b54e-d2a1-4548-aeb8-963f5ed44714",
   "metadata": {},
   "outputs": [],
   "source": [
    "def generate_submission(model, x_test: np.ndarray):\n",
    "    \"\"\"\n",
    "    Dado un conjunto de test, genera las etiquetas que subiremos a la plataforma\n",
    "    \"\"\"\n",
    "    \n",
    "    prob_labels = model.predict_proba(x_test)\n",
    "    return prob_labels"
   ]
  },
  {
   "cell_type": "markdown",
   "id": "cfd8d3fb-0f0a-4586-be33-1440720f5e42",
   "metadata": {},
   "source": [
    "## Funciones para manipular `dataframes`"
   ]
  },
  {
   "cell_type": "code",
   "execution_count": 4,
   "id": "187c6764-ebc1-4ee0-b72e-a9c148e36f7b",
   "metadata": {},
   "outputs": [],
   "source": [
    "def dataframe_filter_object_columns(df: pd.DataFrame) -> pd.DataFrame:\n",
    "    \"\"\"\n",
    "    Dado un dataframe, devolvemos una COPIA de este en el que solo\n",
    "    nos quedamos con las columnas numericas\n",
    "    \n",
    "    @param df dataframe que se filtra. No se modifica\n",
    "    @return new_df dataframe copiado y que se ha filtrado\n",
    "    \"\"\"\n",
    "    \n",
    "    # No modificamos el dataframe que se pasa como parametro\n",
    "    new_df = df.copy()\n",
    "    \n",
    "    for column, column_type in zip(new_df.columns, new_df.dtypes):\n",
    "        if column_type == \"object\":\n",
    "            new_df = new_df.drop(columns = [column])\n",
    "                        \n",
    "    return new_df"
   ]
  },
  {
   "cell_type": "markdown",
   "id": "3048fc92-381b-41ea-b569-3fb2f0d31340",
   "metadata": {},
   "source": [
    "# Parámetros globales del Notebook"
   ]
  },
  {
   "cell_type": "code",
   "execution_count": 5,
   "id": "45b02468-a16d-46b9-9945-0cb39ad1c547",
   "metadata": {},
   "outputs": [],
   "source": [
    "# Fichero en el que vamos a guardar la prediccion actual\n",
    "# Es un fichero temporal, porque luego tendremos que nombrarlo y guardarlo en\n",
    "# el archivo enumerado correspondiente\n",
    "SUBMISSION_CSV = \"./tmp_submission.csv\""
   ]
  },
  {
   "cell_type": "markdown",
   "id": "e32c9a1f-f34c-468c-89a8-6bb4165f8a1c",
   "metadata": {},
   "source": [
    "# Cargamos los datos del problema"
   ]
  },
  {
   "cell_type": "code",
   "execution_count": 6,
   "id": "43e50477-d5e2-48c1-9d43-aca442291f6f",
   "metadata": {},
   "outputs": [],
   "source": [
    "# Cargamos los dos ficheros csv con los datos de entrenamiento\n",
    "base_path = \"..\"\n",
    "df = pd.read_csv(\"../data/training_set_features.csv\")\n",
    "df_labels = pd.read_csv(\"../data/training_set_labels.csv\")\n",
    "\n",
    "# Juntamos ambos dataframes en uno solo\n",
    "df = pd.concat([df, df_labels], axis = 1)\n",
    "df_labels = None\n",
    "\n",
    "# Tomamos los datos de test\n",
    "df_test = pd.read_csv(\"../data/test_set_features.csv\")"
   ]
  },
  {
   "cell_type": "markdown",
   "id": "84fcdd2a-650e-40ec-828d-97a4d89c9788",
   "metadata": {},
   "source": [
    "## Coloco los nombres de ciertas columnas en variables\n",
    "\n",
    "Esto para que sea más cómodo trabajar con ciertas columnas principales en el problema"
   ]
  },
  {
   "cell_type": "code",
   "execution_count": 7,
   "id": "3362ee48-8372-409e-9c20-c0fb425b932b",
   "metadata": {},
   "outputs": [],
   "source": [
    "h1n1_vac = \"h1n1_vaccine\"\n",
    "seas_vac = \"seasonal_vaccine\""
   ]
  },
  {
   "cell_type": "markdown",
   "id": "d0cc28b8-ea38-496c-b8c8-9c1577e2593a",
   "metadata": {},
   "source": [
    "# Análisis Exploratorio de datos"
   ]
  },
  {
   "cell_type": "code",
   "execution_count": 8,
   "id": "f6bb3533-6c96-41e0-97df-a68a453666a8",
   "metadata": {},
   "outputs": [
    {
     "data": {
      "text/html": [
       "<div>\n",
       "<style scoped>\n",
       "    .dataframe tbody tr th:only-of-type {\n",
       "        vertical-align: middle;\n",
       "    }\n",
       "\n",
       "    .dataframe tbody tr th {\n",
       "        vertical-align: top;\n",
       "    }\n",
       "\n",
       "    .dataframe thead th {\n",
       "        text-align: right;\n",
       "    }\n",
       "</style>\n",
       "<table border=\"1\" class=\"dataframe\">\n",
       "  <thead>\n",
       "    <tr style=\"text-align: right;\">\n",
       "      <th></th>\n",
       "      <th>respondent_id</th>\n",
       "      <th>h1n1_concern</th>\n",
       "      <th>h1n1_knowledge</th>\n",
       "      <th>behavioral_antiviral_meds</th>\n",
       "      <th>behavioral_avoidance</th>\n",
       "      <th>behavioral_face_mask</th>\n",
       "      <th>behavioral_wash_hands</th>\n",
       "      <th>behavioral_large_gatherings</th>\n",
       "      <th>behavioral_outside_home</th>\n",
       "      <th>behavioral_touch_face</th>\n",
       "      <th>...</th>\n",
       "      <th>opinion_h1n1_risk</th>\n",
       "      <th>opinion_h1n1_sick_from_vacc</th>\n",
       "      <th>opinion_seas_vacc_effective</th>\n",
       "      <th>opinion_seas_risk</th>\n",
       "      <th>opinion_seas_sick_from_vacc</th>\n",
       "      <th>household_adults</th>\n",
       "      <th>household_children</th>\n",
       "      <th>respondent_id</th>\n",
       "      <th>h1n1_vaccine</th>\n",
       "      <th>seasonal_vaccine</th>\n",
       "    </tr>\n",
       "  </thead>\n",
       "  <tbody>\n",
       "    <tr>\n",
       "      <th>count</th>\n",
       "      <td>26707.000000</td>\n",
       "      <td>26615.000000</td>\n",
       "      <td>26591.000000</td>\n",
       "      <td>26636.000000</td>\n",
       "      <td>26499.000000</td>\n",
       "      <td>26688.000000</td>\n",
       "      <td>26665.000000</td>\n",
       "      <td>26620.00000</td>\n",
       "      <td>26625.000000</td>\n",
       "      <td>26579.000000</td>\n",
       "      <td>...</td>\n",
       "      <td>26319.000000</td>\n",
       "      <td>26312.000000</td>\n",
       "      <td>26245.000000</td>\n",
       "      <td>26193.000000</td>\n",
       "      <td>26170.000000</td>\n",
       "      <td>26458.000000</td>\n",
       "      <td>26458.000000</td>\n",
       "      <td>26707.000000</td>\n",
       "      <td>26707.000000</td>\n",
       "      <td>26707.000000</td>\n",
       "    </tr>\n",
       "    <tr>\n",
       "      <th>mean</th>\n",
       "      <td>13353.000000</td>\n",
       "      <td>1.618486</td>\n",
       "      <td>1.262532</td>\n",
       "      <td>0.048844</td>\n",
       "      <td>0.725612</td>\n",
       "      <td>0.068982</td>\n",
       "      <td>0.825614</td>\n",
       "      <td>0.35864</td>\n",
       "      <td>0.337315</td>\n",
       "      <td>0.677264</td>\n",
       "      <td>...</td>\n",
       "      <td>2.342566</td>\n",
       "      <td>2.357670</td>\n",
       "      <td>4.025986</td>\n",
       "      <td>2.719162</td>\n",
       "      <td>2.118112</td>\n",
       "      <td>0.886499</td>\n",
       "      <td>0.534583</td>\n",
       "      <td>13353.000000</td>\n",
       "      <td>0.212454</td>\n",
       "      <td>0.465608</td>\n",
       "    </tr>\n",
       "    <tr>\n",
       "      <th>std</th>\n",
       "      <td>7709.791156</td>\n",
       "      <td>0.910311</td>\n",
       "      <td>0.618149</td>\n",
       "      <td>0.215545</td>\n",
       "      <td>0.446214</td>\n",
       "      <td>0.253429</td>\n",
       "      <td>0.379448</td>\n",
       "      <td>0.47961</td>\n",
       "      <td>0.472802</td>\n",
       "      <td>0.467531</td>\n",
       "      <td>...</td>\n",
       "      <td>1.285539</td>\n",
       "      <td>1.362766</td>\n",
       "      <td>1.086565</td>\n",
       "      <td>1.385055</td>\n",
       "      <td>1.332950</td>\n",
       "      <td>0.753422</td>\n",
       "      <td>0.928173</td>\n",
       "      <td>7709.791156</td>\n",
       "      <td>0.409052</td>\n",
       "      <td>0.498825</td>\n",
       "    </tr>\n",
       "    <tr>\n",
       "      <th>min</th>\n",
       "      <td>0.000000</td>\n",
       "      <td>0.000000</td>\n",
       "      <td>0.000000</td>\n",
       "      <td>0.000000</td>\n",
       "      <td>0.000000</td>\n",
       "      <td>0.000000</td>\n",
       "      <td>0.000000</td>\n",
       "      <td>0.00000</td>\n",
       "      <td>0.000000</td>\n",
       "      <td>0.000000</td>\n",
       "      <td>...</td>\n",
       "      <td>1.000000</td>\n",
       "      <td>1.000000</td>\n",
       "      <td>1.000000</td>\n",
       "      <td>1.000000</td>\n",
       "      <td>1.000000</td>\n",
       "      <td>0.000000</td>\n",
       "      <td>0.000000</td>\n",
       "      <td>0.000000</td>\n",
       "      <td>0.000000</td>\n",
       "      <td>0.000000</td>\n",
       "    </tr>\n",
       "    <tr>\n",
       "      <th>25%</th>\n",
       "      <td>6676.500000</td>\n",
       "      <td>1.000000</td>\n",
       "      <td>1.000000</td>\n",
       "      <td>0.000000</td>\n",
       "      <td>0.000000</td>\n",
       "      <td>0.000000</td>\n",
       "      <td>1.000000</td>\n",
       "      <td>0.00000</td>\n",
       "      <td>0.000000</td>\n",
       "      <td>0.000000</td>\n",
       "      <td>...</td>\n",
       "      <td>1.000000</td>\n",
       "      <td>1.000000</td>\n",
       "      <td>4.000000</td>\n",
       "      <td>2.000000</td>\n",
       "      <td>1.000000</td>\n",
       "      <td>0.000000</td>\n",
       "      <td>0.000000</td>\n",
       "      <td>6676.500000</td>\n",
       "      <td>0.000000</td>\n",
       "      <td>0.000000</td>\n",
       "    </tr>\n",
       "    <tr>\n",
       "      <th>50%</th>\n",
       "      <td>13353.000000</td>\n",
       "      <td>2.000000</td>\n",
       "      <td>1.000000</td>\n",
       "      <td>0.000000</td>\n",
       "      <td>1.000000</td>\n",
       "      <td>0.000000</td>\n",
       "      <td>1.000000</td>\n",
       "      <td>0.00000</td>\n",
       "      <td>0.000000</td>\n",
       "      <td>1.000000</td>\n",
       "      <td>...</td>\n",
       "      <td>2.000000</td>\n",
       "      <td>2.000000</td>\n",
       "      <td>4.000000</td>\n",
       "      <td>2.000000</td>\n",
       "      <td>2.000000</td>\n",
       "      <td>1.000000</td>\n",
       "      <td>0.000000</td>\n",
       "      <td>13353.000000</td>\n",
       "      <td>0.000000</td>\n",
       "      <td>0.000000</td>\n",
       "    </tr>\n",
       "    <tr>\n",
       "      <th>75%</th>\n",
       "      <td>20029.500000</td>\n",
       "      <td>2.000000</td>\n",
       "      <td>2.000000</td>\n",
       "      <td>0.000000</td>\n",
       "      <td>1.000000</td>\n",
       "      <td>0.000000</td>\n",
       "      <td>1.000000</td>\n",
       "      <td>1.00000</td>\n",
       "      <td>1.000000</td>\n",
       "      <td>1.000000</td>\n",
       "      <td>...</td>\n",
       "      <td>4.000000</td>\n",
       "      <td>4.000000</td>\n",
       "      <td>5.000000</td>\n",
       "      <td>4.000000</td>\n",
       "      <td>4.000000</td>\n",
       "      <td>1.000000</td>\n",
       "      <td>1.000000</td>\n",
       "      <td>20029.500000</td>\n",
       "      <td>0.000000</td>\n",
       "      <td>1.000000</td>\n",
       "    </tr>\n",
       "    <tr>\n",
       "      <th>max</th>\n",
       "      <td>26706.000000</td>\n",
       "      <td>3.000000</td>\n",
       "      <td>2.000000</td>\n",
       "      <td>1.000000</td>\n",
       "      <td>1.000000</td>\n",
       "      <td>1.000000</td>\n",
       "      <td>1.000000</td>\n",
       "      <td>1.00000</td>\n",
       "      <td>1.000000</td>\n",
       "      <td>1.000000</td>\n",
       "      <td>...</td>\n",
       "      <td>5.000000</td>\n",
       "      <td>5.000000</td>\n",
       "      <td>5.000000</td>\n",
       "      <td>5.000000</td>\n",
       "      <td>5.000000</td>\n",
       "      <td>3.000000</td>\n",
       "      <td>3.000000</td>\n",
       "      <td>26706.000000</td>\n",
       "      <td>1.000000</td>\n",
       "      <td>1.000000</td>\n",
       "    </tr>\n",
       "  </tbody>\n",
       "</table>\n",
       "<p>8 rows × 27 columns</p>\n",
       "</div>"
      ],
      "text/plain": [
       "       respondent_id  h1n1_concern  h1n1_knowledge  behavioral_antiviral_meds  \\\n",
       "count   26707.000000  26615.000000    26591.000000               26636.000000   \n",
       "mean    13353.000000      1.618486        1.262532                   0.048844   \n",
       "std      7709.791156      0.910311        0.618149                   0.215545   \n",
       "min         0.000000      0.000000        0.000000                   0.000000   \n",
       "25%      6676.500000      1.000000        1.000000                   0.000000   \n",
       "50%     13353.000000      2.000000        1.000000                   0.000000   \n",
       "75%     20029.500000      2.000000        2.000000                   0.000000   \n",
       "max     26706.000000      3.000000        2.000000                   1.000000   \n",
       "\n",
       "       behavioral_avoidance  behavioral_face_mask  behavioral_wash_hands  \\\n",
       "count          26499.000000          26688.000000           26665.000000   \n",
       "mean               0.725612              0.068982               0.825614   \n",
       "std                0.446214              0.253429               0.379448   \n",
       "min                0.000000              0.000000               0.000000   \n",
       "25%                0.000000              0.000000               1.000000   \n",
       "50%                1.000000              0.000000               1.000000   \n",
       "75%                1.000000              0.000000               1.000000   \n",
       "max                1.000000              1.000000               1.000000   \n",
       "\n",
       "       behavioral_large_gatherings  behavioral_outside_home  \\\n",
       "count                  26620.00000             26625.000000   \n",
       "mean                       0.35864                 0.337315   \n",
       "std                        0.47961                 0.472802   \n",
       "min                        0.00000                 0.000000   \n",
       "25%                        0.00000                 0.000000   \n",
       "50%                        0.00000                 0.000000   \n",
       "75%                        1.00000                 1.000000   \n",
       "max                        1.00000                 1.000000   \n",
       "\n",
       "       behavioral_touch_face  ...  opinion_h1n1_risk  \\\n",
       "count           26579.000000  ...       26319.000000   \n",
       "mean                0.677264  ...           2.342566   \n",
       "std                 0.467531  ...           1.285539   \n",
       "min                 0.000000  ...           1.000000   \n",
       "25%                 0.000000  ...           1.000000   \n",
       "50%                 1.000000  ...           2.000000   \n",
       "75%                 1.000000  ...           4.000000   \n",
       "max                 1.000000  ...           5.000000   \n",
       "\n",
       "       opinion_h1n1_sick_from_vacc  opinion_seas_vacc_effective  \\\n",
       "count                 26312.000000                 26245.000000   \n",
       "mean                      2.357670                     4.025986   \n",
       "std                       1.362766                     1.086565   \n",
       "min                       1.000000                     1.000000   \n",
       "25%                       1.000000                     4.000000   \n",
       "50%                       2.000000                     4.000000   \n",
       "75%                       4.000000                     5.000000   \n",
       "max                       5.000000                     5.000000   \n",
       "\n",
       "       opinion_seas_risk  opinion_seas_sick_from_vacc  household_adults  \\\n",
       "count       26193.000000                 26170.000000      26458.000000   \n",
       "mean            2.719162                     2.118112          0.886499   \n",
       "std             1.385055                     1.332950          0.753422   \n",
       "min             1.000000                     1.000000          0.000000   \n",
       "25%             2.000000                     1.000000          0.000000   \n",
       "50%             2.000000                     2.000000          1.000000   \n",
       "75%             4.000000                     4.000000          1.000000   \n",
       "max             5.000000                     5.000000          3.000000   \n",
       "\n",
       "       household_children  respondent_id  h1n1_vaccine  seasonal_vaccine  \n",
       "count        26458.000000   26707.000000  26707.000000      26707.000000  \n",
       "mean             0.534583   13353.000000      0.212454          0.465608  \n",
       "std              0.928173    7709.791156      0.409052          0.498825  \n",
       "min              0.000000       0.000000      0.000000          0.000000  \n",
       "25%              0.000000    6676.500000      0.000000          0.000000  \n",
       "50%              0.000000   13353.000000      0.000000          0.000000  \n",
       "75%              1.000000   20029.500000      0.000000          1.000000  \n",
       "max              3.000000   26706.000000      1.000000          1.000000  \n",
       "\n",
       "[8 rows x 27 columns]"
      ]
     },
     "execution_count": 8,
     "metadata": {},
     "output_type": "execute_result"
    }
   ],
   "source": [
    "df.describe()"
   ]
  },
  {
   "cell_type": "code",
   "execution_count": 9,
   "id": "8ea4bc3f-2041-40d9-8bfe-98828b1d352a",
   "metadata": {},
   "outputs": [
    {
     "name": "stdout",
     "output_type": "stream",
     "text": [
      "<class 'pandas.core.frame.DataFrame'>\n",
      "RangeIndex: 26707 entries, 0 to 26706\n",
      "Data columns (total 39 columns):\n",
      " #   Column                       Non-Null Count  Dtype  \n",
      "---  ------                       --------------  -----  \n",
      " 0   respondent_id                26707 non-null  int64  \n",
      " 1   h1n1_concern                 26615 non-null  float64\n",
      " 2   h1n1_knowledge               26591 non-null  float64\n",
      " 3   behavioral_antiviral_meds    26636 non-null  float64\n",
      " 4   behavioral_avoidance         26499 non-null  float64\n",
      " 5   behavioral_face_mask         26688 non-null  float64\n",
      " 6   behavioral_wash_hands        26665 non-null  float64\n",
      " 7   behavioral_large_gatherings  26620 non-null  float64\n",
      " 8   behavioral_outside_home      26625 non-null  float64\n",
      " 9   behavioral_touch_face        26579 non-null  float64\n",
      " 10  doctor_recc_h1n1             24547 non-null  float64\n",
      " 11  doctor_recc_seasonal         24547 non-null  float64\n",
      " 12  chronic_med_condition        25736 non-null  float64\n",
      " 13  child_under_6_months         25887 non-null  float64\n",
      " 14  health_worker                25903 non-null  float64\n",
      " 15  health_insurance             14433 non-null  float64\n",
      " 16  opinion_h1n1_vacc_effective  26316 non-null  float64\n",
      " 17  opinion_h1n1_risk            26319 non-null  float64\n",
      " 18  opinion_h1n1_sick_from_vacc  26312 non-null  float64\n",
      " 19  opinion_seas_vacc_effective  26245 non-null  float64\n",
      " 20  opinion_seas_risk            26193 non-null  float64\n",
      " 21  opinion_seas_sick_from_vacc  26170 non-null  float64\n",
      " 22  age_group                    26707 non-null  object \n",
      " 23  education                    25300 non-null  object \n",
      " 24  race                         26707 non-null  object \n",
      " 25  sex                          26707 non-null  object \n",
      " 26  income_poverty               22284 non-null  object \n",
      " 27  marital_status               25299 non-null  object \n",
      " 28  rent_or_own                  24665 non-null  object \n",
      " 29  employment_status            25244 non-null  object \n",
      " 30  hhs_geo_region               26707 non-null  object \n",
      " 31  census_msa                   26707 non-null  object \n",
      " 32  household_adults             26458 non-null  float64\n",
      " 33  household_children           26458 non-null  float64\n",
      " 34  employment_industry          13377 non-null  object \n",
      " 35  employment_occupation        13237 non-null  object \n",
      " 36  respondent_id                26707 non-null  int64  \n",
      " 37  h1n1_vaccine                 26707 non-null  int64  \n",
      " 38  seasonal_vaccine             26707 non-null  int64  \n",
      "dtypes: float64(23), int64(4), object(12)\n",
      "memory usage: 7.9+ MB\n"
     ]
    }
   ],
   "source": [
    "# TODO -- hacer el conteo de NAN values\n",
    "\n",
    "df.info()"
   ]
  },
  {
   "cell_type": "code",
   "execution_count": 10,
   "id": "75375a32-cf60-43b1-a650-93d89070b91e",
   "metadata": {},
   "outputs": [
    {
     "data": {
      "text/html": [
       "<div>\n",
       "<style scoped>\n",
       "    .dataframe tbody tr th:only-of-type {\n",
       "        vertical-align: middle;\n",
       "    }\n",
       "\n",
       "    .dataframe tbody tr th {\n",
       "        vertical-align: top;\n",
       "    }\n",
       "\n",
       "    .dataframe thead th {\n",
       "        text-align: right;\n",
       "    }\n",
       "</style>\n",
       "<table border=\"1\" class=\"dataframe\">\n",
       "  <thead>\n",
       "    <tr style=\"text-align: right;\">\n",
       "      <th></th>\n",
       "      <th>respondent_id</th>\n",
       "      <th>h1n1_concern</th>\n",
       "      <th>h1n1_knowledge</th>\n",
       "      <th>behavioral_antiviral_meds</th>\n",
       "      <th>behavioral_avoidance</th>\n",
       "      <th>behavioral_face_mask</th>\n",
       "      <th>behavioral_wash_hands</th>\n",
       "      <th>behavioral_large_gatherings</th>\n",
       "      <th>behavioral_outside_home</th>\n",
       "      <th>behavioral_touch_face</th>\n",
       "      <th>...</th>\n",
       "      <th>employment_status</th>\n",
       "      <th>hhs_geo_region</th>\n",
       "      <th>census_msa</th>\n",
       "      <th>household_adults</th>\n",
       "      <th>household_children</th>\n",
       "      <th>employment_industry</th>\n",
       "      <th>employment_occupation</th>\n",
       "      <th>respondent_id</th>\n",
       "      <th>h1n1_vaccine</th>\n",
       "      <th>seasonal_vaccine</th>\n",
       "    </tr>\n",
       "  </thead>\n",
       "  <tbody>\n",
       "    <tr>\n",
       "      <th>0</th>\n",
       "      <td>0</td>\n",
       "      <td>1.0</td>\n",
       "      <td>0.0</td>\n",
       "      <td>0.0</td>\n",
       "      <td>0.0</td>\n",
       "      <td>0.0</td>\n",
       "      <td>0.0</td>\n",
       "      <td>0.0</td>\n",
       "      <td>1.0</td>\n",
       "      <td>1.0</td>\n",
       "      <td>...</td>\n",
       "      <td>Not in Labor Force</td>\n",
       "      <td>oxchjgsf</td>\n",
       "      <td>Non-MSA</td>\n",
       "      <td>0.0</td>\n",
       "      <td>0.0</td>\n",
       "      <td>NaN</td>\n",
       "      <td>NaN</td>\n",
       "      <td>0</td>\n",
       "      <td>0</td>\n",
       "      <td>0</td>\n",
       "    </tr>\n",
       "    <tr>\n",
       "      <th>1</th>\n",
       "      <td>1</td>\n",
       "      <td>3.0</td>\n",
       "      <td>2.0</td>\n",
       "      <td>0.0</td>\n",
       "      <td>1.0</td>\n",
       "      <td>0.0</td>\n",
       "      <td>1.0</td>\n",
       "      <td>0.0</td>\n",
       "      <td>1.0</td>\n",
       "      <td>1.0</td>\n",
       "      <td>...</td>\n",
       "      <td>Employed</td>\n",
       "      <td>bhuqouqj</td>\n",
       "      <td>MSA, Not Principle  City</td>\n",
       "      <td>0.0</td>\n",
       "      <td>0.0</td>\n",
       "      <td>pxcmvdjn</td>\n",
       "      <td>xgwztkwe</td>\n",
       "      <td>1</td>\n",
       "      <td>0</td>\n",
       "      <td>1</td>\n",
       "    </tr>\n",
       "    <tr>\n",
       "      <th>2</th>\n",
       "      <td>2</td>\n",
       "      <td>1.0</td>\n",
       "      <td>1.0</td>\n",
       "      <td>0.0</td>\n",
       "      <td>1.0</td>\n",
       "      <td>0.0</td>\n",
       "      <td>0.0</td>\n",
       "      <td>0.0</td>\n",
       "      <td>0.0</td>\n",
       "      <td>0.0</td>\n",
       "      <td>...</td>\n",
       "      <td>Employed</td>\n",
       "      <td>qufhixun</td>\n",
       "      <td>MSA, Not Principle  City</td>\n",
       "      <td>2.0</td>\n",
       "      <td>0.0</td>\n",
       "      <td>rucpziij</td>\n",
       "      <td>xtkaffoo</td>\n",
       "      <td>2</td>\n",
       "      <td>0</td>\n",
       "      <td>0</td>\n",
       "    </tr>\n",
       "    <tr>\n",
       "      <th>3</th>\n",
       "      <td>3</td>\n",
       "      <td>1.0</td>\n",
       "      <td>1.0</td>\n",
       "      <td>0.0</td>\n",
       "      <td>1.0</td>\n",
       "      <td>0.0</td>\n",
       "      <td>1.0</td>\n",
       "      <td>1.0</td>\n",
       "      <td>0.0</td>\n",
       "      <td>0.0</td>\n",
       "      <td>...</td>\n",
       "      <td>Not in Labor Force</td>\n",
       "      <td>lrircsnp</td>\n",
       "      <td>MSA, Principle City</td>\n",
       "      <td>0.0</td>\n",
       "      <td>0.0</td>\n",
       "      <td>NaN</td>\n",
       "      <td>NaN</td>\n",
       "      <td>3</td>\n",
       "      <td>0</td>\n",
       "      <td>1</td>\n",
       "    </tr>\n",
       "    <tr>\n",
       "      <th>4</th>\n",
       "      <td>4</td>\n",
       "      <td>2.0</td>\n",
       "      <td>1.0</td>\n",
       "      <td>0.0</td>\n",
       "      <td>1.0</td>\n",
       "      <td>0.0</td>\n",
       "      <td>1.0</td>\n",
       "      <td>1.0</td>\n",
       "      <td>0.0</td>\n",
       "      <td>1.0</td>\n",
       "      <td>...</td>\n",
       "      <td>Employed</td>\n",
       "      <td>qufhixun</td>\n",
       "      <td>MSA, Not Principle  City</td>\n",
       "      <td>1.0</td>\n",
       "      <td>0.0</td>\n",
       "      <td>wxleyezf</td>\n",
       "      <td>emcorrxb</td>\n",
       "      <td>4</td>\n",
       "      <td>0</td>\n",
       "      <td>0</td>\n",
       "    </tr>\n",
       "  </tbody>\n",
       "</table>\n",
       "<p>5 rows × 39 columns</p>\n",
       "</div>"
      ],
      "text/plain": [
       "   respondent_id  h1n1_concern  h1n1_knowledge  behavioral_antiviral_meds  \\\n",
       "0              0           1.0             0.0                        0.0   \n",
       "1              1           3.0             2.0                        0.0   \n",
       "2              2           1.0             1.0                        0.0   \n",
       "3              3           1.0             1.0                        0.0   \n",
       "4              4           2.0             1.0                        0.0   \n",
       "\n",
       "   behavioral_avoidance  behavioral_face_mask  behavioral_wash_hands  \\\n",
       "0                   0.0                   0.0                    0.0   \n",
       "1                   1.0                   0.0                    1.0   \n",
       "2                   1.0                   0.0                    0.0   \n",
       "3                   1.0                   0.0                    1.0   \n",
       "4                   1.0                   0.0                    1.0   \n",
       "\n",
       "   behavioral_large_gatherings  behavioral_outside_home  \\\n",
       "0                          0.0                      1.0   \n",
       "1                          0.0                      1.0   \n",
       "2                          0.0                      0.0   \n",
       "3                          1.0                      0.0   \n",
       "4                          1.0                      0.0   \n",
       "\n",
       "   behavioral_touch_face  ...   employment_status  hhs_geo_region  \\\n",
       "0                    1.0  ...  Not in Labor Force        oxchjgsf   \n",
       "1                    1.0  ...            Employed        bhuqouqj   \n",
       "2                    0.0  ...            Employed        qufhixun   \n",
       "3                    0.0  ...  Not in Labor Force        lrircsnp   \n",
       "4                    1.0  ...            Employed        qufhixun   \n",
       "\n",
       "                 census_msa  household_adults  household_children  \\\n",
       "0                   Non-MSA               0.0                 0.0   \n",
       "1  MSA, Not Principle  City               0.0                 0.0   \n",
       "2  MSA, Not Principle  City               2.0                 0.0   \n",
       "3       MSA, Principle City               0.0                 0.0   \n",
       "4  MSA, Not Principle  City               1.0                 0.0   \n",
       "\n",
       "   employment_industry  employment_occupation  respondent_id  h1n1_vaccine  \\\n",
       "0                  NaN                    NaN              0             0   \n",
       "1             pxcmvdjn               xgwztkwe              1             0   \n",
       "2             rucpziij               xtkaffoo              2             0   \n",
       "3                  NaN                    NaN              3             0   \n",
       "4             wxleyezf               emcorrxb              4             0   \n",
       "\n",
       "   seasonal_vaccine  \n",
       "0                 0  \n",
       "1                 1  \n",
       "2                 0  \n",
       "3                 1  \n",
       "4                 0  \n",
       "\n",
       "[5 rows x 39 columns]"
      ]
     },
     "execution_count": 10,
     "metadata": {},
     "output_type": "execute_result"
    }
   ],
   "source": [
    "df.head()"
   ]
  },
  {
   "cell_type": "code",
   "execution_count": 11,
   "id": "fe12eb06-898b-48fc-871d-6760c1c5f333",
   "metadata": {},
   "outputs": [
    {
     "data": {
      "text/plain": [
       "respondent_id                    int64\n",
       "h1n1_concern                   float64\n",
       "h1n1_knowledge                 float64\n",
       "behavioral_antiviral_meds      float64\n",
       "behavioral_avoidance           float64\n",
       "behavioral_face_mask           float64\n",
       "behavioral_wash_hands          float64\n",
       "behavioral_large_gatherings    float64\n",
       "behavioral_outside_home        float64\n",
       "behavioral_touch_face          float64\n",
       "doctor_recc_h1n1               float64\n",
       "doctor_recc_seasonal           float64\n",
       "chronic_med_condition          float64\n",
       "child_under_6_months           float64\n",
       "health_worker                  float64\n",
       "health_insurance               float64\n",
       "opinion_h1n1_vacc_effective    float64\n",
       "opinion_h1n1_risk              float64\n",
       "opinion_h1n1_sick_from_vacc    float64\n",
       "opinion_seas_vacc_effective    float64\n",
       "opinion_seas_risk              float64\n",
       "opinion_seas_sick_from_vacc    float64\n",
       "age_group                       object\n",
       "education                       object\n",
       "race                            object\n",
       "sex                             object\n",
       "income_poverty                  object\n",
       "marital_status                  object\n",
       "rent_or_own                     object\n",
       "employment_status               object\n",
       "hhs_geo_region                  object\n",
       "census_msa                      object\n",
       "household_adults               float64\n",
       "household_children             float64\n",
       "employment_industry             object\n",
       "employment_occupation           object\n",
       "respondent_id                    int64\n",
       "h1n1_vaccine                     int64\n",
       "seasonal_vaccine                 int64\n",
       "dtype: object"
      ]
     },
     "execution_count": 11,
     "metadata": {},
     "output_type": "execute_result"
    }
   ],
   "source": [
    "df.dtypes"
   ]
  },
  {
   "cell_type": "markdown",
   "id": "a1bd3e38-7b51-47e0-bcde-be5a77289fd6",
   "metadata": {},
   "source": [
    "## Mostramos el balanceo de las dos clases que queremos predecir"
   ]
  },
  {
   "cell_type": "code",
   "execution_count": 12,
   "id": "1f4f3094-3d9d-42f3-a77c-e3fe0a709acb",
   "metadata": {},
   "outputs": [
    {
     "name": "stdout",
     "output_type": "stream",
     "text": [
      "Vacuna h1n1\n"
     ]
    },
    {
     "data": {
      "image/png": "[encoded data removed]",
      "text/plain": [
       "<Figure size 432x288 with 1 Axes>"
      ]
     },
     "metadata": {
      "needs_background": "light"
     },
     "output_type": "display_data"
    },
    {
     "name": "stdout",
     "output_type": "stream",
     "text": [
      "Vacuna seasonal\n"
     ]
    },
    {
     "data": {
      "image/png": "[encoded data removed]",
      "text/plain": [
       "<Figure size 432x288 with 1 Axes>"
      ]
     },
     "metadata": {
      "needs_background": "light"
     },
     "output_type": "display_data"
    }
   ],
   "source": [
    "print(\"Vacuna h1n1\")\n",
    "sns.countplot(data = df, x = h1n1_vac)\n",
    "plt.show()\n",
    "\n",
    "print(\"Vacuna seasonal\")\n",
    "sns.countplot(data = df, x = seas_vac)\n",
    "plt.show()"
   ]
  },
  {
   "cell_type": "markdown",
   "id": "6cff34c7-96cb-4908-b136-aae58b277376",
   "metadata": {},
   "source": [
    "## Mostramos el pairplot de todas las variables"
   ]
  },
  {
   "cell_type": "code",
   "execution_count": 13,
   "id": "129da748-46ed-4349-b034-a43476172ae0",
   "metadata": {},
   "outputs": [],
   "source": [
    "# TODO -- implementar"
   ]
  },
  {
   "cell_type": "markdown",
   "id": "9bf4fddd-4045-4a83-819b-8647472c3b16",
   "metadata": {},
   "source": [
    "# Pre-procesado de los datos"
   ]
  },
  {
   "cell_type": "markdown",
   "id": "09c7779d-375b-448c-ae2b-e478062d6497",
   "metadata": {},
   "source": [
    "## Borrado de la columna de identificación\n",
    "\n",
    "Esta columna no va a ser útil para nuestros modelos de *machine learning*. Por tanto, borramos esta columna del `dataframe`:"
   ]
  },
  {
   "cell_type": "code",
   "execution_count": 14,
   "id": "9fdea6e7-4816-44ec-ae8f-912a7bf86a70",
   "metadata": {},
   "outputs": [
    {
     "name": "stdout",
     "output_type": "stream",
     "text": [
      "   h1n1_concern  h1n1_knowledge  behavioral_antiviral_meds  \\\n",
      "0           1.0             0.0                        0.0   \n",
      "1           3.0             2.0                        0.0   \n",
      "2           1.0             1.0                        0.0   \n",
      "3           1.0             1.0                        0.0   \n",
      "4           2.0             1.0                        0.0   \n",
      "\n",
      "   behavioral_avoidance  behavioral_face_mask  behavioral_wash_hands  \\\n",
      "0                   0.0                   0.0                    0.0   \n",
      "1                   1.0                   0.0                    1.0   \n",
      "2                   1.0                   0.0                    0.0   \n",
      "3                   1.0                   0.0                    1.0   \n",
      "4                   1.0                   0.0                    1.0   \n",
      "\n",
      "   behavioral_large_gatherings  behavioral_outside_home  \\\n",
      "0                          0.0                      1.0   \n",
      "1                          0.0                      1.0   \n",
      "2                          0.0                      0.0   \n",
      "3                          1.0                      0.0   \n",
      "4                          1.0                      0.0   \n",
      "\n",
      "   behavioral_touch_face  doctor_recc_h1n1  ...  rent_or_own  \\\n",
      "0                    1.0               0.0  ...          Own   \n",
      "1                    1.0               0.0  ...         Rent   \n",
      "2                    0.0               NaN  ...          Own   \n",
      "3                    0.0               0.0  ...         Rent   \n",
      "4                    1.0               0.0  ...          Own   \n",
      "\n",
      "    employment_status  hhs_geo_region                census_msa  \\\n",
      "0  Not in Labor Force        oxchjgsf                   Non-MSA   \n",
      "1            Employed        bhuqouqj  MSA, Not Principle  City   \n",
      "2            Employed        qufhixun  MSA, Not Principle  City   \n",
      "3  Not in Labor Force        lrircsnp       MSA, Principle City   \n",
      "4            Employed        qufhixun  MSA, Not Principle  City   \n",
      "\n",
      "   household_adults  household_children  employment_industry  \\\n",
      "0               0.0                 0.0                  NaN   \n",
      "1               0.0                 0.0             pxcmvdjn   \n",
      "2               2.0                 0.0             rucpziij   \n",
      "3               0.0                 0.0                  NaN   \n",
      "4               1.0                 0.0             wxleyezf   \n",
      "\n",
      "   employment_occupation  h1n1_vaccine  seasonal_vaccine  \n",
      "0                    NaN             0                 0  \n",
      "1               xgwztkwe             0                 1  \n",
      "2               xtkaffoo             0                 0  \n",
      "3                    NaN             0                 1  \n",
      "4               emcorrxb             0                 0  \n",
      "\n",
      "[5 rows x 37 columns]\n"
     ]
    }
   ],
   "source": [
    "# Borramos esta columna para el training\n",
    "df = df.drop(['respondent_id'], axis=1)\n",
    "pprint(df.head())\n",
    "\n",
    "# Borramos esa columna tambien para el test\n",
    "df_test = df_test.drop(['respondent_id'], axis=1)"
   ]
  },
  {
   "cell_type": "markdown",
   "id": "41bd80f2-ed8a-4952-82d2-22f5b96d025a",
   "metadata": {},
   "source": [
    "## Combinamos las dos variables de salida en una única\n",
    "\n",
    "Hacemos esto para, más adelante, poder separar en training / validation estratificando por las dos variables de salida a la vez"
   ]
  },
  {
   "cell_type": "code",
   "execution_count": 15,
   "id": "80761db8-9cc0-45eb-a82c-dae4b8dcdb8e",
   "metadata": {},
   "outputs": [],
   "source": [
    "combined = \"combined\"\n",
    "\n",
    "def combine_two_objective_functions(h1n1, seasonal):\n",
    "    \"\"\"\n",
    "    Funcion que toma los valores de las dos variables objetivo, y las combina en una sola\n",
    "    \"\"\"\n",
    "    \n",
    "    mapping = dict()\n",
    "    mapping[0, 0] = 0\n",
    "    mapping[0, 1] = 1\n",
    "    mapping[1, 0] = 2\n",
    "    mapping[1, 1] = 3\n",
    "    \n",
    "    return mapping[h1n1, seasonal]\n",
    "\n",
    "df[combined] = df.apply(lambda row: combine_two_objective_functions(row[h1n1_vac], row[seas_vac]), axis = 1)"
   ]
  },
  {
   "cell_type": "markdown",
   "id": "09d3ec09-08b4-4725-8094-7f74460d3467",
   "metadata": {
    "tags": []
   },
   "source": [
    "## Pasamos todas las variables a variables numéricas"
   ]
  },
  {
   "cell_type": "markdown",
   "id": "03a7f20b-3c75-4548-bf9e-9156cc9a471b",
   "metadata": {},
   "source": [
    "Vamos a usar modelos que solo trabajan con variables numéricas, así que convertimos todas las columnas a numéricas. Para ello, recorremos los tipos de las columnas. Si nos encontramos con una columna de tipo `object`, la convertimos a numérica:"
   ]
  },
  {
   "cell_type": "code",
   "execution_count": 16,
   "id": "c838730a-fd9a-49a9-b2e5-cbdf1064631f",
   "metadata": {},
   "outputs": [
    {
     "data": {
      "text/plain": [
       "[dtype('int64'), dtype('float64')]"
      ]
     },
     "execution_count": 16,
     "metadata": {},
     "output_type": "execute_result"
    }
   ],
   "source": [
    "# TODO -- en vez de filtrar, convertir a numerico\n",
    "df = dataframe_filter_object_columns(df)\n",
    "df_test = dataframe_filter_object_columns(df_test)\n",
    "list(set(df.dtypes))"
   ]
  },
  {
   "cell_type": "markdown",
   "id": "0ce53732-f7df-4390-98b2-6b7ddb32f5d8",
   "metadata": {},
   "source": [
    "## Separamos el dataframe en training y validation"
   ]
  },
  {
   "cell_type": "markdown",
   "id": "b3e3ea32-cd34-4156-8cbc-701a7479e44c",
   "metadata": {},
   "source": [
    "Separamos en training y validation. validation y no test porque el test es el que nos da la competición. Además, validation porque vamos a usar la informaión sobre este conjunto para ajustar nuestros modelos."
   ]
  },
  {
   "cell_type": "code",
   "execution_count": 17,
   "id": "0b3ea3c7-9088-4ab9-a8dc-2148ef9324fc",
   "metadata": {},
   "outputs": [],
   "source": [
    "train, validation = train_test_split(df, test_size=0.2, stratify = df[combined])"
   ]
  },
  {
   "cell_type": "markdown",
   "id": "e9bdfd15-ac26-4441-aacc-6e6121ade10f",
   "metadata": {},
   "source": [
    "## Borramos la variable combinada\n",
    "\n",
    "Ya ha cumplido su propósito: ser la variable de estratificación. Así que la borramos pues no vamos a usar más esta variable"
   ]
  },
  {
   "cell_type": "code",
   "execution_count": 18,
   "id": "3b708e6c-df1d-4c3b-a91e-c808e09821c1",
   "metadata": {},
   "outputs": [],
   "source": [
    "train = train.drop(columns = [combined])\n",
    "validation = validation.drop(columns = [combined])"
   ]
  },
  {
   "cell_type": "markdown",
   "id": "5278b07b-fce7-4aa8-bc22-a7c86206a2aa",
   "metadata": {},
   "source": [
    "## Separamos el dataframe en x, y arrays"
   ]
  },
  {
   "cell_type": "code",
   "execution_count": 19,
   "id": "b149834a-b04e-4ace-b6e4-dde05825552d",
   "metadata": {},
   "outputs": [],
   "source": [
    "all_columns = train.columns\n",
    "train_columns = list(all_columns)\n",
    "train_columns.remove(h1n1_vac)\n",
    "train_columns.remove(seas_vac)\n",
    "\n",
    "# Separamos segun las columnas del dataframe\n",
    "x_train, y_train = train[train_columns], train[[h1n1_vac, seas_vac]]\n",
    "x_validation, y_validation = validation[train_columns], train[[h1n1_vac, seas_vac]]\n",
    "\n",
    "# Lo convertimos a arrays de numpy\n",
    "x_train, y_train = np.array(x_train), np.array(y_train)\n",
    "x_validation, y_validation = np.array(x_validation), np.array(y_validation)\n",
    "x_test = np.array(df_test)\n",
    "\n",
    "# Hacemos reshape para que los modelos funcionen bien\n",
    "#y_train = y_train.reshape(y_train.shape[0] * y_train.shape[1])\n",
    "#y_validation = y_validation.reshape(y_validation.shape[0] * y_validation.shape[1])"
   ]
  },
  {
   "cell_type": "markdown",
   "id": "3166e8c6-af5f-428a-9225-e956b39b1d2d",
   "metadata": {},
   "source": [
    "## Imputación de los missing values\n",
    "\n",
    "Notar que no usamos los datos de salida para realizar la imputación."
   ]
  },
  {
   "cell_type": "code",
   "execution_count": 20,
   "id": "81cd15c8-698c-48cf-8329-cacc997d4b13",
   "metadata": {},
   "outputs": [
    {
     "name": "stdout",
     "output_type": "stream",
     "text": [
      "Tamaño previo de entrenamiento: (21365, 23)\n",
      "Tamaño previo de test: (26708, 23)\n",
      "Tamaño posterior de entrenamiento: (21365, 23)\n",
      "Tamaño posterior de test: (26708, 23)\n"
     ]
    }
   ],
   "source": [
    "print(f\"Tamaño previo de entrenamiento: {x_train.shape}\")\n",
    "print(f\"Tamaño previo de test: {x_test.shape}\")\n",
    "\n",
    "# Calculamos la imputacion para los valores perdidos\n",
    "imputer = SimpleImputer(missing_values=np.nan, strategy='median')\n",
    "imputer.fit(x_train)\n",
    "\n",
    "# TODO -- usar un imputador mejor\n",
    "# Aplicamos la imputacion calculada sobre el conjunto de test sobre el resto\n",
    "# de conjuntos\n",
    "x_train = pd.DataFrame(imputer.transform(x_train))\n",
    "x_validation = pd.DataFrame(imputer.transform(x_validation))\n",
    "x_test = pd.DataFrame(imputer.transform(x_test))\n",
    "\n",
    "print(f\"Tamaño posterior de entrenamiento: {x_train.shape}\")\n",
    "print(f\"Tamaño posterior de test: {x_test.shape}\")"
   ]
  },
  {
   "cell_type": "markdown",
   "id": "73920222-b79a-46b9-840a-8a995062174a",
   "metadata": {},
   "source": [
    "# Ajuste del modelo"
   ]
  },
  {
   "cell_type": "markdown",
   "id": "269655f6-4468-47da-ab42-1679c4ae3a99",
   "metadata": {},
   "source": [
    "Tenemos un modelo que ajustar según el valor de la variable combinada:"
   ]
  },
  {
   "cell_type": "code",
   "execution_count": 21,
   "id": "837719b9-783c-4eac-a655-0742345f31dc",
   "metadata": {},
   "outputs": [
    {
     "data": {
      "text/plain": [
       "MultiOutputClassifier(estimator=LogisticRegression(C=1))"
      ]
     },
     "execution_count": 21,
     "metadata": {},
     "output_type": "execute_result"
    }
   ],
   "source": [
    "model = MultiOutputClassifier(\n",
    "    estimator=LogisticRegression(penalty=\"l2\", C=1)\n",
    ")\n",
    "model.fit(x_train, y_train)"
   ]
  },
  {
   "cell_type": "markdown",
   "id": "1f8a90db-33a3-4103-bc76-23424a4e7617",
   "metadata": {},
   "source": [
    "# Evaluamos el clasificador en el conjunto de test"
   ]
  },
  {
   "cell_type": "code",
   "execution_count": 22,
   "id": "77006235-f796-4249-8e6c-9a90e0a03751",
   "metadata": {},
   "outputs": [],
   "source": [
    "#metrics = evaluate_model(model, x_train, y_train, x_validation, y_validation)\n",
    "#pprint(metrics)"
   ]
  },
  {
   "cell_type": "markdown",
   "id": "96c9e5bf-39dd-4d43-9a72-5d40f85a3111",
   "metadata": {},
   "source": [
    "# Entrenamos sobre todo el conjunto de datos "
   ]
  },
  {
   "cell_type": "code",
   "execution_count": 23,
   "id": "b39529cd-5d92-43cb-9dbb-6707b8a21be9",
   "metadata": {},
   "outputs": [],
   "source": [
    "# TODO -- implementar esto"
   ]
  },
  {
   "cell_type": "markdown",
   "id": "434387dd-8d40-417d-892c-c17654ccbf0a",
   "metadata": {},
   "source": [
    "# Realizamos la propuesta que subimos a DrivenData"
   ]
  },
  {
   "cell_type": "markdown",
   "id": "5a5a549a-f422-4c9e-bc8a-087fbfc50644",
   "metadata": {},
   "source": [
    "## Evaluamos el conjunto de test con nuestro modelo"
   ]
  },
  {
   "cell_type": "code",
   "execution_count": 24,
   "id": "34aa77ae-47a6-4322-8d91-a91d7539c3dc",
   "metadata": {},
   "outputs": [],
   "source": [
    "x_test = np.array(x_test)\n",
    "submission = generate_submission(model, x_test)"
   ]
  },
  {
   "cell_type": "markdown",
   "id": "4df5408f-7bcc-4d92-86af-cd4196243281",
   "metadata": {},
   "source": [
    "## Guardamos los resultados en un .csv"
   ]
  },
  {
   "cell_type": "code",
   "execution_count": 25,
   "id": "fa730290-7180-4c8e-aa41-8f07f97eb653",
   "metadata": {},
   "outputs": [],
   "source": [
    "# Trabajamos con un dataframe para que sea facil guardar los datos en un .csv\n",
    "submission_df = pd.read_csv(\"../data/submission_format.csv\")\n",
    "\n",
    "# Nos aseguramos de que los datos esten en el mismo orden\n",
    "np.testing.assert_array_equal(df_test.index.values, submission_df.index.values)\n",
    "\n",
    "# Guardamos los resultados en el dataframe\n",
    "submission_df[\"h1n1_vaccine\"] = submission[0][:, 1]\n",
    "submission_df[\"seasonal_vaccine\"] = submission[1][:, 1]\n",
    "\n",
    "# Guardamos el dataframe en un ficher csv\n",
    "submission_df.to_csv(SUBMISSION_CSV, index=False)"
   ]
  },
  {
   "cell_type": "code",
   "execution_count": 26,
   "id": "dda8c1c1-040d-49cc-a002-ca69b0e478ab",
   "metadata": {},
   "outputs": [
    {
     "data": {
      "text/html": [
       "<div>\n",
       "<style scoped>\n",
       "    .dataframe tbody tr th:only-of-type {\n",
       "        vertical-align: middle;\n",
       "    }\n",
       "\n",
       "    .dataframe tbody tr th {\n",
       "        vertical-align: top;\n",
       "    }\n",
       "\n",
       "    .dataframe thead th {\n",
       "        text-align: right;\n",
       "    }\n",
       "</style>\n",
       "<table border=\"1\" class=\"dataframe\">\n",
       "  <thead>\n",
       "    <tr style=\"text-align: right;\">\n",
       "      <th></th>\n",
       "      <th>respondent_id</th>\n",
       "      <th>h1n1_vaccine</th>\n",
       "      <th>seasonal_vaccine</th>\n",
       "    </tr>\n",
       "  </thead>\n",
       "  <tbody>\n",
       "    <tr>\n",
       "      <th>0</th>\n",
       "      <td>26707</td>\n",
       "      <td>0.126387</td>\n",
       "      <td>0.424845</td>\n",
       "    </tr>\n",
       "    <tr>\n",
       "      <th>1</th>\n",
       "      <td>26708</td>\n",
       "      <td>0.054528</td>\n",
       "      <td>0.072527</td>\n",
       "    </tr>\n",
       "    <tr>\n",
       "      <th>2</th>\n",
       "      <td>26709</td>\n",
       "      <td>0.368434</td>\n",
       "      <td>0.641929</td>\n",
       "    </tr>\n",
       "    <tr>\n",
       "      <th>3</th>\n",
       "      <td>26710</td>\n",
       "      <td>0.468506</td>\n",
       "      <td>0.800905</td>\n",
       "    </tr>\n",
       "    <tr>\n",
       "      <th>4</th>\n",
       "      <td>26711</td>\n",
       "      <td>0.294304</td>\n",
       "      <td>0.646286</td>\n",
       "    </tr>\n",
       "  </tbody>\n",
       "</table>\n",
       "</div>"
      ],
      "text/plain": [
       "   respondent_id  h1n1_vaccine  seasonal_vaccine\n",
       "0          26707      0.126387          0.424845\n",
       "1          26708      0.054528          0.072527\n",
       "2          26709      0.368434          0.641929\n",
       "3          26710      0.468506          0.800905\n",
       "4          26711      0.294304          0.646286"
      ]
     },
     "execution_count": 26,
     "metadata": {},
     "output_type": "execute_result"
    }
   ],
   "source": [
    "submission_df.head()"
   ]
  }
 ],
 "metadata": {
  "kernelspec": {
   "display_name": "Python 3 (ipykernel)",
   "language": "python",
   "name": "python3"
  },
  "language_info": {
   "codemirror_mode": {
    "name": "ipython",
    "version": 3
   },
   "file_extension": ".py",
   "mimetype": "text/x-python",
   "name": "python",
   "nbconvert_exporter": "python",
   "pygments_lexer": "ipython3",
   "version": "3.10.1"
  }
 },
 "nbformat": 4,
 "nbformat_minor": 5
}
